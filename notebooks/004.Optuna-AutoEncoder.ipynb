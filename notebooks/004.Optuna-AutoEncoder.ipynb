{
 "cells": [
  {
   "cell_type": "markdown",
   "id": "209bb68c",
   "metadata": {},
   "source": [
    "# DO NOT RUN IT ON A LOCAL MACHINE!"
   ]
  },
  {
   "cell_type": "code",
   "execution_count": null,
   "id": "fec69fd2",
   "metadata": {},
   "outputs": [],
   "source": [
    "import random \n",
    "from types import SimpleNamespace\n",
    "\n",
    "import pandas as pd\n",
    "import seaborn as sns\n",
    "import matplotlib.pyplot as plt\n",
    "\n",
    "import numpy as np\n",
    "\n",
    "import torch\n",
    "from torch.utils.data import DataLoader\n",
    "\n",
    "from sklearn.model_selection import train_test_split\n",
    "from sklearn.preprocessing import MinMaxScaler\n",
    "\n",
    "import optuna\n",
    "import itertools\n",
    "\n",
    "import warnings\n",
    "warnings.filterwarnings(\"ignore\")"
   ]
  },
  {
   "cell_type": "code",
   "execution_count": null,
   "id": "8ef9ebca",
   "metadata": {},
   "outputs": [],
   "source": [
    "import sys\n",
    "import os\n",
    "from pathlib import Path\n",
    "\n",
    "parent = Path(os.path.abspath(\"\")).resolve().parents[0]\n",
    "if parent not in sys.path:\n",
    "    sys.path.insert(0, str(parent))\n",
    "    \n",
    "from ml.utils.data_utils import TorchDataset\n",
    "from ml.utils.metrics import get_classification_metrics, get_probability_measures, get_lift_demotion_scores\n",
    "\n",
    "from ml.models.autoencoder import AutoEncoder\n",
    "from ml.models.mlp import MLP"
   ]
  },
  {
   "cell_type": "code",
   "execution_count": null,
   "id": "d08f9347",
   "metadata": {},
   "outputs": [],
   "source": [
    "random.seed(0)\n",
    "np.random.seed(0)\n",
    "torch.manual_seed(0)\n",
    "torch.cuda.manual_seed_all(0)\n",
    "torch.backends.cudnn.deterministic = True\n",
    "torch.backends.cudnn.benchmark = False"
   ]
  },
  {
   "cell_type": "code",
   "execution_count": null,
   "id": "7fd5c08d",
   "metadata": {},
   "outputs": [],
   "source": [
    "def merge_strings_and_integers(val):\n",
    "    try:\n",
    "        return int(val)\n",
    "    except:\n",
    "        return 'other'"
   ]
  },
  {
   "cell_type": "code",
   "execution_count": null,
   "id": "87cad576",
   "metadata": {},
   "outputs": [],
   "source": [
    "df = pd.read_csv(\"final_autof.csv\")\n",
    "df.drop([\n",
    "    'MODE(consumptions.MS_METER_NBR)',\n",
    "    'MODE(representations.SUPPLIER)',\n",
    "    'MODE(representations.SUPPLIER_TO)',\n",
    "], axis=1, inplace=True)\n",
    "df.dropna(subset=['number_of_zeros'], inplace=True)\n",
    "\n",
    "\n",
    "df['MODE(consumptions.BS_RATE)'] = df['MODE(consumptions.BS_RATE)'].apply(merge_strings_and_integers)\n",
    "df = df.drop(['rec_id'], axis=1)\n",
    "df = df.drop_duplicates()\n",
    "df['MODE(requests.REQUEST_TYPE)'] = df['MODE(requests.REQUEST_TYPE)'].replace(0, 'unknown')\n",
    "df = pd.get_dummies(df, columns=['MODE(requests.REQUEST_TYPE)'], prefix='MODE(requests.REQUEST_TYPE)')\n",
    "df = pd.get_dummies(df, columns=['MODE(consumptions.BS_RATE)'], prefix='MODE(consumptions.BS_RATE)')\n",
    "df = df.drop(['voltage'], axis=1)\n",
    "df.fillna(0, inplace=True)\n",
    "df.head()"
   ]
  },
  {
   "cell_type": "code",
   "execution_count": null,
   "id": "3f7d5462",
   "metadata": {},
   "outputs": [],
   "source": [
    "df = df.drop_duplicates()\n",
    "print(len(df.loc[df.target == 1]))\n",
    "df.head()"
   ]
  },
  {
   "cell_type": "code",
   "execution_count": null,
   "id": "67731c21",
   "metadata": {},
   "outputs": [],
   "source": [
    "print(\"Bincount of y:\", df['target'].value_counts())"
   ]
  },
  {
   "cell_type": "code",
   "execution_count": null,
   "id": "b9a428a8",
   "metadata": {},
   "outputs": [],
   "source": []
  },
  {
   "cell_type": "code",
   "execution_count": null,
   "id": "d1ba1fe8",
   "metadata": {},
   "outputs": [],
   "source": [
    "train, val = train_test_split(\n",
    "    df, test_size=0.2, \n",
    "    random_state=42, shuffle=True, \n",
    "    stratify=df.target.values)"
   ]
  },
  {
   "cell_type": "code",
   "execution_count": null,
   "id": "9eed5ddc",
   "metadata": {},
   "outputs": [],
   "source": [
    "train.target.value_counts(), val.target.value_counts()"
   ]
  },
  {
   "cell_type": "code",
   "execution_count": null,
   "id": "e1f8a70f",
   "metadata": {},
   "outputs": [],
   "source": []
  },
  {
   "cell_type": "code",
   "execution_count": null,
   "id": "9d6a9d30",
   "metadata": {},
   "outputs": [],
   "source": []
  },
  {
   "cell_type": "code",
   "execution_count": null,
   "id": "902208a4",
   "metadata": {},
   "outputs": [],
   "source": [
    "X_train = train.drop('target', axis=1)\n",
    "y_train = train['target']\n",
    "X_val = val.drop('target', axis=1)\n",
    "y_val = val['target']"
   ]
  },
  {
   "cell_type": "code",
   "execution_count": null,
   "id": "a3c8e1e1",
   "metadata": {},
   "outputs": [],
   "source": [
    "scaler = MinMaxScaler()\n",
    "scaler.fit(X_train)\n",
    "\n",
    "X_train = scaler.transform(X_train)\n",
    "X_val = scaler.transform(X_val)"
   ]
  },
  {
   "cell_type": "code",
   "execution_count": null,
   "id": "43589063",
   "metadata": {},
   "outputs": [],
   "source": [
    "train_dataset = TorchDataset(\n",
    "    X=torch.tensor(X_train).float(),\n",
    "    y=torch.tensor(y_train.to_numpy()).float()\n",
    ")  # reconstruction\n",
    "val_dataset = TorchDataset(\n",
    "    X=torch.tensor(X_val).float(),\n",
    "    y=torch.tensor(y_val.to_numpy()).float()\n",
    ")"
   ]
  },
  {
   "cell_type": "code",
   "execution_count": null,
   "id": "1ff36bb5",
   "metadata": {},
   "outputs": [],
   "source": [
    "np.bincount(y_train), np.bincount(y_val)"
   ]
  },
  {
   "cell_type": "code",
   "execution_count": null,
   "id": "1f62e258",
   "metadata": {},
   "outputs": [],
   "source": [
    "train_loader = DataLoader(\n",
    "    train_dataset, batch_size=512, shuffle=False\n",
    ")\n",
    "val_loader = DataLoader(\n",
    "    val_dataset, batch_size=512, shuffle=False\n",
    ")"
   ]
  },
  {
   "cell_type": "code",
   "execution_count": null,
   "id": "4c88d4b9",
   "metadata": {},
   "outputs": [],
   "source": [
    "iterable = [4, 8, 16, 32, 64]\n",
    "combinations = []\n",
    "for r in range(1, len(iterable) + 1):\n",
    "    combinations.extend([list(x) for x in itertools.combinations(iterable=iterable, r=r)])\n",
    "print(combinations)"
   ]
  },
  {
   "cell_type": "code",
   "execution_count": null,
   "id": "148b9c70",
   "metadata": {},
   "outputs": [],
   "source": [
    "iterable2 = [16, 32, 64, 128]\n",
    "combinations2 = []\n",
    "for r in range(1, len(iterable2) + 1):\n",
    "    combinations2.extend([list(x) for x in itertools.combinations(iterable=iterable2, r=r)])\n",
    "print(combinations2)"
   ]
  },
  {
   "cell_type": "code",
   "execution_count": null,
   "id": "76c823c4",
   "metadata": {},
   "outputs": [],
   "source": [
    "def objective(trial):\n",
    "    hidden_units = trial.suggest_categorical('units', choices=combinations)\n",
    "    hidden_units2 = trial.suggest_categorical('units2', choices=combinations2)\n",
    "    lr = trial.suggest_float('lr', 1e-4, 1e-2, log=True)\n",
    "    weight_decay = trial.suggest_float('weight_decay', 1e-6, 1e-3, log=True)\n",
    "    \n",
    "    encoder = MLP(\n",
    "        in_size = X_train.shape[1],\n",
    "        layer_units = hidden_units[:-1],\n",
    "        out_size=hidden_units[-1],\n",
    "        vae=False\n",
    "    )\n",
    "    \n",
    "    decoder_units = hidden_units[:]\n",
    "    decoder_units.reverse()\n",
    "    \n",
    "    decoder = MLP(\n",
    "        in_size = decoder_units[0],\n",
    "        layer_units = decoder_units[1:],\n",
    "        out_size=X_train.shape[1],    \n",
    "    )\n",
    "    \n",
    "    classifier = MLP(\n",
    "        in_size=X_train.shape[1],\n",
    "        layer_units = hidden_units2,\n",
    "        out_size=1,\n",
    "        init_weights=False\n",
    "    )\n",
    "    model = AutoEncoder(encoder, decoder, classifier=classifier) # make it an AutoEncoder-based classifier.\n",
    "    # print(model)\n",
    "    \n",
    "    optimizer = torch.optim.Adam(model.parameters(), \n",
    "                                 lr=lr, weight_decay=weight_decay)\n",
    "    \n",
    "    criterion = torch.nn.BCEWithLogitsLoss()\n",
    "    device = 'cuda' if torch.cuda.is_available() else 'cpu'\n",
    "    args = dict(\n",
    "        model=model,\n",
    "        train_loader=train_loader, \n",
    "        test_loader=val_loader,\n",
    "        epochs=100, \n",
    "        optimizer=optimizer, \n",
    "        criterion=criterion,\n",
    "        reconstruction=False,\n",
    "        vae=False,\n",
    "        device=device,\n",
    "        verbose=True, \n",
    "        return_best=True,\n",
    "        plot_history=True,\n",
    "        num_test_samples=100\n",
    "    )\n",
    "    args = SimpleNamespace(**args)\n",
    "    model = model.fit(args)\n",
    "    \n",
    "    args = dict(\n",
    "        model=model,\n",
    "        data_loader=val_loader,\n",
    "        criterion=criterion,\n",
    "        reconstruction=False,\n",
    "        num_samples=100,\n",
    "        device=device\n",
    "    )\n",
    "    args = SimpleNamespace(**args)\n",
    "    aux = model.predict(args)\n",
    "    \n",
    "    weighted_score = aux[-1]\n",
    "    \n",
    "    return weighted_score"
   ]
  },
  {
   "cell_type": "code",
   "execution_count": null,
   "id": "2ef313a9",
   "metadata": {},
   "outputs": [],
   "source": [
    "study = optuna.create_study(direction=\"maximize\")\n",
    "study.optimize(objective, n_trials=50)\n",
    "print(\"  Number of finished trials: \", len(study.trials))"
   ]
  },
  {
   "cell_type": "code",
   "execution_count": null,
   "id": "cff8ebb6",
   "metadata": {},
   "outputs": [],
   "source": [
    "print(\"Best trial:\")\n",
    "trial = study.best_trial\n",
    "print(\"  Value: \", trial.value)\n",
    "print(\"  Params: \")\n",
    "for key, value in trial.params.items():\n",
    "    print(\"    {}: {}\".format(key, value))"
   ]
  }
 ],
 "metadata": {
  "kernelspec": {
   "display_name": "Python 3 (ipykernel)",
   "language": "python",
   "name": "python3"
  },
  "language_info": {
   "codemirror_mode": {
    "name": "ipython",
    "version": 3
   },
   "file_extension": ".py",
   "mimetype": "text/x-python",
   "name": "python",
   "nbconvert_exporter": "python",
   "pygments_lexer": "ipython3",
   "version": "3.10.9"
  }
 },
 "nbformat": 4,
 "nbformat_minor": 5
}

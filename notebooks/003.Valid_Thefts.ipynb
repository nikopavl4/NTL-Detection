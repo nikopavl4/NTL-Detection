{
 "cells": [
  {
   "cell_type": "code",
   "execution_count": 1,
   "id": "3e0d7b68",
   "metadata": {},
   "outputs": [],
   "source": [
    "import pandas as pd\n",
    "import matplotlib.pyplot as plt\n",
    "import seaborn as sns\n",
    "import numpy as np\n",
    "from dateutil import parser\n",
    "from datetime import datetime\n",
    "import json\n",
    "from IPython.display import display\n",
    "import statistics"
   ]
  },
  {
   "cell_type": "code",
   "execution_count": null,
   "id": "63d8725d",
   "metadata": {},
   "outputs": [],
   "source": []
  },
  {
   "cell_type": "code",
   "execution_count": 2,
   "id": "b1ac6c07",
   "metadata": {},
   "outputs": [],
   "source": [
    "df1 = pd.read_csv(\"../dataset/TRAIN_Consumptions.csv\")\n",
    "df1['MEASUREMENT_DATE'] = pd.to_datetime(df1['MEASUREMENT_DATE'])"
   ]
  },
  {
   "cell_type": "code",
   "execution_count": 3,
   "id": "6f6fb47b",
   "metadata": {},
   "outputs": [],
   "source": [
    "df2 = pd.read_csv(\"../dataset/TRAIN_PowerThefts.csv\")"
   ]
  },
  {
   "cell_type": "code",
   "execution_count": 4,
   "id": "7d07e828",
   "metadata": {},
   "outputs": [],
   "source": [
    "df2 = df2.sort_values(by='ACCT_NBR')"
   ]
  },
  {
   "cell_type": "code",
   "execution_count": null,
   "id": "43897b22",
   "metadata": {},
   "outputs": [],
   "source": []
  },
  {
   "cell_type": "code",
   "execution_count": 5,
   "id": "074c5457",
   "metadata": {},
   "outputs": [],
   "source": [
    "thefts_df = df2.copy()\n",
    "thefts_df['INITIAL_DETECTION_DATE'] = pd.to_datetime(thefts_df['INITIAL_DETECTION_DATE'])"
   ]
  },
  {
   "cell_type": "code",
   "execution_count": 6,
   "id": "e238f01a",
   "metadata": {},
   "outputs": [],
   "source": [
    "valid_thefts = []"
   ]
  },
  {
   "cell_type": "code",
   "execution_count": 7,
   "id": "6e151c63",
   "metadata": {},
   "outputs": [],
   "source": [
    "for k, theft in thefts_df.iterrows():\n",
    "    acct = theft.ACCT_NBR\n",
    "    succ = theft.SUCCESSOR\n",
    "    date = theft.INITIAL_DETECTION_DATE\n",
    "    \n",
    "    df = df1[df1.ACCT_NBR == acct].set_index('MEASUREMENT_DATE').sort_index()\n",
    "    \n",
    "    df = df[df.SUCCESSOR == succ]\n",
    "    \n",
    "    if df.empty:\n",
    "        continue\n",
    "    \n",
    "    if pd.to_datetime(df.first_valid_index()) < date:\n",
    "            valid_thefts.append(theft)"
   ]
  },
  {
   "cell_type": "code",
   "execution_count": 8,
   "id": "391853dc",
   "metadata": {},
   "outputs": [],
   "source": [
    "valid_thefts_df = pd.DataFrame(valid_thefts, columns=['ACCT_NBR', 'SUCCESSOR', 'INITIAL_DETECTION_DATE'])"
   ]
  },
  {
   "cell_type": "code",
   "execution_count": 9,
   "id": "0bbb82c3",
   "metadata": {},
   "outputs": [
    {
     "data": {
      "text/html": [
       "<div>\n",
       "<style scoped>\n",
       "    .dataframe tbody tr th:only-of-type {\n",
       "        vertical-align: middle;\n",
       "    }\n",
       "\n",
       "    .dataframe tbody tr th {\n",
       "        vertical-align: top;\n",
       "    }\n",
       "\n",
       "    .dataframe thead th {\n",
       "        text-align: right;\n",
       "    }\n",
       "</style>\n",
       "<table border=\"1\" class=\"dataframe\">\n",
       "  <thead>\n",
       "    <tr style=\"text-align: right;\">\n",
       "      <th></th>\n",
       "      <th>ACCT_NBR</th>\n",
       "      <th>SUCCESSOR</th>\n",
       "      <th>INITIAL_DETECTION_DATE</th>\n",
       "    </tr>\n",
       "  </thead>\n",
       "  <tbody>\n",
       "    <tr>\n",
       "      <th>1918</th>\n",
       "      <td>348</td>\n",
       "      <td>7</td>\n",
       "      <td>2021-11-18</td>\n",
       "    </tr>\n",
       "    <tr>\n",
       "      <th>1920</th>\n",
       "      <td>928</td>\n",
       "      <td>4</td>\n",
       "      <td>2018-04-23</td>\n",
       "    </tr>\n",
       "    <tr>\n",
       "      <th>2</th>\n",
       "      <td>957</td>\n",
       "      <td>2</td>\n",
       "      <td>2018-12-18</td>\n",
       "    </tr>\n",
       "    <tr>\n",
       "      <th>1923</th>\n",
       "      <td>1402</td>\n",
       "      <td>2</td>\n",
       "      <td>2019-12-27</td>\n",
       "    </tr>\n",
       "    <tr>\n",
       "      <th>6</th>\n",
       "      <td>2333</td>\n",
       "      <td>3</td>\n",
       "      <td>2021-05-19</td>\n",
       "    </tr>\n",
       "  </tbody>\n",
       "</table>\n",
       "</div>"
      ],
      "text/plain": [
       "      ACCT_NBR  SUCCESSOR INITIAL_DETECTION_DATE\n",
       "1918       348          7             2021-11-18\n",
       "1920       928          4             2018-04-23\n",
       "2          957          2             2018-12-18\n",
       "1923      1402          2             2019-12-27\n",
       "6         2333          3             2021-05-19"
      ]
     },
     "execution_count": 9,
     "metadata": {},
     "output_type": "execute_result"
    }
   ],
   "source": [
    "valid_thefts_df.head()"
   ]
  },
  {
   "cell_type": "code",
   "execution_count": 25,
   "id": "12894e50",
   "metadata": {},
   "outputs": [
    {
     "data": {
      "text/html": [
       "<div>\n",
       "<style scoped>\n",
       "    .dataframe tbody tr th:only-of-type {\n",
       "        vertical-align: middle;\n",
       "    }\n",
       "\n",
       "    .dataframe tbody tr th {\n",
       "        vertical-align: top;\n",
       "    }\n",
       "\n",
       "    .dataframe thead th {\n",
       "        text-align: right;\n",
       "    }\n",
       "</style>\n",
       "<table border=\"1\" class=\"dataframe\">\n",
       "  <thead>\n",
       "    <tr style=\"text-align: right;\">\n",
       "      <th></th>\n",
       "      <th>ACCT_NBR</th>\n",
       "      <th>SUCCESSOR</th>\n",
       "      <th>BS_RATE</th>\n",
       "      <th>MS_METER_NBR</th>\n",
       "      <th>CSS_MS_HS_USE</th>\n",
       "      <th>MEASUREMENT_DATE</th>\n",
       "    </tr>\n",
       "  </thead>\n",
       "  <tbody>\n",
       "    <tr>\n",
       "      <th>0</th>\n",
       "      <td>329855</td>\n",
       "      <td>1</td>\n",
       "      <td>13</td>\n",
       "      <td>0</td>\n",
       "      <td>56</td>\n",
       "      <td>2019-08-26</td>\n",
       "    </tr>\n",
       "    <tr>\n",
       "      <th>1</th>\n",
       "      <td>113886</td>\n",
       "      <td>1</td>\n",
       "      <td>11</td>\n",
       "      <td>1</td>\n",
       "      <td>2236</td>\n",
       "      <td>2022-03-10</td>\n",
       "    </tr>\n",
       "    <tr>\n",
       "      <th>2</th>\n",
       "      <td>219271</td>\n",
       "      <td>1</td>\n",
       "      <td>13</td>\n",
       "      <td>2</td>\n",
       "      <td>678</td>\n",
       "      <td>2021-04-20</td>\n",
       "    </tr>\n",
       "    <tr>\n",
       "      <th>3</th>\n",
       "      <td>245307</td>\n",
       "      <td>1</td>\n",
       "      <td>13</td>\n",
       "      <td>3</td>\n",
       "      <td>156</td>\n",
       "      <td>2022-04-27</td>\n",
       "    </tr>\n",
       "    <tr>\n",
       "      <th>4</th>\n",
       "      <td>250806</td>\n",
       "      <td>1</td>\n",
       "      <td>13</td>\n",
       "      <td>4</td>\n",
       "      <td>502</td>\n",
       "      <td>2022-06-03</td>\n",
       "    </tr>\n",
       "  </tbody>\n",
       "</table>\n",
       "</div>"
      ],
      "text/plain": [
       "   ACCT_NBR  SUCCESSOR BS_RATE  MS_METER_NBR  CSS_MS_HS_USE MEASUREMENT_DATE\n",
       "0    329855          1      13             0             56       2019-08-26\n",
       "1    113886          1      11             1           2236       2022-03-10\n",
       "2    219271          1      13             2            678       2021-04-20\n",
       "3    245307          1      13             3            156       2022-04-27\n",
       "4    250806          1      13             4            502       2022-06-03"
      ]
     },
     "execution_count": 25,
     "metadata": {},
     "output_type": "execute_result"
    }
   ],
   "source": [
    "df1.head()"
   ]
  },
  {
   "cell_type": "code",
   "execution_count": 45,
   "id": "e27801d3",
   "metadata": {},
   "outputs": [],
   "source": [
    "merged_df = pd.merge(valid_thefts_df, df1, on=['ACCT_NBR', 'SUCCESSOR'])"
   ]
  },
  {
   "cell_type": "code",
   "execution_count": 46,
   "id": "a3da06f4",
   "metadata": {},
   "outputs": [],
   "source": [
    "new_df = merged_df.groupby(['ACCT_NBR', 'SUCCESSOR']).filter(lambda x: len(x) > 2)"
   ]
  },
  {
   "cell_type": "code",
   "execution_count": 47,
   "id": "e5d2b5d3",
   "metadata": {},
   "outputs": [
    {
     "data": {
      "text/plain": [
       "1509"
      ]
     },
     "execution_count": 47,
     "metadata": {},
     "output_type": "execute_result"
    }
   ],
   "source": [
    "new_df.ACCT_NBR.nunique()"
   ]
  },
  {
   "cell_type": "code",
   "execution_count": 39,
   "id": "6de560c5",
   "metadata": {},
   "outputs": [
    {
     "data": {
      "text/plain": [
       "1569"
      ]
     },
     "execution_count": 39,
     "metadata": {},
     "output_type": "execute_result"
    }
   ],
   "source": [
    "valid_thefts_df.ACCT_NBR.nunique()"
   ]
  },
  {
   "cell_type": "code",
   "execution_count": 48,
   "id": "e6084d07",
   "metadata": {},
   "outputs": [
    {
     "data": {
      "text/html": [
       "<div>\n",
       "<style scoped>\n",
       "    .dataframe tbody tr th:only-of-type {\n",
       "        vertical-align: middle;\n",
       "    }\n",
       "\n",
       "    .dataframe tbody tr th {\n",
       "        vertical-align: top;\n",
       "    }\n",
       "\n",
       "    .dataframe thead th {\n",
       "        text-align: right;\n",
       "    }\n",
       "</style>\n",
       "<table border=\"1\" class=\"dataframe\">\n",
       "  <thead>\n",
       "    <tr style=\"text-align: right;\">\n",
       "      <th></th>\n",
       "      <th>ACCT_NBR</th>\n",
       "      <th>SUCCESSOR</th>\n",
       "      <th>INITIAL_DETECTION_DATE</th>\n",
       "      <th>BS_RATE</th>\n",
       "      <th>MS_METER_NBR</th>\n",
       "      <th>CSS_MS_HS_USE</th>\n",
       "      <th>MEASUREMENT_DATE</th>\n",
       "    </tr>\n",
       "  </thead>\n",
       "  <tbody>\n",
       "    <tr>\n",
       "      <th>11</th>\n",
       "      <td>348</td>\n",
       "      <td>7</td>\n",
       "      <td>2021-11-18</td>\n",
       "      <td>10</td>\n",
       "      <td>356733</td>\n",
       "      <td>0</td>\n",
       "      <td>2018-01-18</td>\n",
       "    </tr>\n",
       "    <tr>\n",
       "      <th>4</th>\n",
       "      <td>348</td>\n",
       "      <td>7</td>\n",
       "      <td>2021-11-18</td>\n",
       "      <td>10</td>\n",
       "      <td>356733</td>\n",
       "      <td>0</td>\n",
       "      <td>2018-05-18</td>\n",
       "    </tr>\n",
       "    <tr>\n",
       "      <th>6</th>\n",
       "      <td>348</td>\n",
       "      <td>7</td>\n",
       "      <td>2021-11-18</td>\n",
       "      <td>10</td>\n",
       "      <td>356733</td>\n",
       "      <td>0</td>\n",
       "      <td>2018-09-18</td>\n",
       "    </tr>\n",
       "    <tr>\n",
       "      <th>2</th>\n",
       "      <td>348</td>\n",
       "      <td>7</td>\n",
       "      <td>2021-11-18</td>\n",
       "      <td>10</td>\n",
       "      <td>356733</td>\n",
       "      <td>0</td>\n",
       "      <td>2019-01-17</td>\n",
       "    </tr>\n",
       "    <tr>\n",
       "      <th>12</th>\n",
       "      <td>348</td>\n",
       "      <td>7</td>\n",
       "      <td>2021-11-18</td>\n",
       "      <td>10</td>\n",
       "      <td>356733</td>\n",
       "      <td>0</td>\n",
       "      <td>2019-05-20</td>\n",
       "    </tr>\n",
       "  </tbody>\n",
       "</table>\n",
       "</div>"
      ],
      "text/plain": [
       "    ACCT_NBR  SUCCESSOR INITIAL_DETECTION_DATE BS_RATE  MS_METER_NBR  \\\n",
       "11       348          7             2021-11-18      10        356733   \n",
       "4        348          7             2021-11-18      10        356733   \n",
       "6        348          7             2021-11-18      10        356733   \n",
       "2        348          7             2021-11-18      10        356733   \n",
       "12       348          7             2021-11-18      10        356733   \n",
       "\n",
       "    CSS_MS_HS_USE MEASUREMENT_DATE  \n",
       "11              0       2018-01-18  \n",
       "4               0       2018-05-18  \n",
       "6               0       2018-09-18  \n",
       "2               0       2019-01-17  \n",
       "12              0       2019-05-20  "
      ]
     },
     "execution_count": 48,
     "metadata": {},
     "output_type": "execute_result"
    }
   ],
   "source": [
    "new_df = new_df.sort_values(by=['ACCT_NBR', 'SUCCESSOR', 'MEASUREMENT_DATE'])\n",
    "new_df.head()"
   ]
  },
  {
   "cell_type": "code",
   "execution_count": null,
   "id": "3a09c5b1",
   "metadata": {},
   "outputs": [],
   "source": []
  },
  {
   "cell_type": "code",
   "execution_count": 61,
   "id": "0556d515",
   "metadata": {},
   "outputs": [],
   "source": [
    "request_df = pd.read_csv(\"../dataset/Train_Requests.csv\")\n",
    "request_df = request_df.drop(['COMPL_REQUEST_STATUS', 'COMPLETION_DATE'], axis=1)"
   ]
  },
  {
   "cell_type": "code",
   "execution_count": 62,
   "id": "57d90295",
   "metadata": {},
   "outputs": [],
   "source": [
    "request_df['REQUEST_TYPE'] = request_df['REQUEST_TYPE'].fillna('unknown')"
   ]
  },
  {
   "cell_type": "code",
   "execution_count": null,
   "id": "f8f64f67",
   "metadata": {},
   "outputs": [],
   "source": []
  },
  {
   "cell_type": "code",
   "execution_count": 63,
   "id": "027aeeda",
   "metadata": {},
   "outputs": [
    {
     "data": {
      "text/html": [
       "<div>\n",
       "<style scoped>\n",
       "    .dataframe tbody tr th:only-of-type {\n",
       "        vertical-align: middle;\n",
       "    }\n",
       "\n",
       "    .dataframe tbody tr th {\n",
       "        vertical-align: top;\n",
       "    }\n",
       "\n",
       "    .dataframe thead th {\n",
       "        text-align: right;\n",
       "    }\n",
       "</style>\n",
       "<table border=\"1\" class=\"dataframe\">\n",
       "  <thead>\n",
       "    <tr style=\"text-align: right;\">\n",
       "      <th></th>\n",
       "      <th>ACCT_NBR</th>\n",
       "      <th>SUCCESSOR</th>\n",
       "      <th>REQUEST_TYPE</th>\n",
       "      <th>REQUEST_DATE</th>\n",
       "    </tr>\n",
       "  </thead>\n",
       "  <tbody>\n",
       "    <tr>\n",
       "      <th>0</th>\n",
       "      <td>493073</td>\n",
       "      <td>7</td>\n",
       "      <td>recon</td>\n",
       "      <td>2019-02-12</td>\n",
       "    </tr>\n",
       "    <tr>\n",
       "      <th>1</th>\n",
       "      <td>15120</td>\n",
       "      <td>3</td>\n",
       "      <td>unknown</td>\n",
       "      <td>2015-05-26</td>\n",
       "    </tr>\n",
       "    <tr>\n",
       "      <th>2</th>\n",
       "      <td>15120</td>\n",
       "      <td>4</td>\n",
       "      <td>unknown</td>\n",
       "      <td>2017-02-06</td>\n",
       "    </tr>\n",
       "    <tr>\n",
       "      <th>3</th>\n",
       "      <td>15120</td>\n",
       "      <td>5</td>\n",
       "      <td>discon</td>\n",
       "      <td>2018-06-28</td>\n",
       "    </tr>\n",
       "    <tr>\n",
       "      <th>4</th>\n",
       "      <td>15120</td>\n",
       "      <td>5</td>\n",
       "      <td>reprChange</td>\n",
       "      <td>2018-09-27</td>\n",
       "    </tr>\n",
       "  </tbody>\n",
       "</table>\n",
       "</div>"
      ],
      "text/plain": [
       "   ACCT_NBR  SUCCESSOR REQUEST_TYPE REQUEST_DATE\n",
       "0    493073          7        recon   2019-02-12\n",
       "1     15120          3      unknown   2015-05-26\n",
       "2     15120          4      unknown   2017-02-06\n",
       "3     15120          5       discon   2018-06-28\n",
       "4     15120          5   reprChange   2018-09-27"
      ]
     },
     "execution_count": 63,
     "metadata": {},
     "output_type": "execute_result"
    }
   ],
   "source": [
    "request_df.head()"
   ]
  },
  {
   "cell_type": "code",
   "execution_count": null,
   "id": "0137e12b",
   "metadata": {},
   "outputs": [],
   "source": []
  },
  {
   "cell_type": "code",
   "execution_count": 67,
   "id": "13136cf8",
   "metadata": {},
   "outputs": [],
   "source": [
    "new_df['MEASUREMENT_DATE'] = pd.to_datetime(new_df['MEASUREMENT_DATE'])\n",
    "request_df['REQUEST_DATE'] = pd.to_datetime(request_df['REQUEST_DATE'])"
   ]
  },
  {
   "cell_type": "code",
   "execution_count": 64,
   "id": "1429f92e",
   "metadata": {},
   "outputs": [],
   "source": [
    "results_df = pd.DataFrame(columns=['ACCT_NBR', 'SUCCESSOR', 'REQUEST_TYPE', 'REQUEST_COUNT', 'DAYS_SINCE_LAST_MEASUREMENT'])\n"
   ]
  },
  {
   "cell_type": "code",
   "execution_count": 65,
   "id": "a57507e1",
   "metadata": {},
   "outputs": [
    {
     "data": {
      "text/html": [
       "<div>\n",
       "<style scoped>\n",
       "    .dataframe tbody tr th:only-of-type {\n",
       "        vertical-align: middle;\n",
       "    }\n",
       "\n",
       "    .dataframe tbody tr th {\n",
       "        vertical-align: top;\n",
       "    }\n",
       "\n",
       "    .dataframe thead th {\n",
       "        text-align: right;\n",
       "    }\n",
       "</style>\n",
       "<table border=\"1\" class=\"dataframe\">\n",
       "  <thead>\n",
       "    <tr style=\"text-align: right;\">\n",
       "      <th></th>\n",
       "      <th>ACCT_NBR</th>\n",
       "      <th>SUCCESSOR</th>\n",
       "      <th>REQUEST_TYPE</th>\n",
       "      <th>REQUEST_COUNT</th>\n",
       "    </tr>\n",
       "  </thead>\n",
       "  <tbody>\n",
       "    <tr>\n",
       "      <th>0</th>\n",
       "      <td>1</td>\n",
       "      <td>4</td>\n",
       "      <td>discon</td>\n",
       "      <td>2</td>\n",
       "    </tr>\n",
       "    <tr>\n",
       "      <th>1</th>\n",
       "      <td>1</td>\n",
       "      <td>4</td>\n",
       "      <td>recon</td>\n",
       "      <td>1</td>\n",
       "    </tr>\n",
       "    <tr>\n",
       "      <th>2</th>\n",
       "      <td>1</td>\n",
       "      <td>4</td>\n",
       "      <td>reprPause</td>\n",
       "      <td>1</td>\n",
       "    </tr>\n",
       "    <tr>\n",
       "      <th>3</th>\n",
       "      <td>1</td>\n",
       "      <td>5</td>\n",
       "      <td>discon</td>\n",
       "      <td>2</td>\n",
       "    </tr>\n",
       "    <tr>\n",
       "      <th>4</th>\n",
       "      <td>1</td>\n",
       "      <td>5</td>\n",
       "      <td>recon</td>\n",
       "      <td>2</td>\n",
       "    </tr>\n",
       "  </tbody>\n",
       "</table>\n",
       "</div>"
      ],
      "text/plain": [
       "   ACCT_NBR  SUCCESSOR REQUEST_TYPE  REQUEST_COUNT\n",
       "0         1          4       discon              2\n",
       "1         1          4        recon              1\n",
       "2         1          4    reprPause              1\n",
       "3         1          5       discon              2\n",
       "4         1          5        recon              2"
      ]
     },
     "execution_count": 65,
     "metadata": {},
     "output_type": "execute_result"
    }
   ],
   "source": [
    "grouped_requests.head()"
   ]
  },
  {
   "cell_type": "code",
   "execution_count": null,
   "id": "0997bef2",
   "metadata": {},
   "outputs": [],
   "source": []
  },
  {
   "cell_type": "code",
   "execution_count": null,
   "id": "4b110737",
   "metadata": {},
   "outputs": [],
   "source": []
  },
  {
   "cell_type": "code",
   "execution_count": null,
   "id": "97bce139",
   "metadata": {},
   "outputs": [],
   "source": []
  },
  {
   "cell_type": "code",
   "execution_count": null,
   "id": "b58decf6",
   "metadata": {},
   "outputs": [],
   "source": []
  },
  {
   "cell_type": "code",
   "execution_count": 13,
   "id": "c75c9e3e",
   "metadata": {},
   "outputs": [],
   "source": [
    "merged = pd.merge(valid_thefts_df, df1, on='ACCT_NBR', how='left', suffixes=('_df1', '_df2'))"
   ]
  },
  {
   "cell_type": "code",
   "execution_count": 14,
   "id": "46da63ae",
   "metadata": {},
   "outputs": [],
   "source": [
    "result = merged[~((merged['SUCCESSOR_df1'] == merged['SUCCESSOR_df2']) & merged['SUCCESSOR_df2'].notna())]"
   ]
  },
  {
   "cell_type": "code",
   "execution_count": 15,
   "id": "bd737a36",
   "metadata": {},
   "outputs": [
    {
     "data": {
      "text/html": [
       "<div>\n",
       "<style scoped>\n",
       "    .dataframe tbody tr th:only-of-type {\n",
       "        vertical-align: middle;\n",
       "    }\n",
       "\n",
       "    .dataframe tbody tr th {\n",
       "        vertical-align: top;\n",
       "    }\n",
       "\n",
       "    .dataframe thead th {\n",
       "        text-align: right;\n",
       "    }\n",
       "</style>\n",
       "<table border=\"1\" class=\"dataframe\">\n",
       "  <thead>\n",
       "    <tr style=\"text-align: right;\">\n",
       "      <th></th>\n",
       "      <th>ACCT_NBR</th>\n",
       "      <th>SUCCESSOR_df1</th>\n",
       "      <th>INITIAL_DETECTION_DATE</th>\n",
       "      <th>SUCCESSOR_df2</th>\n",
       "      <th>BS_RATE</th>\n",
       "      <th>MS_METER_NBR</th>\n",
       "      <th>CSS_MS_HS_USE</th>\n",
       "      <th>MEASUREMENT_DATE</th>\n",
       "    </tr>\n",
       "  </thead>\n",
       "  <tbody>\n",
       "    <tr>\n",
       "      <th>0</th>\n",
       "      <td>348</td>\n",
       "      <td>7</td>\n",
       "      <td>2021-11-18</td>\n",
       "      <td>8</td>\n",
       "      <td>10</td>\n",
       "      <td>356733</td>\n",
       "      <td>0</td>\n",
       "      <td>2021-10-01</td>\n",
       "    </tr>\n",
       "    <tr>\n",
       "      <th>5</th>\n",
       "      <td>348</td>\n",
       "      <td>7</td>\n",
       "      <td>2021-11-18</td>\n",
       "      <td>9</td>\n",
       "      <td>10</td>\n",
       "      <td>356733</td>\n",
       "      <td>781</td>\n",
       "      <td>2022-05-19</td>\n",
       "    </tr>\n",
       "    <tr>\n",
       "      <th>6</th>\n",
       "      <td>348</td>\n",
       "      <td>7</td>\n",
       "      <td>2021-11-18</td>\n",
       "      <td>8</td>\n",
       "      <td>10</td>\n",
       "      <td>356733</td>\n",
       "      <td>944</td>\n",
       "      <td>2022-03-08</td>\n",
       "    </tr>\n",
       "    <tr>\n",
       "      <th>8</th>\n",
       "      <td>348</td>\n",
       "      <td>7</td>\n",
       "      <td>2021-11-18</td>\n",
       "      <td>9</td>\n",
       "      <td>10</td>\n",
       "      <td>356733</td>\n",
       "      <td>2172</td>\n",
       "      <td>2022-09-20</td>\n",
       "    </tr>\n",
       "    <tr>\n",
       "      <th>11</th>\n",
       "      <td>348</td>\n",
       "      <td>7</td>\n",
       "      <td>2021-11-18</td>\n",
       "      <td>9</td>\n",
       "      <td>10</td>\n",
       "      <td>356733</td>\n",
       "      <td>0</td>\n",
       "      <td>2022-03-09</td>\n",
       "    </tr>\n",
       "  </tbody>\n",
       "</table>\n",
       "</div>"
      ],
      "text/plain": [
       "    ACCT_NBR  SUCCESSOR_df1 INITIAL_DETECTION_DATE  SUCCESSOR_df2 BS_RATE  \\\n",
       "0        348              7             2021-11-18              8      10   \n",
       "5        348              7             2021-11-18              9      10   \n",
       "6        348              7             2021-11-18              8      10   \n",
       "8        348              7             2021-11-18              9      10   \n",
       "11       348              7             2021-11-18              9      10   \n",
       "\n",
       "    MS_METER_NBR  CSS_MS_HS_USE MEASUREMENT_DATE  \n",
       "0         356733              0       2021-10-01  \n",
       "5         356733            781       2022-05-19  \n",
       "6         356733            944       2022-03-08  \n",
       "8         356733           2172       2022-09-20  \n",
       "11        356733              0       2022-03-09  "
      ]
     },
     "execution_count": 15,
     "metadata": {},
     "output_type": "execute_result"
    }
   ],
   "source": [
    "result.head()"
   ]
  },
  {
   "cell_type": "code",
   "execution_count": 16,
   "id": "4fb87435",
   "metadata": {},
   "outputs": [],
   "source": [
    "result = result.sort_values(['ACCT_NBR', 'SUCCESSOR_df2'])"
   ]
  },
  {
   "cell_type": "code",
   "execution_count": 21,
   "id": "df8bdcb4",
   "metadata": {},
   "outputs": [
    {
     "data": {
      "text/html": [
       "<div>\n",
       "<style scoped>\n",
       "    .dataframe tbody tr th:only-of-type {\n",
       "        vertical-align: middle;\n",
       "    }\n",
       "\n",
       "    .dataframe tbody tr th {\n",
       "        vertical-align: top;\n",
       "    }\n",
       "\n",
       "    .dataframe thead th {\n",
       "        text-align: right;\n",
       "    }\n",
       "</style>\n",
       "<table border=\"1\" class=\"dataframe\">\n",
       "  <thead>\n",
       "    <tr style=\"text-align: right;\">\n",
       "      <th></th>\n",
       "      <th>ACCT_NBR</th>\n",
       "      <th>SUCCESSOR_df1</th>\n",
       "      <th>INITIAL_DETECTION_DATE</th>\n",
       "      <th>SUCCESSOR_df2</th>\n",
       "      <th>BS_RATE</th>\n",
       "      <th>MS_METER_NBR</th>\n",
       "      <th>CSS_MS_HS_USE</th>\n",
       "      <th>MEASUREMENT_DATE</th>\n",
       "    </tr>\n",
       "  </thead>\n",
       "  <tbody>\n",
       "    <tr>\n",
       "      <th>34596</th>\n",
       "      <td>487974</td>\n",
       "      <td>2</td>\n",
       "      <td>2019-08-11</td>\n",
       "      <td>3</td>\n",
       "      <td>10</td>\n",
       "      <td>455426</td>\n",
       "      <td>0</td>\n",
       "      <td>2020-01-31</td>\n",
       "    </tr>\n",
       "  </tbody>\n",
       "</table>\n",
       "</div>"
      ],
      "text/plain": [
       "       ACCT_NBR  SUCCESSOR_df1 INITIAL_DETECTION_DATE  SUCCESSOR_df2 BS_RATE  \\\n",
       "34596    487974              2             2019-08-11              3      10   \n",
       "\n",
       "       MS_METER_NBR  CSS_MS_HS_USE MEASUREMENT_DATE  \n",
       "34596        455426              0       2020-01-31  "
      ]
     },
     "execution_count": 21,
     "metadata": {},
     "output_type": "execute_result"
    }
   ],
   "source": [
    "result.loc[result.ACCT_NBR == 487974]"
   ]
  },
  {
   "cell_type": "code",
   "execution_count": null,
   "id": "2907b79b",
   "metadata": {},
   "outputs": [],
   "source": []
  },
  {
   "cell_type": "code",
   "execution_count": 23,
   "id": "1527a65d",
   "metadata": {},
   "outputs": [
    {
     "data": {
      "text/html": [
       "<div>\n",
       "<style scoped>\n",
       "    .dataframe tbody tr th:only-of-type {\n",
       "        vertical-align: middle;\n",
       "    }\n",
       "\n",
       "    .dataframe tbody tr th {\n",
       "        vertical-align: top;\n",
       "    }\n",
       "\n",
       "    .dataframe thead th {\n",
       "        text-align: right;\n",
       "    }\n",
       "</style>\n",
       "<table border=\"1\" class=\"dataframe\">\n",
       "  <thead>\n",
       "    <tr style=\"text-align: right;\">\n",
       "      <th></th>\n",
       "      <th>ACCT_NBR</th>\n",
       "      <th>SUCCESSOR</th>\n",
       "      <th>BS_RATE</th>\n",
       "      <th>MS_METER_NBR</th>\n",
       "      <th>CSS_MS_HS_USE</th>\n",
       "      <th>MEASUREMENT_DATE</th>\n",
       "    </tr>\n",
       "  </thead>\n",
       "  <tbody>\n",
       "    <tr>\n",
       "      <th>2098797</th>\n",
       "      <td>487974</td>\n",
       "      <td>2</td>\n",
       "      <td>10</td>\n",
       "      <td>455426</td>\n",
       "      <td>0</td>\n",
       "      <td>2019-06-06</td>\n",
       "    </tr>\n",
       "    <tr>\n",
       "      <th>2945261</th>\n",
       "      <td>487974</td>\n",
       "      <td>3</td>\n",
       "      <td>10</td>\n",
       "      <td>455426</td>\n",
       "      <td>0</td>\n",
       "      <td>2020-01-31</td>\n",
       "    </tr>\n",
       "    <tr>\n",
       "      <th>4982531</th>\n",
       "      <td>487974</td>\n",
       "      <td>2</td>\n",
       "      <td>10</td>\n",
       "      <td>455426</td>\n",
       "      <td>0</td>\n",
       "      <td>2019-09-28</td>\n",
       "    </tr>\n",
       "  </tbody>\n",
       "</table>\n",
       "</div>"
      ],
      "text/plain": [
       "         ACCT_NBR  SUCCESSOR BS_RATE  MS_METER_NBR  CSS_MS_HS_USE  \\\n",
       "2098797    487974          2      10        455426              0   \n",
       "2945261    487974          3      10        455426              0   \n",
       "4982531    487974          2      10        455426              0   \n",
       "\n",
       "        MEASUREMENT_DATE  \n",
       "2098797       2019-06-06  \n",
       "2945261       2020-01-31  \n",
       "4982531       2019-09-28  "
      ]
     },
     "execution_count": 23,
     "metadata": {},
     "output_type": "execute_result"
    }
   ],
   "source": [
    "df1.loc[df1.ACCT_NBR == 487974]"
   ]
  },
  {
   "cell_type": "code",
   "execution_count": 24,
   "id": "80d7f8ed",
   "metadata": {},
   "outputs": [
    {
     "data": {
      "text/html": [
       "<div>\n",
       "<style scoped>\n",
       "    .dataframe tbody tr th:only-of-type {\n",
       "        vertical-align: middle;\n",
       "    }\n",
       "\n",
       "    .dataframe tbody tr th {\n",
       "        vertical-align: top;\n",
       "    }\n",
       "\n",
       "    .dataframe thead th {\n",
       "        text-align: right;\n",
       "    }\n",
       "</style>\n",
       "<table border=\"1\" class=\"dataframe\">\n",
       "  <thead>\n",
       "    <tr style=\"text-align: right;\">\n",
       "      <th></th>\n",
       "      <th>ACCT_NBR</th>\n",
       "      <th>SUCCESSOR</th>\n",
       "      <th>INITIAL_DETECTION_DATE</th>\n",
       "    </tr>\n",
       "  </thead>\n",
       "  <tbody>\n",
       "    <tr>\n",
       "      <th>1864</th>\n",
       "      <td>487974</td>\n",
       "      <td>2</td>\n",
       "      <td>2019-08-11</td>\n",
       "    </tr>\n",
       "  </tbody>\n",
       "</table>\n",
       "</div>"
      ],
      "text/plain": [
       "      ACCT_NBR  SUCCESSOR INITIAL_DETECTION_DATE\n",
       "1864    487974          2             2019-08-11"
      ]
     },
     "execution_count": 24,
     "metadata": {},
     "output_type": "execute_result"
    }
   ],
   "source": [
    "valid_thefts_df.loc[valid_thefts_df.ACCT_NBR == 487974]"
   ]
  },
  {
   "cell_type": "code",
   "execution_count": null,
   "id": "06f0b960",
   "metadata": {},
   "outputs": [],
   "source": []
  }
 ],
 "metadata": {
  "kernelspec": {
   "display_name": "Python 3 (ipykernel)",
   "language": "python",
   "name": "python3"
  },
  "language_info": {
   "codemirror_mode": {
    "name": "ipython",
    "version": 3
   },
   "file_extension": ".py",
   "mimetype": "text/x-python",
   "name": "python",
   "nbconvert_exporter": "python",
   "pygments_lexer": "ipython3",
   "version": "3.10.9"
  }
 },
 "nbformat": 4,
 "nbformat_minor": 5
}

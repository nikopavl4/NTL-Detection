{
 "cells": [
  {
   "cell_type": "code",
   "execution_count": 1,
   "id": "d37e0aef",
   "metadata": {},
   "outputs": [],
   "source": [
    "import pandas as pd\n",
    "import matplotlib.pyplot as plt\n",
    "import seaborn as sns\n",
    "import numpy as np\n",
    "from dateutil import parser\n",
    "from datetime import datetime\n",
    "import json"
   ]
  },
  {
   "cell_type": "code",
   "execution_count": 2,
   "id": "77d99278",
   "metadata": {},
   "outputs": [],
   "source": [
    "df1 = pd.read_csv(\"../dataset/Records_TRAIN.csv\", sep=\"|\")"
   ]
  },
  {
   "cell_type": "code",
   "execution_count": 3,
   "id": "d45f9862",
   "metadata": {},
   "outputs": [
    {
     "data": {
      "text/html": [
       "<div>\n",
       "<style scoped>\n",
       "    .dataframe tbody tr th:only-of-type {\n",
       "        vertical-align: middle;\n",
       "    }\n",
       "\n",
       "    .dataframe tbody tr th {\n",
       "        vertical-align: top;\n",
       "    }\n",
       "\n",
       "    .dataframe thead th {\n",
       "        text-align: right;\n",
       "    }\n",
       "</style>\n",
       "<table border=\"1\" class=\"dataframe\">\n",
       "  <thead>\n",
       "    <tr style=\"text-align: right;\">\n",
       "      <th></th>\n",
       "      <th>ACCT_NBR</th>\n",
       "      <th>SUCCESSOR</th>\n",
       "      <th>VOLTAGE</th>\n",
       "      <th>PARNO</th>\n",
       "      <th>XRHSH</th>\n",
       "      <th>CONTRACT_CAPACITY</th>\n",
       "      <th>ACCT_CONTROL</th>\n",
       "      <th>ACCT_WGS84_X</th>\n",
       "      <th>ACCT_WGS84_Y</th>\n",
       "    </tr>\n",
       "  </thead>\n",
       "  <tbody>\n",
       "    <tr>\n",
       "      <th>0</th>\n",
       "      <td>000A31FE38C6F648845941B642E287FE0200000000004A...</td>\n",
       "      <td>1</td>\n",
       "      <td>LOW</td>\n",
       "      <td>0</td>\n",
       "      <td>2</td>\n",
       "      <td>12.0</td>\n",
       "      <td>0</td>\n",
       "      <td>53,422551543686701</td>\n",
       "      <td>19,592757873078753</td>\n",
       "    </tr>\n",
       "    <tr>\n",
       "      <th>1</th>\n",
       "      <td>000A31FE38C6F648845941B642E287FE0200000000008D...</td>\n",
       "      <td>1</td>\n",
       "      <td>LOW</td>\n",
       "      <td>0</td>\n",
       "      <td>2</td>\n",
       "      <td>12.0</td>\n",
       "      <td>0</td>\n",
       "      <td>53,407108521588633</td>\n",
       "      <td>19,569743639932696</td>\n",
       "    </tr>\n",
       "    <tr>\n",
       "      <th>2</th>\n",
       "      <td>000A31FE38C6F648845941B642E287FE0200000000008D...</td>\n",
       "      <td>3</td>\n",
       "      <td>LOW</td>\n",
       "      <td>2</td>\n",
       "      <td>2</td>\n",
       "      <td>25.0</td>\n",
       "      <td>0</td>\n",
       "      <td>53,407108521588633</td>\n",
       "      <td>19,569743639932696</td>\n",
       "    </tr>\n",
       "    <tr>\n",
       "      <th>3</th>\n",
       "      <td>000A31FE38C6F648845941B642E287FE0200000000008D...</td>\n",
       "      <td>4</td>\n",
       "      <td>LOW</td>\n",
       "      <td>2</td>\n",
       "      <td>2</td>\n",
       "      <td>25.0</td>\n",
       "      <td>0</td>\n",
       "      <td>53,407108521588633</td>\n",
       "      <td>19,569743639932696</td>\n",
       "    </tr>\n",
       "    <tr>\n",
       "      <th>4</th>\n",
       "      <td>000A31FE38C6F648845941B642E287FE0200000000008D...</td>\n",
       "      <td>5</td>\n",
       "      <td>LOW</td>\n",
       "      <td>2</td>\n",
       "      <td>2</td>\n",
       "      <td>25.0</td>\n",
       "      <td>0</td>\n",
       "      <td>53,407108521588633</td>\n",
       "      <td>19,569743639932696</td>\n",
       "    </tr>\n",
       "  </tbody>\n",
       "</table>\n",
       "</div>"
      ],
      "text/plain": [
       "                                            ACCT_NBR  SUCCESSOR VOLTAGE  \\\n",
       "0  000A31FE38C6F648845941B642E287FE0200000000004A...          1     LOW   \n",
       "1  000A31FE38C6F648845941B642E287FE0200000000008D...          1     LOW   \n",
       "2  000A31FE38C6F648845941B642E287FE0200000000008D...          3     LOW   \n",
       "3  000A31FE38C6F648845941B642E287FE0200000000008D...          4     LOW   \n",
       "4  000A31FE38C6F648845941B642E287FE0200000000008D...          5     LOW   \n",
       "\n",
       "   PARNO  XRHSH  CONTRACT_CAPACITY  ACCT_CONTROL        ACCT_WGS84_X  \\\n",
       "0      0      2               12.0             0  53,422551543686701   \n",
       "1      0      2               12.0             0  53,407108521588633   \n",
       "2      2      2               25.0             0  53,407108521588633   \n",
       "3      2      2               25.0             0  53,407108521588633   \n",
       "4      2      2               25.0             0  53,407108521588633   \n",
       "\n",
       "         ACCT_WGS84_Y  \n",
       "0  19,592757873078753  \n",
       "1  19,569743639932696  \n",
       "2  19,569743639932696  \n",
       "3  19,569743639932696  \n",
       "4  19,569743639932696  "
      ]
     },
     "execution_count": 3,
     "metadata": {},
     "output_type": "execute_result"
    }
   ],
   "source": [
    "df1.head()"
   ]
  },
  {
   "cell_type": "code",
   "execution_count": 4,
   "id": "827e9c24",
   "metadata": {},
   "outputs": [
    {
     "data": {
      "text/plain": [
       "1234509"
      ]
     },
     "execution_count": 4,
     "metadata": {},
     "output_type": "execute_result"
    }
   ],
   "source": [
    "len(df1)"
   ]
  },
  {
   "cell_type": "code",
   "execution_count": 5,
   "id": "e9b8fbb8",
   "metadata": {},
   "outputs": [
    {
     "data": {
      "text/plain": [
       "ACCT_NBR              object\n",
       "SUCCESSOR              int64\n",
       "VOLTAGE               object\n",
       "PARNO                  int64\n",
       "XRHSH                  int64\n",
       "CONTRACT_CAPACITY    float64\n",
       "ACCT_CONTROL           int64\n",
       "ACCT_WGS84_X          object\n",
       "ACCT_WGS84_Y          object\n",
       "dtype: object"
      ]
     },
     "execution_count": 5,
     "metadata": {},
     "output_type": "execute_result"
    }
   ],
   "source": [
    "df1.dtypes"
   ]
  },
  {
   "cell_type": "code",
   "execution_count": 6,
   "id": "65e0cff0",
   "metadata": {},
   "outputs": [
    {
     "data": {
      "text/plain": [
       "490664"
      ]
     },
     "execution_count": 6,
     "metadata": {},
     "output_type": "execute_result"
    }
   ],
   "source": [
    "df1.ACCT_NBR.nunique()"
   ]
  },
  {
   "cell_type": "code",
   "execution_count": 7,
   "id": "2a47cd08",
   "metadata": {},
   "outputs": [],
   "source": [
    "acct_nbr_to_id = {acct_nbr: i for i, acct_nbr in enumerate(df1['ACCT_NBR'].unique())}"
   ]
  },
  {
   "cell_type": "code",
   "execution_count": 8,
   "id": "02fc86a8",
   "metadata": {},
   "outputs": [
    {
     "data": {
      "text/plain": [
       "490664"
      ]
     },
     "execution_count": 8,
     "metadata": {},
     "output_type": "execute_result"
    }
   ],
   "source": [
    "len(acct_nbr_to_id.keys())"
   ]
  },
  {
   "cell_type": "code",
   "execution_count": null,
   "id": "a32ce30e",
   "metadata": {},
   "outputs": [],
   "source": []
  },
  {
   "cell_type": "code",
   "execution_count": 9,
   "id": "9cdbaf97",
   "metadata": {},
   "outputs": [],
   "source": [
    "df1['ACCT_NBR'] = df1['ACCT_NBR'].map(acct_nbr_to_id)"
   ]
  },
  {
   "cell_type": "code",
   "execution_count": 10,
   "id": "46f11637",
   "metadata": {},
   "outputs": [
    {
     "data": {
      "text/plain": [
       "ACCT_NBR               int64\n",
       "SUCCESSOR              int64\n",
       "VOLTAGE               object\n",
       "PARNO                  int64\n",
       "XRHSH                  int64\n",
       "CONTRACT_CAPACITY    float64\n",
       "ACCT_CONTROL           int64\n",
       "ACCT_WGS84_X          object\n",
       "ACCT_WGS84_Y          object\n",
       "dtype: object"
      ]
     },
     "execution_count": 10,
     "metadata": {},
     "output_type": "execute_result"
    }
   ],
   "source": [
    "df1.dtypes"
   ]
  },
  {
   "cell_type": "code",
   "execution_count": 11,
   "id": "dcbd610f",
   "metadata": {},
   "outputs": [],
   "source": [
    "df1.to_csv(\"TRAIN_Records.csv\", index=False)"
   ]
  },
  {
   "cell_type": "code",
   "execution_count": null,
   "id": "a7e815f2",
   "metadata": {},
   "outputs": [],
   "source": []
  },
  {
   "cell_type": "code",
   "execution_count": 12,
   "id": "1aa63bc8",
   "metadata": {},
   "outputs": [],
   "source": [
    "df2 = pd.read_csv(\"../dataset/Consumptions_TRAIN.csv\", sep=\"|\")"
   ]
  },
  {
   "cell_type": "code",
   "execution_count": 13,
   "id": "f4cf9e22",
   "metadata": {},
   "outputs": [
    {
     "data": {
      "text/html": [
       "<div>\n",
       "<style scoped>\n",
       "    .dataframe tbody tr th:only-of-type {\n",
       "        vertical-align: middle;\n",
       "    }\n",
       "\n",
       "    .dataframe tbody tr th {\n",
       "        vertical-align: top;\n",
       "    }\n",
       "\n",
       "    .dataframe thead th {\n",
       "        text-align: right;\n",
       "    }\n",
       "</style>\n",
       "<table border=\"1\" class=\"dataframe\">\n",
       "  <thead>\n",
       "    <tr style=\"text-align: right;\">\n",
       "      <th></th>\n",
       "      <th>ACCT_NBR</th>\n",
       "      <th>SUCCESSOR</th>\n",
       "      <th>BS_RATE</th>\n",
       "      <th>MS_METER_NBR</th>\n",
       "      <th>CSS_MS_HS_USE</th>\n",
       "      <th>MEASUREMENT_DATE</th>\n",
       "    </tr>\n",
       "  </thead>\n",
       "  <tbody>\n",
       "    <tr>\n",
       "      <th>0</th>\n",
       "      <td>000A31FE38C6F648845941B642E287FE02000000B7602D...</td>\n",
       "      <td>1</td>\n",
       "      <td>13</td>\n",
       "      <td>000A31FE38C6F648845941B642E287FE0200000032011D...</td>\n",
       "      <td>56</td>\n",
       "      <td>2019-08-26</td>\n",
       "    </tr>\n",
       "    <tr>\n",
       "      <th>1</th>\n",
       "      <td>000A31FE38C6F648845941B642E287FE020000003CC307...</td>\n",
       "      <td>1</td>\n",
       "      <td>11</td>\n",
       "      <td>000A31FE38C6F648845941B642E287FE020000002BFDE8...</td>\n",
       "      <td>2236</td>\n",
       "      <td>2022-03-10</td>\n",
       "    </tr>\n",
       "    <tr>\n",
       "      <th>2</th>\n",
       "      <td>000A31FE38C6F648845941B642E287FE02000000543AF1...</td>\n",
       "      <td>1</td>\n",
       "      <td>13</td>\n",
       "      <td>000A31FE38C6F648845941B642E287FE0200000055887E...</td>\n",
       "      <td>678</td>\n",
       "      <td>2021-04-20</td>\n",
       "    </tr>\n",
       "    <tr>\n",
       "      <th>3</th>\n",
       "      <td>000A31FE38C6F648845941B642E287FE02000000617012...</td>\n",
       "      <td>1</td>\n",
       "      <td>13</td>\n",
       "      <td>000A31FE38C6F648845941B642E287FE02000000310114...</td>\n",
       "      <td>156</td>\n",
       "      <td>2022-04-27</td>\n",
       "    </tr>\n",
       "    <tr>\n",
       "      <th>4</th>\n",
       "      <td>000A31FE38C6F648845941B642E287FE020000006CBF0C...</td>\n",
       "      <td>1</td>\n",
       "      <td>13</td>\n",
       "      <td>000A31FE38C6F648845941B642E287FE02000000B94B46...</td>\n",
       "      <td>502</td>\n",
       "      <td>2022-06-03</td>\n",
       "    </tr>\n",
       "  </tbody>\n",
       "</table>\n",
       "</div>"
      ],
      "text/plain": [
       "                                            ACCT_NBR  SUCCESSOR BS_RATE  \\\n",
       "0  000A31FE38C6F648845941B642E287FE02000000B7602D...          1      13   \n",
       "1  000A31FE38C6F648845941B642E287FE020000003CC307...          1      11   \n",
       "2  000A31FE38C6F648845941B642E287FE02000000543AF1...          1      13   \n",
       "3  000A31FE38C6F648845941B642E287FE02000000617012...          1      13   \n",
       "4  000A31FE38C6F648845941B642E287FE020000006CBF0C...          1      13   \n",
       "\n",
       "                                        MS_METER_NBR  CSS_MS_HS_USE  \\\n",
       "0  000A31FE38C6F648845941B642E287FE0200000032011D...             56   \n",
       "1  000A31FE38C6F648845941B642E287FE020000002BFDE8...           2236   \n",
       "2  000A31FE38C6F648845941B642E287FE0200000055887E...            678   \n",
       "3  000A31FE38C6F648845941B642E287FE02000000310114...            156   \n",
       "4  000A31FE38C6F648845941B642E287FE02000000B94B46...            502   \n",
       "\n",
       "  MEASUREMENT_DATE  \n",
       "0       2019-08-26  \n",
       "1       2022-03-10  \n",
       "2       2021-04-20  \n",
       "3       2022-04-27  \n",
       "4       2022-06-03  "
      ]
     },
     "execution_count": 13,
     "metadata": {},
     "output_type": "execute_result"
    }
   ],
   "source": [
    "df2.head()"
   ]
  },
  {
   "cell_type": "code",
   "execution_count": 14,
   "id": "35cb8dcb",
   "metadata": {},
   "outputs": [
    {
     "data": {
      "text/plain": [
       "9201394"
      ]
     },
     "execution_count": 14,
     "metadata": {},
     "output_type": "execute_result"
    }
   ],
   "source": [
    "len(df2)"
   ]
  },
  {
   "cell_type": "code",
   "execution_count": 15,
   "id": "36c3f82b",
   "metadata": {},
   "outputs": [
    {
     "data": {
      "text/plain": [
       "459826"
      ]
     },
     "execution_count": 15,
     "metadata": {},
     "output_type": "execute_result"
    }
   ],
   "source": [
    "df2.ACCT_NBR.nunique()"
   ]
  },
  {
   "cell_type": "code",
   "execution_count": 16,
   "id": "76a0947a",
   "metadata": {},
   "outputs": [
    {
     "data": {
      "text/plain": [
       "475643"
      ]
     },
     "execution_count": 16,
     "metadata": {},
     "output_type": "execute_result"
    }
   ],
   "source": [
    "df2.MS_METER_NBR.nunique()"
   ]
  },
  {
   "cell_type": "code",
   "execution_count": 17,
   "id": "82482cb8",
   "metadata": {},
   "outputs": [],
   "source": [
    "df2_filtered = df2[~df2['ACCT_NBR'].isin(acct_nbr_to_id.keys())]"
   ]
  },
  {
   "cell_type": "code",
   "execution_count": 18,
   "id": "bdde72d9",
   "metadata": {},
   "outputs": [
    {
     "data": {
      "text/plain": [
       "682"
      ]
     },
     "execution_count": 18,
     "metadata": {},
     "output_type": "execute_result"
    }
   ],
   "source": [
    "len(df2_filtered)"
   ]
  },
  {
   "cell_type": "code",
   "execution_count": 19,
   "id": "da5d33f7",
   "metadata": {},
   "outputs": [
    {
     "data": {
      "text/plain": [
       "389"
      ]
     },
     "execution_count": 19,
     "metadata": {},
     "output_type": "execute_result"
    }
   ],
   "source": [
    "df2_filtered.ACCT_NBR.nunique()"
   ]
  },
  {
   "cell_type": "code",
   "execution_count": 20,
   "id": "c09126b2",
   "metadata": {},
   "outputs": [],
   "source": [
    "unique_acct_nbrs = df2['ACCT_NBR'].unique().tolist()"
   ]
  },
  {
   "cell_type": "code",
   "execution_count": 21,
   "id": "7896c28c",
   "metadata": {},
   "outputs": [
    {
     "name": "stdout",
     "output_type": "stream",
     "text": [
      "389\n"
     ]
    }
   ],
   "source": [
    "i=0\n",
    "for acct_nbr in unique_acct_nbrs:\n",
    "    if acct_nbr not in acct_nbr_to_id:\n",
    "        i+=1\n",
    "        new_id = max(acct_nbr_to_id.values()) + 1\n",
    "        acct_nbr_to_id[acct_nbr] = new_id\n",
    "print(i)"
   ]
  },
  {
   "cell_type": "code",
   "execution_count": 22,
   "id": "ef5bec65",
   "metadata": {},
   "outputs": [
    {
     "data": {
      "text/plain": [
       "491053"
      ]
     },
     "execution_count": 22,
     "metadata": {},
     "output_type": "execute_result"
    }
   ],
   "source": [
    "len(acct_nbr_to_id)"
   ]
  },
  {
   "cell_type": "code",
   "execution_count": 23,
   "id": "70d45185",
   "metadata": {},
   "outputs": [],
   "source": [
    "df2['ACCT_NBR'] = df2['ACCT_NBR'].map(acct_nbr_to_id)"
   ]
  },
  {
   "cell_type": "code",
   "execution_count": 24,
   "id": "abe0fddc",
   "metadata": {},
   "outputs": [
    {
     "data": {
      "text/html": [
       "<div>\n",
       "<style scoped>\n",
       "    .dataframe tbody tr th:only-of-type {\n",
       "        vertical-align: middle;\n",
       "    }\n",
       "\n",
       "    .dataframe tbody tr th {\n",
       "        vertical-align: top;\n",
       "    }\n",
       "\n",
       "    .dataframe thead th {\n",
       "        text-align: right;\n",
       "    }\n",
       "</style>\n",
       "<table border=\"1\" class=\"dataframe\">\n",
       "  <thead>\n",
       "    <tr style=\"text-align: right;\">\n",
       "      <th></th>\n",
       "      <th>ACCT_NBR</th>\n",
       "      <th>SUCCESSOR</th>\n",
       "      <th>BS_RATE</th>\n",
       "      <th>MS_METER_NBR</th>\n",
       "      <th>CSS_MS_HS_USE</th>\n",
       "      <th>MEASUREMENT_DATE</th>\n",
       "    </tr>\n",
       "  </thead>\n",
       "  <tbody>\n",
       "    <tr>\n",
       "      <th>0</th>\n",
       "      <td>329855</td>\n",
       "      <td>1</td>\n",
       "      <td>13</td>\n",
       "      <td>000A31FE38C6F648845941B642E287FE0200000032011D...</td>\n",
       "      <td>56</td>\n",
       "      <td>2019-08-26</td>\n",
       "    </tr>\n",
       "    <tr>\n",
       "      <th>1</th>\n",
       "      <td>113886</td>\n",
       "      <td>1</td>\n",
       "      <td>11</td>\n",
       "      <td>000A31FE38C6F648845941B642E287FE020000002BFDE8...</td>\n",
       "      <td>2236</td>\n",
       "      <td>2022-03-10</td>\n",
       "    </tr>\n",
       "    <tr>\n",
       "      <th>2</th>\n",
       "      <td>219271</td>\n",
       "      <td>1</td>\n",
       "      <td>13</td>\n",
       "      <td>000A31FE38C6F648845941B642E287FE0200000055887E...</td>\n",
       "      <td>678</td>\n",
       "      <td>2021-04-20</td>\n",
       "    </tr>\n",
       "    <tr>\n",
       "      <th>3</th>\n",
       "      <td>245307</td>\n",
       "      <td>1</td>\n",
       "      <td>13</td>\n",
       "      <td>000A31FE38C6F648845941B642E287FE02000000310114...</td>\n",
       "      <td>156</td>\n",
       "      <td>2022-04-27</td>\n",
       "    </tr>\n",
       "    <tr>\n",
       "      <th>4</th>\n",
       "      <td>250806</td>\n",
       "      <td>1</td>\n",
       "      <td>13</td>\n",
       "      <td>000A31FE38C6F648845941B642E287FE02000000B94B46...</td>\n",
       "      <td>502</td>\n",
       "      <td>2022-06-03</td>\n",
       "    </tr>\n",
       "  </tbody>\n",
       "</table>\n",
       "</div>"
      ],
      "text/plain": [
       "   ACCT_NBR  SUCCESSOR BS_RATE  \\\n",
       "0    329855          1      13   \n",
       "1    113886          1      11   \n",
       "2    219271          1      13   \n",
       "3    245307          1      13   \n",
       "4    250806          1      13   \n",
       "\n",
       "                                        MS_METER_NBR  CSS_MS_HS_USE  \\\n",
       "0  000A31FE38C6F648845941B642E287FE0200000032011D...             56   \n",
       "1  000A31FE38C6F648845941B642E287FE020000002BFDE8...           2236   \n",
       "2  000A31FE38C6F648845941B642E287FE0200000055887E...            678   \n",
       "3  000A31FE38C6F648845941B642E287FE02000000310114...            156   \n",
       "4  000A31FE38C6F648845941B642E287FE02000000B94B46...            502   \n",
       "\n",
       "  MEASUREMENT_DATE  \n",
       "0       2019-08-26  \n",
       "1       2022-03-10  \n",
       "2       2021-04-20  \n",
       "3       2022-04-27  \n",
       "4       2022-06-03  "
      ]
     },
     "execution_count": 24,
     "metadata": {},
     "output_type": "execute_result"
    }
   ],
   "source": [
    "df2.head()"
   ]
  },
  {
   "cell_type": "code",
   "execution_count": 25,
   "id": "d38a0e3e",
   "metadata": {},
   "outputs": [],
   "source": [
    "mse_meter_nbr_to_id = {\n",
    "    mse_meter_nbr: i for i, mse_meter_nbr in enumerate(df2['MS_METER_NBR'].unique())\n",
    "}"
   ]
  },
  {
   "cell_type": "code",
   "execution_count": 26,
   "id": "9dbd3057",
   "metadata": {},
   "outputs": [
    {
     "data": {
      "text/plain": [
       "475643"
      ]
     },
     "execution_count": 26,
     "metadata": {},
     "output_type": "execute_result"
    }
   ],
   "source": [
    "len(mse_meter_nbr_to_id)"
   ]
  },
  {
   "cell_type": "code",
   "execution_count": 27,
   "id": "0d9b1b4a",
   "metadata": {},
   "outputs": [],
   "source": [
    "df2['MS_METER_NBR'] = df2['MS_METER_NBR'].map(mse_meter_nbr_to_id)"
   ]
  },
  {
   "cell_type": "code",
   "execution_count": 28,
   "id": "b67fa253",
   "metadata": {},
   "outputs": [],
   "source": [
    "df2['MEASUREMENT_DATE'] = pd.to_datetime(df2['MEASUREMENT_DATE'])"
   ]
  },
  {
   "cell_type": "code",
   "execution_count": 29,
   "id": "ada7e3a5",
   "metadata": {},
   "outputs": [
    {
     "data": {
      "text/plain": [
       "(Timestamp('2018-01-01 00:00:00'), Timestamp('2022-10-01 00:00:00'))"
      ]
     },
     "execution_count": 29,
     "metadata": {},
     "output_type": "execute_result"
    }
   ],
   "source": [
    "min(df2['MEASUREMENT_DATE']), max(df2['MEASUREMENT_DATE'])"
   ]
  },
  {
   "cell_type": "code",
   "execution_count": 30,
   "id": "02bb6e5d",
   "metadata": {},
   "outputs": [
    {
     "data": {
      "text/html": [
       "<div>\n",
       "<style scoped>\n",
       "    .dataframe tbody tr th:only-of-type {\n",
       "        vertical-align: middle;\n",
       "    }\n",
       "\n",
       "    .dataframe tbody tr th {\n",
       "        vertical-align: top;\n",
       "    }\n",
       "\n",
       "    .dataframe thead th {\n",
       "        text-align: right;\n",
       "    }\n",
       "</style>\n",
       "<table border=\"1\" class=\"dataframe\">\n",
       "  <thead>\n",
       "    <tr style=\"text-align: right;\">\n",
       "      <th></th>\n",
       "      <th>ACCT_NBR</th>\n",
       "      <th>SUCCESSOR</th>\n",
       "      <th>BS_RATE</th>\n",
       "      <th>MS_METER_NBR</th>\n",
       "      <th>CSS_MS_HS_USE</th>\n",
       "      <th>MEASUREMENT_DATE</th>\n",
       "    </tr>\n",
       "  </thead>\n",
       "  <tbody>\n",
       "    <tr>\n",
       "      <th>0</th>\n",
       "      <td>329855</td>\n",
       "      <td>1</td>\n",
       "      <td>13</td>\n",
       "      <td>0</td>\n",
       "      <td>56</td>\n",
       "      <td>2019-08-26</td>\n",
       "    </tr>\n",
       "    <tr>\n",
       "      <th>1</th>\n",
       "      <td>113886</td>\n",
       "      <td>1</td>\n",
       "      <td>11</td>\n",
       "      <td>1</td>\n",
       "      <td>2236</td>\n",
       "      <td>2022-03-10</td>\n",
       "    </tr>\n",
       "    <tr>\n",
       "      <th>2</th>\n",
       "      <td>219271</td>\n",
       "      <td>1</td>\n",
       "      <td>13</td>\n",
       "      <td>2</td>\n",
       "      <td>678</td>\n",
       "      <td>2021-04-20</td>\n",
       "    </tr>\n",
       "    <tr>\n",
       "      <th>3</th>\n",
       "      <td>245307</td>\n",
       "      <td>1</td>\n",
       "      <td>13</td>\n",
       "      <td>3</td>\n",
       "      <td>156</td>\n",
       "      <td>2022-04-27</td>\n",
       "    </tr>\n",
       "    <tr>\n",
       "      <th>4</th>\n",
       "      <td>250806</td>\n",
       "      <td>1</td>\n",
       "      <td>13</td>\n",
       "      <td>4</td>\n",
       "      <td>502</td>\n",
       "      <td>2022-06-03</td>\n",
       "    </tr>\n",
       "  </tbody>\n",
       "</table>\n",
       "</div>"
      ],
      "text/plain": [
       "   ACCT_NBR  SUCCESSOR BS_RATE  MS_METER_NBR  CSS_MS_HS_USE MEASUREMENT_DATE\n",
       "0    329855          1      13             0             56       2019-08-26\n",
       "1    113886          1      11             1           2236       2022-03-10\n",
       "2    219271          1      13             2            678       2021-04-20\n",
       "3    245307          1      13             3            156       2022-04-27\n",
       "4    250806          1      13             4            502       2022-06-03"
      ]
     },
     "execution_count": 30,
     "metadata": {},
     "output_type": "execute_result"
    }
   ],
   "source": [
    "df2.head()"
   ]
  },
  {
   "cell_type": "code",
   "execution_count": 31,
   "id": "2759e7eb",
   "metadata": {},
   "outputs": [
    {
     "data": {
      "text/plain": [
       "ACCT_NBR                     int64\n",
       "SUCCESSOR                    int64\n",
       "BS_RATE                     object\n",
       "MS_METER_NBR                 int64\n",
       "CSS_MS_HS_USE                int64\n",
       "MEASUREMENT_DATE    datetime64[ns]\n",
       "dtype: object"
      ]
     },
     "execution_count": 31,
     "metadata": {},
     "output_type": "execute_result"
    }
   ],
   "source": [
    "df2.dtypes"
   ]
  },
  {
   "cell_type": "code",
   "execution_count": 32,
   "id": "31f8d981",
   "metadata": {},
   "outputs": [],
   "source": [
    "df2.to_csv(\"TRAIN_Consumptions.csv\", index=False)"
   ]
  },
  {
   "cell_type": "code",
   "execution_count": null,
   "id": "eb140e98",
   "metadata": {},
   "outputs": [],
   "source": []
  },
  {
   "cell_type": "code",
   "execution_count": 33,
   "id": "8130c3f7",
   "metadata": {},
   "outputs": [],
   "source": [
    "df3 = pd.read_csv(\"../dataset/PowerThefts_TRAIN.csv\", sep=\"|\")"
   ]
  },
  {
   "cell_type": "code",
   "execution_count": 34,
   "id": "3cda3f53",
   "metadata": {},
   "outputs": [
    {
     "data": {
      "text/html": [
       "<div>\n",
       "<style scoped>\n",
       "    .dataframe tbody tr th:only-of-type {\n",
       "        vertical-align: middle;\n",
       "    }\n",
       "\n",
       "    .dataframe tbody tr th {\n",
       "        vertical-align: top;\n",
       "    }\n",
       "\n",
       "    .dataframe thead th {\n",
       "        text-align: right;\n",
       "    }\n",
       "</style>\n",
       "<table border=\"1\" class=\"dataframe\">\n",
       "  <thead>\n",
       "    <tr style=\"text-align: right;\">\n",
       "      <th></th>\n",
       "      <th>ACCT_NBR</th>\n",
       "      <th>SUCCESSOR</th>\n",
       "      <th>ΤΡΟΠΟΣ_ΕΝΤΟΠΙΣΜΟΥ</th>\n",
       "      <th>ΣΗΜΕΙΟ_ΕΝΤΟΠΙΣΜΟΥ</th>\n",
       "      <th>HMANAF</th>\n",
       "      <th>INITIAL_DETECTION_DATE</th>\n",
       "      <th>DETECTION_DATE</th>\n",
       "      <th>NON_REGISTERED_ENERGY</th>\n",
       "    </tr>\n",
       "  </thead>\n",
       "  <tbody>\n",
       "    <tr>\n",
       "      <th>0</th>\n",
       "      <td>000A31FE38C6F648845941B642E287FE02000000004D63...</td>\n",
       "      <td>3</td>\n",
       "      <td>Μέσω Λοιπών Εργασιών &amp; Συντήρησης</td>\n",
       "      <td>ΑΓΝΩΣΤΟ</td>\n",
       "      <td>2018-03-01</td>\n",
       "      <td>01/03/2018</td>\n",
       "      <td>01/03/2018</td>\n",
       "      <td>1283.0</td>\n",
       "    </tr>\n",
       "    <tr>\n",
       "      <th>1</th>\n",
       "      <td>000A31FE38C6F648845941B642E287FE0200000000801E...</td>\n",
       "      <td>8</td>\n",
       "      <td>Μέσω Καταμέτρησης (ΔΑΚ)</td>\n",
       "      <td>ΑΚΡΟΔΕΚΤΕΣ</td>\n",
       "      <td>2018-08-16</td>\n",
       "      <td>01112018</td>\n",
       "      <td>01112018</td>\n",
       "      <td>640.0</td>\n",
       "    </tr>\n",
       "  </tbody>\n",
       "</table>\n",
       "</div>"
      ],
      "text/plain": [
       "                                            ACCT_NBR  SUCCESSOR  \\\n",
       "0  000A31FE38C6F648845941B642E287FE02000000004D63...          3   \n",
       "1  000A31FE38C6F648845941B642E287FE0200000000801E...          8   \n",
       "\n",
       "                   ΤΡΟΠΟΣ_ΕΝΤΟΠΙΣΜΟΥ ΣΗΜΕΙΟ_ΕΝΤΟΠΙΣΜΟΥ      HMANAF  \\\n",
       "0  Μέσω Λοιπών Εργασιών & Συντήρησης           ΑΓΝΩΣΤΟ  2018-03-01   \n",
       "1            Μέσω Καταμέτρησης (ΔΑΚ)        ΑΚΡΟΔΕΚΤΕΣ  2018-08-16   \n",
       "\n",
       "  INITIAL_DETECTION_DATE DETECTION_DATE  NON_REGISTERED_ENERGY  \n",
       "0             01/03/2018     01/03/2018                 1283.0  \n",
       "1               01112018       01112018                  640.0  "
      ]
     },
     "execution_count": 34,
     "metadata": {},
     "output_type": "execute_result"
    }
   ],
   "source": [
    "df3.head(2)"
   ]
  },
  {
   "cell_type": "code",
   "execution_count": 35,
   "id": "25c314e9",
   "metadata": {},
   "outputs": [
    {
     "data": {
      "text/plain": [
       "3841"
      ]
     },
     "execution_count": 35,
     "metadata": {},
     "output_type": "execute_result"
    }
   ],
   "source": [
    "len(df3)"
   ]
  },
  {
   "cell_type": "code",
   "execution_count": 36,
   "id": "b712e965",
   "metadata": {},
   "outputs": [
    {
     "data": {
      "text/plain": [
       "3600"
      ]
     },
     "execution_count": 36,
     "metadata": {},
     "output_type": "execute_result"
    }
   ],
   "source": [
    "df3.ACCT_NBR.nunique()"
   ]
  },
  {
   "cell_type": "code",
   "execution_count": 37,
   "id": "a6734cb3",
   "metadata": {},
   "outputs": [
    {
     "data": {
      "text/plain": [
       "ACCT_NBR                   object\n",
       "SUCCESSOR                   int64\n",
       "ΤΡΟΠΟΣ_ΕΝΤΟΠΙΣΜΟΥ          object\n",
       "ΣΗΜΕΙΟ_ΕΝΤΟΠΙΣΜΟΥ          object\n",
       "HMANAF                     object\n",
       "INITIAL_DETECTION_DATE     object\n",
       "DETECTION_DATE             object\n",
       "NON_REGISTERED_ENERGY     float64\n",
       "dtype: object"
      ]
     },
     "execution_count": 37,
     "metadata": {},
     "output_type": "execute_result"
    }
   ],
   "source": [
    "df3.dtypes"
   ]
  },
  {
   "cell_type": "code",
   "execution_count": 38,
   "id": "15eb71d7",
   "metadata": {},
   "outputs": [
    {
     "data": {
      "text/plain": [
       "109"
      ]
     },
     "execution_count": 38,
     "metadata": {},
     "output_type": "execute_result"
    }
   ],
   "source": [
    "df3_filtered = df3[~df3['ACCT_NBR'].isin(acct_nbr_to_id.keys())]\n",
    "len(df3_filtered)"
   ]
  },
  {
   "cell_type": "code",
   "execution_count": 39,
   "id": "1548508d",
   "metadata": {},
   "outputs": [
    {
     "data": {
      "text/plain": [
       "106"
      ]
     },
     "execution_count": 39,
     "metadata": {},
     "output_type": "execute_result"
    }
   ],
   "source": [
    "df3_filtered.ACCT_NBR.nunique()"
   ]
  },
  {
   "cell_type": "code",
   "execution_count": 40,
   "id": "a938ab9b",
   "metadata": {},
   "outputs": [
    {
     "name": "stdout",
     "output_type": "stream",
     "text": [
      "106\n"
     ]
    }
   ],
   "source": [
    "unique_acct_nbrs = df3['ACCT_NBR'].unique().tolist()\n",
    "i=0\n",
    "for acct_nbr in unique_acct_nbrs:\n",
    "    if acct_nbr not in acct_nbr_to_id:\n",
    "        i+=1\n",
    "        new_id = max(acct_nbr_to_id.values()) + 1\n",
    "        acct_nbr_to_id[acct_nbr] = new_id\n",
    "print(i)"
   ]
  },
  {
   "cell_type": "code",
   "execution_count": 41,
   "id": "4a0e0a95",
   "metadata": {},
   "outputs": [
    {
     "data": {
      "text/plain": [
       "491159"
      ]
     },
     "execution_count": 41,
     "metadata": {},
     "output_type": "execute_result"
    }
   ],
   "source": [
    "len(acct_nbr_to_id)"
   ]
  },
  {
   "cell_type": "code",
   "execution_count": 42,
   "id": "bf084e25",
   "metadata": {},
   "outputs": [],
   "source": [
    "df3['ACCT_NBR'] = df3['ACCT_NBR'].map(acct_nbr_to_id)"
   ]
  },
  {
   "cell_type": "code",
   "execution_count": 43,
   "id": "2de3ba80",
   "metadata": {},
   "outputs": [
    {
     "data": {
      "text/html": [
       "<div>\n",
       "<style scoped>\n",
       "    .dataframe tbody tr th:only-of-type {\n",
       "        vertical-align: middle;\n",
       "    }\n",
       "\n",
       "    .dataframe tbody tr th {\n",
       "        vertical-align: top;\n",
       "    }\n",
       "\n",
       "    .dataframe thead th {\n",
       "        text-align: right;\n",
       "    }\n",
       "</style>\n",
       "<table border=\"1\" class=\"dataframe\">\n",
       "  <thead>\n",
       "    <tr style=\"text-align: right;\">\n",
       "      <th></th>\n",
       "      <th>ACCT_NBR</th>\n",
       "      <th>SUCCESSOR</th>\n",
       "      <th>ΤΡΟΠΟΣ_ΕΝΤΟΠΙΣΜΟΥ</th>\n",
       "      <th>ΣΗΜΕΙΟ_ΕΝΤΟΠΙΣΜΟΥ</th>\n",
       "      <th>HMANAF</th>\n",
       "      <th>INITIAL_DETECTION_DATE</th>\n",
       "      <th>DETECTION_DATE</th>\n",
       "      <th>NON_REGISTERED_ENERGY</th>\n",
       "    </tr>\n",
       "  </thead>\n",
       "  <tbody>\n",
       "    <tr>\n",
       "      <th>0</th>\n",
       "      <td>416</td>\n",
       "      <td>3</td>\n",
       "      <td>Μέσω Λοιπών Εργασιών &amp; Συντήρησης</td>\n",
       "      <td>ΑΓΝΩΣΤΟ</td>\n",
       "      <td>2018-03-01</td>\n",
       "      <td>01/03/2018</td>\n",
       "      <td>01/03/2018</td>\n",
       "      <td>1283.0</td>\n",
       "    </tr>\n",
       "    <tr>\n",
       "      <th>1</th>\n",
       "      <td>678</td>\n",
       "      <td>8</td>\n",
       "      <td>Μέσω Καταμέτρησης (ΔΑΚ)</td>\n",
       "      <td>ΑΚΡΟΔΕΚΤΕΣ</td>\n",
       "      <td>2018-08-16</td>\n",
       "      <td>01112018</td>\n",
       "      <td>01112018</td>\n",
       "      <td>640.0</td>\n",
       "    </tr>\n",
       "    <tr>\n",
       "      <th>2</th>\n",
       "      <td>957</td>\n",
       "      <td>2</td>\n",
       "      <td>Μέσω Λοιπών Εργασιών &amp; Συντήρησης</td>\n",
       "      <td>ΜΗΧΑΝΙΣΜΟΣ ΜΕΤΡΗΣΗΣ</td>\n",
       "      <td>2018-12-05</td>\n",
       "      <td>18/12/2018</td>\n",
       "      <td>18/12/2018</td>\n",
       "      <td>4665.0</td>\n",
       "    </tr>\n",
       "    <tr>\n",
       "      <th>3</th>\n",
       "      <td>20201</td>\n",
       "      <td>2</td>\n",
       "      <td>Μέσω Λοιπών Εργασιών &amp; Συντήρησης</td>\n",
       "      <td>ΑΚΡΟΔΕΚΤΕΣ</td>\n",
       "      <td>2017-01-19</td>\n",
       "      <td>30/01/2017</td>\n",
       "      <td>30/01/2017</td>\n",
       "      <td>NaN</td>\n",
       "    </tr>\n",
       "    <tr>\n",
       "      <th>4</th>\n",
       "      <td>2140</td>\n",
       "      <td>5</td>\n",
       "      <td>Μέσω Λοιπών Εργασιών &amp; Συντήρησης</td>\n",
       "      <td>ΑΓΝΩΣΤΟ</td>\n",
       "      <td>2019-05-29</td>\n",
       "      <td>29/05/2019</td>\n",
       "      <td>29/05/2019</td>\n",
       "      <td>1049.0</td>\n",
       "    </tr>\n",
       "  </tbody>\n",
       "</table>\n",
       "</div>"
      ],
      "text/plain": [
       "   ACCT_NBR  SUCCESSOR                  ΤΡΟΠΟΣ_ΕΝΤΟΠΙΣΜΟΥ  \\\n",
       "0       416          3  Μέσω Λοιπών Εργασιών & Συντήρησης   \n",
       "1       678          8            Μέσω Καταμέτρησης (ΔΑΚ)   \n",
       "2       957          2  Μέσω Λοιπών Εργασιών & Συντήρησης   \n",
       "3     20201          2  Μέσω Λοιπών Εργασιών & Συντήρησης   \n",
       "4      2140          5  Μέσω Λοιπών Εργασιών & Συντήρησης   \n",
       "\n",
       "     ΣΗΜΕΙΟ_ΕΝΤΟΠΙΣΜΟΥ      HMANAF INITIAL_DETECTION_DATE DETECTION_DATE  \\\n",
       "0              ΑΓΝΩΣΤΟ  2018-03-01             01/03/2018     01/03/2018   \n",
       "1           ΑΚΡΟΔΕΚΤΕΣ  2018-08-16               01112018       01112018   \n",
       "2  ΜΗΧΑΝΙΣΜΟΣ ΜΕΤΡΗΣΗΣ  2018-12-05             18/12/2018     18/12/2018   \n",
       "3           ΑΚΡΟΔΕΚΤΕΣ  2017-01-19             30/01/2017     30/01/2017   \n",
       "4              ΑΓΝΩΣΤΟ  2019-05-29             29/05/2019     29/05/2019   \n",
       "\n",
       "   NON_REGISTERED_ENERGY  \n",
       "0                 1283.0  \n",
       "1                  640.0  \n",
       "2                 4665.0  \n",
       "3                    NaN  \n",
       "4                 1049.0  "
      ]
     },
     "execution_count": 43,
     "metadata": {},
     "output_type": "execute_result"
    }
   ],
   "source": [
    "df3.head()"
   ]
  },
  {
   "cell_type": "code",
   "execution_count": 44,
   "id": "88640344",
   "metadata": {},
   "outputs": [],
   "source": [
    "def parse_date(date_str):\n",
    "    try:\n",
    "        return parser.parse(date_str)\n",
    "    except:\n",
    "        formats = ['%d%m%Y', '%Y-%m-%d', '%Y/%m/%d', '%d-%b-%Y', '%d-%b-%y']\n",
    "        for fmt in formats:\n",
    "            try:\n",
    "                return datetime.strptime(date_str, fmt)\n",
    "            except:\n",
    "                pass\n",
    "        return pd.NaT"
   ]
  },
  {
   "cell_type": "code",
   "execution_count": 45,
   "id": "0ba9568a",
   "metadata": {},
   "outputs": [],
   "source": [
    "tmp_df3 = df3.copy()"
   ]
  },
  {
   "cell_type": "code",
   "execution_count": 46,
   "id": "a2113f5d",
   "metadata": {},
   "outputs": [],
   "source": [
    "tmp_df3['DETECTION_DATE'] = tmp_df3['DETECTION_DATE'].apply(parse_date)"
   ]
  },
  {
   "cell_type": "code",
   "execution_count": 47,
   "id": "b10b7271",
   "metadata": {},
   "outputs": [
    {
     "data": {
      "text/html": [
       "<div>\n",
       "<style scoped>\n",
       "    .dataframe tbody tr th:only-of-type {\n",
       "        vertical-align: middle;\n",
       "    }\n",
       "\n",
       "    .dataframe tbody tr th {\n",
       "        vertical-align: top;\n",
       "    }\n",
       "\n",
       "    .dataframe thead th {\n",
       "        text-align: right;\n",
       "    }\n",
       "</style>\n",
       "<table border=\"1\" class=\"dataframe\">\n",
       "  <thead>\n",
       "    <tr style=\"text-align: right;\">\n",
       "      <th></th>\n",
       "      <th>ACCT_NBR</th>\n",
       "      <th>SUCCESSOR</th>\n",
       "      <th>ΤΡΟΠΟΣ_ΕΝΤΟΠΙΣΜΟΥ</th>\n",
       "      <th>ΣΗΜΕΙΟ_ΕΝΤΟΠΙΣΜΟΥ</th>\n",
       "      <th>HMANAF</th>\n",
       "      <th>INITIAL_DETECTION_DATE</th>\n",
       "      <th>DETECTION_DATE</th>\n",
       "      <th>NON_REGISTERED_ENERGY</th>\n",
       "    </tr>\n",
       "  </thead>\n",
       "  <tbody>\n",
       "    <tr>\n",
       "      <th>0</th>\n",
       "      <td>416</td>\n",
       "      <td>3</td>\n",
       "      <td>Μέσω Λοιπών Εργασιών &amp; Συντήρησης</td>\n",
       "      <td>ΑΓΝΩΣΤΟ</td>\n",
       "      <td>2018-03-01</td>\n",
       "      <td>01/03/2018</td>\n",
       "      <td>2018-01-03</td>\n",
       "      <td>1283.0</td>\n",
       "    </tr>\n",
       "    <tr>\n",
       "      <th>1</th>\n",
       "      <td>678</td>\n",
       "      <td>8</td>\n",
       "      <td>Μέσω Καταμέτρησης (ΔΑΚ)</td>\n",
       "      <td>ΑΚΡΟΔΕΚΤΕΣ</td>\n",
       "      <td>2018-08-16</td>\n",
       "      <td>01112018</td>\n",
       "      <td>2018-11-01</td>\n",
       "      <td>640.0</td>\n",
       "    </tr>\n",
       "    <tr>\n",
       "      <th>2</th>\n",
       "      <td>957</td>\n",
       "      <td>2</td>\n",
       "      <td>Μέσω Λοιπών Εργασιών &amp; Συντήρησης</td>\n",
       "      <td>ΜΗΧΑΝΙΣΜΟΣ ΜΕΤΡΗΣΗΣ</td>\n",
       "      <td>2018-12-05</td>\n",
       "      <td>18/12/2018</td>\n",
       "      <td>2018-12-18</td>\n",
       "      <td>4665.0</td>\n",
       "    </tr>\n",
       "    <tr>\n",
       "      <th>3</th>\n",
       "      <td>20201</td>\n",
       "      <td>2</td>\n",
       "      <td>Μέσω Λοιπών Εργασιών &amp; Συντήρησης</td>\n",
       "      <td>ΑΚΡΟΔΕΚΤΕΣ</td>\n",
       "      <td>2017-01-19</td>\n",
       "      <td>30/01/2017</td>\n",
       "      <td>2017-01-30</td>\n",
       "      <td>NaN</td>\n",
       "    </tr>\n",
       "    <tr>\n",
       "      <th>4</th>\n",
       "      <td>2140</td>\n",
       "      <td>5</td>\n",
       "      <td>Μέσω Λοιπών Εργασιών &amp; Συντήρησης</td>\n",
       "      <td>ΑΓΝΩΣΤΟ</td>\n",
       "      <td>2019-05-29</td>\n",
       "      <td>29/05/2019</td>\n",
       "      <td>2019-05-29</td>\n",
       "      <td>1049.0</td>\n",
       "    </tr>\n",
       "  </tbody>\n",
       "</table>\n",
       "</div>"
      ],
      "text/plain": [
       "   ACCT_NBR  SUCCESSOR                  ΤΡΟΠΟΣ_ΕΝΤΟΠΙΣΜΟΥ  \\\n",
       "0       416          3  Μέσω Λοιπών Εργασιών & Συντήρησης   \n",
       "1       678          8            Μέσω Καταμέτρησης (ΔΑΚ)   \n",
       "2       957          2  Μέσω Λοιπών Εργασιών & Συντήρησης   \n",
       "3     20201          2  Μέσω Λοιπών Εργασιών & Συντήρησης   \n",
       "4      2140          5  Μέσω Λοιπών Εργασιών & Συντήρησης   \n",
       "\n",
       "     ΣΗΜΕΙΟ_ΕΝΤΟΠΙΣΜΟΥ      HMANAF INITIAL_DETECTION_DATE DETECTION_DATE  \\\n",
       "0              ΑΓΝΩΣΤΟ  2018-03-01             01/03/2018     2018-01-03   \n",
       "1           ΑΚΡΟΔΕΚΤΕΣ  2018-08-16               01112018     2018-11-01   \n",
       "2  ΜΗΧΑΝΙΣΜΟΣ ΜΕΤΡΗΣΗΣ  2018-12-05             18/12/2018     2018-12-18   \n",
       "3           ΑΚΡΟΔΕΚΤΕΣ  2017-01-19             30/01/2017     2017-01-30   \n",
       "4              ΑΓΝΩΣΤΟ  2019-05-29             29/05/2019     2019-05-29   \n",
       "\n",
       "   NON_REGISTERED_ENERGY  \n",
       "0                 1283.0  \n",
       "1                  640.0  \n",
       "2                 4665.0  \n",
       "3                    NaN  \n",
       "4                 1049.0  "
      ]
     },
     "execution_count": 47,
     "metadata": {},
     "output_type": "execute_result"
    }
   ],
   "source": [
    "tmp_df3.head()"
   ]
  },
  {
   "cell_type": "code",
   "execution_count": 48,
   "id": "802ecb18",
   "metadata": {},
   "outputs": [
    {
     "data": {
      "text/html": [
       "<div>\n",
       "<style scoped>\n",
       "    .dataframe tbody tr th:only-of-type {\n",
       "        vertical-align: middle;\n",
       "    }\n",
       "\n",
       "    .dataframe tbody tr th {\n",
       "        vertical-align: top;\n",
       "    }\n",
       "\n",
       "    .dataframe thead th {\n",
       "        text-align: right;\n",
       "    }\n",
       "</style>\n",
       "<table border=\"1\" class=\"dataframe\">\n",
       "  <thead>\n",
       "    <tr style=\"text-align: right;\">\n",
       "      <th></th>\n",
       "      <th>ACCT_NBR</th>\n",
       "      <th>SUCCESSOR</th>\n",
       "      <th>ΤΡΟΠΟΣ_ΕΝΤΟΠΙΣΜΟΥ</th>\n",
       "      <th>ΣΗΜΕΙΟ_ΕΝΤΟΠΙΣΜΟΥ</th>\n",
       "      <th>HMANAF</th>\n",
       "      <th>INITIAL_DETECTION_DATE</th>\n",
       "      <th>DETECTION_DATE</th>\n",
       "      <th>NON_REGISTERED_ENERGY</th>\n",
       "    </tr>\n",
       "  </thead>\n",
       "  <tbody>\n",
       "    <tr>\n",
       "      <th>15</th>\n",
       "      <td>491054</td>\n",
       "      <td>6</td>\n",
       "      <td>Μέσω Λοιπών Εργασιών &amp; Συντήρησης</td>\n",
       "      <td>ΑΓΝΩΣΤΟ</td>\n",
       "      <td>2019-02-05</td>\n",
       "      <td>05/022019</td>\n",
       "      <td>NaT</td>\n",
       "      <td>0.0</td>\n",
       "    </tr>\n",
       "    <tr>\n",
       "      <th>902</th>\n",
       "      <td>216405</td>\n",
       "      <td>3</td>\n",
       "      <td>Μέσω Στοχευμένων Ελέγχων</td>\n",
       "      <td>ΑΚΡΟΔΕΚΤΕΣ</td>\n",
       "      <td>2017-10-12</td>\n",
       "      <td>12/102017</td>\n",
       "      <td>NaT</td>\n",
       "      <td>3121.0</td>\n",
       "    </tr>\n",
       "    <tr>\n",
       "      <th>1360</th>\n",
       "      <td>327574</td>\n",
       "      <td>4</td>\n",
       "      <td>ΑΓΝΩΣΤΟΣ</td>\n",
       "      <td>ΑΚΡΟΔΕΚΤΕΣ</td>\n",
       "      <td>2022-04-07</td>\n",
       "      <td>11/042022</td>\n",
       "      <td>NaT</td>\n",
       "      <td>NaN</td>\n",
       "    </tr>\n",
       "    <tr>\n",
       "      <th>1570</th>\n",
       "      <td>470407</td>\n",
       "      <td>2</td>\n",
       "      <td>ΑΓΝΩΣΤΟΣ</td>\n",
       "      <td>ΑΚΡΟΔΕΚΤΕΣ</td>\n",
       "      <td>2022-03-22</td>\n",
       "      <td>15/042022</td>\n",
       "      <td>NaT</td>\n",
       "      <td>NaN</td>\n",
       "    </tr>\n",
       "    <tr>\n",
       "      <th>2930</th>\n",
       "      <td>237605</td>\n",
       "      <td>4</td>\n",
       "      <td>Μέσω Λοιπών Εργασιών &amp; Συντήρησης</td>\n",
       "      <td>ΑΓΝΩΣΤΟ</td>\n",
       "      <td>2019-03-18</td>\n",
       "      <td>18/032019</td>\n",
       "      <td>NaT</td>\n",
       "      <td>1447.0</td>\n",
       "    </tr>\n",
       "    <tr>\n",
       "      <th>3663</th>\n",
       "      <td>491155</td>\n",
       "      <td>3</td>\n",
       "      <td>ΑΓΝΩΣΤΟΣ</td>\n",
       "      <td>ΑΚΡΟΔΕΚΤΕΣ</td>\n",
       "      <td>2022-02-14</td>\n",
       "      <td>NaN</td>\n",
       "      <td>NaT</td>\n",
       "      <td>NaN</td>\n",
       "    </tr>\n",
       "  </tbody>\n",
       "</table>\n",
       "</div>"
      ],
      "text/plain": [
       "      ACCT_NBR  SUCCESSOR                  ΤΡΟΠΟΣ_ΕΝΤΟΠΙΣΜΟΥ  \\\n",
       "15      491054          6  Μέσω Λοιπών Εργασιών & Συντήρησης   \n",
       "902     216405          3           Μέσω Στοχευμένων Ελέγχων   \n",
       "1360    327574          4                           ΑΓΝΩΣΤΟΣ   \n",
       "1570    470407          2                           ΑΓΝΩΣΤΟΣ   \n",
       "2930    237605          4  Μέσω Λοιπών Εργασιών & Συντήρησης   \n",
       "3663    491155          3                           ΑΓΝΩΣΤΟΣ   \n",
       "\n",
       "     ΣΗΜΕΙΟ_ΕΝΤΟΠΙΣΜΟΥ      HMANAF INITIAL_DETECTION_DATE DETECTION_DATE  \\\n",
       "15             ΑΓΝΩΣΤΟ  2019-02-05              05/022019            NaT   \n",
       "902         ΑΚΡΟΔΕΚΤΕΣ  2017-10-12              12/102017            NaT   \n",
       "1360        ΑΚΡΟΔΕΚΤΕΣ  2022-04-07              11/042022            NaT   \n",
       "1570        ΑΚΡΟΔΕΚΤΕΣ  2022-03-22              15/042022            NaT   \n",
       "2930           ΑΓΝΩΣΤΟ  2019-03-18              18/032019            NaT   \n",
       "3663        ΑΚΡΟΔΕΚΤΕΣ  2022-02-14                    NaN            NaT   \n",
       "\n",
       "      NON_REGISTERED_ENERGY  \n",
       "15                      0.0  \n",
       "902                  3121.0  \n",
       "1360                    NaN  \n",
       "1570                    NaN  \n",
       "2930                 1447.0  \n",
       "3663                    NaN  "
      ]
     },
     "execution_count": 48,
     "metadata": {},
     "output_type": "execute_result"
    }
   ],
   "source": [
    "tmp_df3[tmp_df3.DETECTION_DATE.isnull()]"
   ]
  },
  {
   "cell_type": "code",
   "execution_count": 49,
   "id": "49529896",
   "metadata": {},
   "outputs": [
    {
     "data": {
      "text/plain": [
       "6"
      ]
     },
     "execution_count": 49,
     "metadata": {},
     "output_type": "execute_result"
    }
   ],
   "source": [
    "len(tmp_df3[tmp_df3.DETECTION_DATE.isnull()])"
   ]
  },
  {
   "cell_type": "code",
   "execution_count": 50,
   "id": "24493c91",
   "metadata": {},
   "outputs": [],
   "source": [
    "indices = [15, 902, 1360, 1570, 2930, 3663]"
   ]
  },
  {
   "cell_type": "code",
   "execution_count": 51,
   "id": "cb4218bd",
   "metadata": {},
   "outputs": [],
   "source": [
    "selected_rows = df3.iloc[indices]"
   ]
  },
  {
   "cell_type": "code",
   "execution_count": 52,
   "id": "fa69845d",
   "metadata": {},
   "outputs": [
    {
     "data": {
      "text/html": [
       "<div>\n",
       "<style scoped>\n",
       "    .dataframe tbody tr th:only-of-type {\n",
       "        vertical-align: middle;\n",
       "    }\n",
       "\n",
       "    .dataframe tbody tr th {\n",
       "        vertical-align: top;\n",
       "    }\n",
       "\n",
       "    .dataframe thead th {\n",
       "        text-align: right;\n",
       "    }\n",
       "</style>\n",
       "<table border=\"1\" class=\"dataframe\">\n",
       "  <thead>\n",
       "    <tr style=\"text-align: right;\">\n",
       "      <th></th>\n",
       "      <th>ACCT_NBR</th>\n",
       "      <th>SUCCESSOR</th>\n",
       "      <th>ΤΡΟΠΟΣ_ΕΝΤΟΠΙΣΜΟΥ</th>\n",
       "      <th>ΣΗΜΕΙΟ_ΕΝΤΟΠΙΣΜΟΥ</th>\n",
       "      <th>HMANAF</th>\n",
       "      <th>INITIAL_DETECTION_DATE</th>\n",
       "      <th>DETECTION_DATE</th>\n",
       "      <th>NON_REGISTERED_ENERGY</th>\n",
       "    </tr>\n",
       "  </thead>\n",
       "  <tbody>\n",
       "    <tr>\n",
       "      <th>15</th>\n",
       "      <td>491054</td>\n",
       "      <td>6</td>\n",
       "      <td>Μέσω Λοιπών Εργασιών &amp; Συντήρησης</td>\n",
       "      <td>ΑΓΝΩΣΤΟ</td>\n",
       "      <td>2019-02-05</td>\n",
       "      <td>05/022019</td>\n",
       "      <td>05/022019</td>\n",
       "      <td>0.0</td>\n",
       "    </tr>\n",
       "    <tr>\n",
       "      <th>902</th>\n",
       "      <td>216405</td>\n",
       "      <td>3</td>\n",
       "      <td>Μέσω Στοχευμένων Ελέγχων</td>\n",
       "      <td>ΑΚΡΟΔΕΚΤΕΣ</td>\n",
       "      <td>2017-10-12</td>\n",
       "      <td>12/102017</td>\n",
       "      <td>12/102017</td>\n",
       "      <td>3121.0</td>\n",
       "    </tr>\n",
       "    <tr>\n",
       "      <th>1360</th>\n",
       "      <td>327574</td>\n",
       "      <td>4</td>\n",
       "      <td>ΑΓΝΩΣΤΟΣ</td>\n",
       "      <td>ΑΚΡΟΔΕΚΤΕΣ</td>\n",
       "      <td>2022-04-07</td>\n",
       "      <td>11/042022</td>\n",
       "      <td>11/042022</td>\n",
       "      <td>NaN</td>\n",
       "    </tr>\n",
       "    <tr>\n",
       "      <th>1570</th>\n",
       "      <td>470407</td>\n",
       "      <td>2</td>\n",
       "      <td>ΑΓΝΩΣΤΟΣ</td>\n",
       "      <td>ΑΚΡΟΔΕΚΤΕΣ</td>\n",
       "      <td>2022-03-22</td>\n",
       "      <td>15/042022</td>\n",
       "      <td>15/042022</td>\n",
       "      <td>NaN</td>\n",
       "    </tr>\n",
       "    <tr>\n",
       "      <th>2930</th>\n",
       "      <td>237605</td>\n",
       "      <td>4</td>\n",
       "      <td>Μέσω Λοιπών Εργασιών &amp; Συντήρησης</td>\n",
       "      <td>ΑΓΝΩΣΤΟ</td>\n",
       "      <td>2019-03-18</td>\n",
       "      <td>18/032019</td>\n",
       "      <td>18/032019</td>\n",
       "      <td>1447.0</td>\n",
       "    </tr>\n",
       "    <tr>\n",
       "      <th>3663</th>\n",
       "      <td>491155</td>\n",
       "      <td>3</td>\n",
       "      <td>ΑΓΝΩΣΤΟΣ</td>\n",
       "      <td>ΑΚΡΟΔΕΚΤΕΣ</td>\n",
       "      <td>2022-02-14</td>\n",
       "      <td>NaN</td>\n",
       "      <td>NaN</td>\n",
       "      <td>NaN</td>\n",
       "    </tr>\n",
       "  </tbody>\n",
       "</table>\n",
       "</div>"
      ],
      "text/plain": [
       "      ACCT_NBR  SUCCESSOR                  ΤΡΟΠΟΣ_ΕΝΤΟΠΙΣΜΟΥ  \\\n",
       "15      491054          6  Μέσω Λοιπών Εργασιών & Συντήρησης   \n",
       "902     216405          3           Μέσω Στοχευμένων Ελέγχων   \n",
       "1360    327574          4                           ΑΓΝΩΣΤΟΣ   \n",
       "1570    470407          2                           ΑΓΝΩΣΤΟΣ   \n",
       "2930    237605          4  Μέσω Λοιπών Εργασιών & Συντήρησης   \n",
       "3663    491155          3                           ΑΓΝΩΣΤΟΣ   \n",
       "\n",
       "     ΣΗΜΕΙΟ_ΕΝΤΟΠΙΣΜΟΥ      HMANAF INITIAL_DETECTION_DATE DETECTION_DATE  \\\n",
       "15             ΑΓΝΩΣΤΟ  2019-02-05              05/022019      05/022019   \n",
       "902         ΑΚΡΟΔΕΚΤΕΣ  2017-10-12              12/102017      12/102017   \n",
       "1360        ΑΚΡΟΔΕΚΤΕΣ  2022-04-07              11/042022      11/042022   \n",
       "1570        ΑΚΡΟΔΕΚΤΕΣ  2022-03-22              15/042022      15/042022   \n",
       "2930           ΑΓΝΩΣΤΟ  2019-03-18              18/032019      18/032019   \n",
       "3663        ΑΚΡΟΔΕΚΤΕΣ  2022-02-14                    NaN            NaN   \n",
       "\n",
       "      NON_REGISTERED_ENERGY  \n",
       "15                      0.0  \n",
       "902                  3121.0  \n",
       "1360                    NaN  \n",
       "1570                    NaN  \n",
       "2930                 1447.0  \n",
       "3663                    NaN  "
      ]
     },
     "execution_count": 52,
     "metadata": {},
     "output_type": "execute_result"
    }
   ],
   "source": [
    "selected_rows"
   ]
  },
  {
   "cell_type": "code",
   "execution_count": 53,
   "id": "1bf899a2",
   "metadata": {},
   "outputs": [
    {
     "data": {
      "text/html": [
       "<div>\n",
       "<style scoped>\n",
       "    .dataframe tbody tr th:only-of-type {\n",
       "        vertical-align: middle;\n",
       "    }\n",
       "\n",
       "    .dataframe tbody tr th {\n",
       "        vertical-align: top;\n",
       "    }\n",
       "\n",
       "    .dataframe thead th {\n",
       "        text-align: right;\n",
       "    }\n",
       "</style>\n",
       "<table border=\"1\" class=\"dataframe\">\n",
       "  <thead>\n",
       "    <tr style=\"text-align: right;\">\n",
       "      <th></th>\n",
       "      <th>ACCT_NBR</th>\n",
       "      <th>SUCCESSOR</th>\n",
       "      <th>ΤΡΟΠΟΣ_ΕΝΤΟΠΙΣΜΟΥ</th>\n",
       "      <th>ΣΗΜΕΙΟ_ΕΝΤΟΠΙΣΜΟΥ</th>\n",
       "      <th>HMANAF</th>\n",
       "      <th>INITIAL_DETECTION_DATE</th>\n",
       "      <th>DETECTION_DATE</th>\n",
       "      <th>NON_REGISTERED_ENERGY</th>\n",
       "    </tr>\n",
       "  </thead>\n",
       "  <tbody>\n",
       "    <tr>\n",
       "      <th>15</th>\n",
       "      <td>491054</td>\n",
       "      <td>6</td>\n",
       "      <td>Μέσω Λοιπών Εργασιών &amp; Συντήρησης</td>\n",
       "      <td>ΑΓΝΩΣΤΟ</td>\n",
       "      <td>2019-02-05</td>\n",
       "      <td>05/022019</td>\n",
       "      <td>05/022019</td>\n",
       "      <td>0.0</td>\n",
       "    </tr>\n",
       "    <tr>\n",
       "      <th>902</th>\n",
       "      <td>216405</td>\n",
       "      <td>3</td>\n",
       "      <td>Μέσω Στοχευμένων Ελέγχων</td>\n",
       "      <td>ΑΚΡΟΔΕΚΤΕΣ</td>\n",
       "      <td>2017-10-12</td>\n",
       "      <td>12/102017</td>\n",
       "      <td>12/102017</td>\n",
       "      <td>3121.0</td>\n",
       "    </tr>\n",
       "    <tr>\n",
       "      <th>1360</th>\n",
       "      <td>327574</td>\n",
       "      <td>4</td>\n",
       "      <td>ΑΓΝΩΣΤΟΣ</td>\n",
       "      <td>ΑΚΡΟΔΕΚΤΕΣ</td>\n",
       "      <td>2022-04-07</td>\n",
       "      <td>11/042022</td>\n",
       "      <td>11/042022</td>\n",
       "      <td>NaN</td>\n",
       "    </tr>\n",
       "    <tr>\n",
       "      <th>1570</th>\n",
       "      <td>470407</td>\n",
       "      <td>2</td>\n",
       "      <td>ΑΓΝΩΣΤΟΣ</td>\n",
       "      <td>ΑΚΡΟΔΕΚΤΕΣ</td>\n",
       "      <td>2022-03-22</td>\n",
       "      <td>15/042022</td>\n",
       "      <td>15/042022</td>\n",
       "      <td>NaN</td>\n",
       "    </tr>\n",
       "    <tr>\n",
       "      <th>2930</th>\n",
       "      <td>237605</td>\n",
       "      <td>4</td>\n",
       "      <td>Μέσω Λοιπών Εργασιών &amp; Συντήρησης</td>\n",
       "      <td>ΑΓΝΩΣΤΟ</td>\n",
       "      <td>2019-03-18</td>\n",
       "      <td>18/032019</td>\n",
       "      <td>18/032019</td>\n",
       "      <td>1447.0</td>\n",
       "    </tr>\n",
       "  </tbody>\n",
       "</table>\n",
       "</div>"
      ],
      "text/plain": [
       "      ACCT_NBR  SUCCESSOR                  ΤΡΟΠΟΣ_ΕΝΤΟΠΙΣΜΟΥ  \\\n",
       "15      491054          6  Μέσω Λοιπών Εργασιών & Συντήρησης   \n",
       "902     216405          3           Μέσω Στοχευμένων Ελέγχων   \n",
       "1360    327574          4                           ΑΓΝΩΣΤΟΣ   \n",
       "1570    470407          2                           ΑΓΝΩΣΤΟΣ   \n",
       "2930    237605          4  Μέσω Λοιπών Εργασιών & Συντήρησης   \n",
       "\n",
       "     ΣΗΜΕΙΟ_ΕΝΤΟΠΙΣΜΟΥ      HMANAF INITIAL_DETECTION_DATE DETECTION_DATE  \\\n",
       "15             ΑΓΝΩΣΤΟ  2019-02-05              05/022019      05/022019   \n",
       "902         ΑΚΡΟΔΕΚΤΕΣ  2017-10-12              12/102017      12/102017   \n",
       "1360        ΑΚΡΟΔΕΚΤΕΣ  2022-04-07              11/042022      11/042022   \n",
       "1570        ΑΚΡΟΔΕΚΤΕΣ  2022-03-22              15/042022      15/042022   \n",
       "2930           ΑΓΝΩΣΤΟ  2019-03-18              18/032019      18/032019   \n",
       "\n",
       "      NON_REGISTERED_ENERGY  \n",
       "15                      0.0  \n",
       "902                  3121.0  \n",
       "1360                    NaN  \n",
       "1570                    NaN  \n",
       "2930                 1447.0  "
      ]
     },
     "execution_count": 53,
     "metadata": {},
     "output_type": "execute_result"
    }
   ],
   "source": [
    "indices = [15, 902, 1360, 1570, 2930]\n",
    "selected_rows = df3.iloc[indices]\n",
    "selected_rows"
   ]
  },
  {
   "cell_type": "code",
   "execution_count": 54,
   "id": "5868a286",
   "metadata": {},
   "outputs": [
    {
     "name": "stderr",
     "output_type": "stream",
     "text": [
      "/tmp/ipykernel_4210/2314740787.py:1: SettingWithCopyWarning: \n",
      "A value is trying to be set on a copy of a slice from a DataFrame.\n",
      "Try using .loc[row_indexer,col_indexer] = value instead\n",
      "\n",
      "See the caveats in the documentation: https://pandas.pydata.org/pandas-docs/stable/user_guide/indexing.html#returning-a-view-versus-a-copy\n",
      "  selected_rows['DETECTION_DATE'] = selected_rows['DETECTION_DATE'].apply(lambda x: datetime.strptime(x, '%d/%m%Y').strftime('%Y-%m-%d'))\n"
     ]
    }
   ],
   "source": [
    "selected_rows['DETECTION_DATE'] = selected_rows['DETECTION_DATE'].apply(lambda x: datetime.strptime(x, '%d/%m%Y').strftime('%Y-%m-%d'))"
   ]
  },
  {
   "cell_type": "code",
   "execution_count": 55,
   "id": "9974b52e",
   "metadata": {},
   "outputs": [
    {
     "data": {
      "text/html": [
       "<div>\n",
       "<style scoped>\n",
       "    .dataframe tbody tr th:only-of-type {\n",
       "        vertical-align: middle;\n",
       "    }\n",
       "\n",
       "    .dataframe tbody tr th {\n",
       "        vertical-align: top;\n",
       "    }\n",
       "\n",
       "    .dataframe thead th {\n",
       "        text-align: right;\n",
       "    }\n",
       "</style>\n",
       "<table border=\"1\" class=\"dataframe\">\n",
       "  <thead>\n",
       "    <tr style=\"text-align: right;\">\n",
       "      <th></th>\n",
       "      <th>ACCT_NBR</th>\n",
       "      <th>SUCCESSOR</th>\n",
       "      <th>ΤΡΟΠΟΣ_ΕΝΤΟΠΙΣΜΟΥ</th>\n",
       "      <th>ΣΗΜΕΙΟ_ΕΝΤΟΠΙΣΜΟΥ</th>\n",
       "      <th>HMANAF</th>\n",
       "      <th>INITIAL_DETECTION_DATE</th>\n",
       "      <th>DETECTION_DATE</th>\n",
       "      <th>NON_REGISTERED_ENERGY</th>\n",
       "    </tr>\n",
       "  </thead>\n",
       "  <tbody>\n",
       "    <tr>\n",
       "      <th>15</th>\n",
       "      <td>491054</td>\n",
       "      <td>6</td>\n",
       "      <td>Μέσω Λοιπών Εργασιών &amp; Συντήρησης</td>\n",
       "      <td>ΑΓΝΩΣΤΟ</td>\n",
       "      <td>2019-02-05</td>\n",
       "      <td>05/022019</td>\n",
       "      <td>2019-02-05</td>\n",
       "      <td>0.0</td>\n",
       "    </tr>\n",
       "    <tr>\n",
       "      <th>902</th>\n",
       "      <td>216405</td>\n",
       "      <td>3</td>\n",
       "      <td>Μέσω Στοχευμένων Ελέγχων</td>\n",
       "      <td>ΑΚΡΟΔΕΚΤΕΣ</td>\n",
       "      <td>2017-10-12</td>\n",
       "      <td>12/102017</td>\n",
       "      <td>2017-10-12</td>\n",
       "      <td>3121.0</td>\n",
       "    </tr>\n",
       "    <tr>\n",
       "      <th>1360</th>\n",
       "      <td>327574</td>\n",
       "      <td>4</td>\n",
       "      <td>ΑΓΝΩΣΤΟΣ</td>\n",
       "      <td>ΑΚΡΟΔΕΚΤΕΣ</td>\n",
       "      <td>2022-04-07</td>\n",
       "      <td>11/042022</td>\n",
       "      <td>2022-04-11</td>\n",
       "      <td>NaN</td>\n",
       "    </tr>\n",
       "    <tr>\n",
       "      <th>1570</th>\n",
       "      <td>470407</td>\n",
       "      <td>2</td>\n",
       "      <td>ΑΓΝΩΣΤΟΣ</td>\n",
       "      <td>ΑΚΡΟΔΕΚΤΕΣ</td>\n",
       "      <td>2022-03-22</td>\n",
       "      <td>15/042022</td>\n",
       "      <td>2022-04-15</td>\n",
       "      <td>NaN</td>\n",
       "    </tr>\n",
       "    <tr>\n",
       "      <th>2930</th>\n",
       "      <td>237605</td>\n",
       "      <td>4</td>\n",
       "      <td>Μέσω Λοιπών Εργασιών &amp; Συντήρησης</td>\n",
       "      <td>ΑΓΝΩΣΤΟ</td>\n",
       "      <td>2019-03-18</td>\n",
       "      <td>18/032019</td>\n",
       "      <td>2019-03-18</td>\n",
       "      <td>1447.0</td>\n",
       "    </tr>\n",
       "  </tbody>\n",
       "</table>\n",
       "</div>"
      ],
      "text/plain": [
       "      ACCT_NBR  SUCCESSOR                  ΤΡΟΠΟΣ_ΕΝΤΟΠΙΣΜΟΥ  \\\n",
       "15      491054          6  Μέσω Λοιπών Εργασιών & Συντήρησης   \n",
       "902     216405          3           Μέσω Στοχευμένων Ελέγχων   \n",
       "1360    327574          4                           ΑΓΝΩΣΤΟΣ   \n",
       "1570    470407          2                           ΑΓΝΩΣΤΟΣ   \n",
       "2930    237605          4  Μέσω Λοιπών Εργασιών & Συντήρησης   \n",
       "\n",
       "     ΣΗΜΕΙΟ_ΕΝΤΟΠΙΣΜΟΥ      HMANAF INITIAL_DETECTION_DATE DETECTION_DATE  \\\n",
       "15             ΑΓΝΩΣΤΟ  2019-02-05              05/022019     2019-02-05   \n",
       "902         ΑΚΡΟΔΕΚΤΕΣ  2017-10-12              12/102017     2017-10-12   \n",
       "1360        ΑΚΡΟΔΕΚΤΕΣ  2022-04-07              11/042022     2022-04-11   \n",
       "1570        ΑΚΡΟΔΕΚΤΕΣ  2022-03-22              15/042022     2022-04-15   \n",
       "2930           ΑΓΝΩΣΤΟ  2019-03-18              18/032019     2019-03-18   \n",
       "\n",
       "      NON_REGISTERED_ENERGY  \n",
       "15                      0.0  \n",
       "902                  3121.0  \n",
       "1360                    NaN  \n",
       "1570                    NaN  \n",
       "2930                 1447.0  "
      ]
     },
     "execution_count": 55,
     "metadata": {},
     "output_type": "execute_result"
    }
   ],
   "source": [
    "selected_rows"
   ]
  },
  {
   "cell_type": "code",
   "execution_count": 56,
   "id": "f1db5537",
   "metadata": {},
   "outputs": [],
   "source": [
    "tmp_df3.loc[indices] = selected_rows"
   ]
  },
  {
   "cell_type": "code",
   "execution_count": 57,
   "id": "344630e0",
   "metadata": {},
   "outputs": [
    {
     "data": {
      "text/html": [
       "<div>\n",
       "<style scoped>\n",
       "    .dataframe tbody tr th:only-of-type {\n",
       "        vertical-align: middle;\n",
       "    }\n",
       "\n",
       "    .dataframe tbody tr th {\n",
       "        vertical-align: top;\n",
       "    }\n",
       "\n",
       "    .dataframe thead th {\n",
       "        text-align: right;\n",
       "    }\n",
       "</style>\n",
       "<table border=\"1\" class=\"dataframe\">\n",
       "  <thead>\n",
       "    <tr style=\"text-align: right;\">\n",
       "      <th></th>\n",
       "      <th>ACCT_NBR</th>\n",
       "      <th>SUCCESSOR</th>\n",
       "      <th>ΤΡΟΠΟΣ_ΕΝΤΟΠΙΣΜΟΥ</th>\n",
       "      <th>ΣΗΜΕΙΟ_ΕΝΤΟΠΙΣΜΟΥ</th>\n",
       "      <th>HMANAF</th>\n",
       "      <th>INITIAL_DETECTION_DATE</th>\n",
       "      <th>DETECTION_DATE</th>\n",
       "      <th>NON_REGISTERED_ENERGY</th>\n",
       "    </tr>\n",
       "  </thead>\n",
       "  <tbody>\n",
       "    <tr>\n",
       "      <th>3663</th>\n",
       "      <td>491155</td>\n",
       "      <td>3</td>\n",
       "      <td>ΑΓΝΩΣΤΟΣ</td>\n",
       "      <td>ΑΚΡΟΔΕΚΤΕΣ</td>\n",
       "      <td>2022-02-14</td>\n",
       "      <td>NaN</td>\n",
       "      <td>NaT</td>\n",
       "      <td>NaN</td>\n",
       "    </tr>\n",
       "  </tbody>\n",
       "</table>\n",
       "</div>"
      ],
      "text/plain": [
       "      ACCT_NBR  SUCCESSOR ΤΡΟΠΟΣ_ΕΝΤΟΠΙΣΜΟΥ ΣΗΜΕΙΟ_ΕΝΤΟΠΙΣΜΟΥ      HMANAF  \\\n",
       "3663    491155          3          ΑΓΝΩΣΤΟΣ        ΑΚΡΟΔΕΚΤΕΣ  2022-02-14   \n",
       "\n",
       "     INITIAL_DETECTION_DATE DETECTION_DATE  NON_REGISTERED_ENERGY  \n",
       "3663                    NaN            NaT                    NaN  "
      ]
     },
     "execution_count": 57,
     "metadata": {},
     "output_type": "execute_result"
    }
   ],
   "source": [
    "tmp_df3[tmp_df3.DETECTION_DATE.isnull()]"
   ]
  },
  {
   "cell_type": "code",
   "execution_count": 58,
   "id": "6093c46f",
   "metadata": {},
   "outputs": [],
   "source": [
    "df3 = tmp_df3.copy()"
   ]
  },
  {
   "cell_type": "code",
   "execution_count": null,
   "id": "e9a60abe",
   "metadata": {},
   "outputs": [],
   "source": []
  },
  {
   "cell_type": "code",
   "execution_count": 59,
   "id": "b69db5aa",
   "metadata": {},
   "outputs": [],
   "source": [
    "tmp_df3['INITIAL_DETECTION_DATE'] = tmp_df3['INITIAL_DETECTION_DATE'].apply(parse_date)"
   ]
  },
  {
   "cell_type": "code",
   "execution_count": 60,
   "id": "58d0ddf0",
   "metadata": {},
   "outputs": [
    {
     "data": {
      "text/html": [
       "<div>\n",
       "<style scoped>\n",
       "    .dataframe tbody tr th:only-of-type {\n",
       "        vertical-align: middle;\n",
       "    }\n",
       "\n",
       "    .dataframe tbody tr th {\n",
       "        vertical-align: top;\n",
       "    }\n",
       "\n",
       "    .dataframe thead th {\n",
       "        text-align: right;\n",
       "    }\n",
       "</style>\n",
       "<table border=\"1\" class=\"dataframe\">\n",
       "  <thead>\n",
       "    <tr style=\"text-align: right;\">\n",
       "      <th></th>\n",
       "      <th>ACCT_NBR</th>\n",
       "      <th>SUCCESSOR</th>\n",
       "      <th>ΤΡΟΠΟΣ_ΕΝΤΟΠΙΣΜΟΥ</th>\n",
       "      <th>ΣΗΜΕΙΟ_ΕΝΤΟΠΙΣΜΟΥ</th>\n",
       "      <th>HMANAF</th>\n",
       "      <th>INITIAL_DETECTION_DATE</th>\n",
       "      <th>DETECTION_DATE</th>\n",
       "      <th>NON_REGISTERED_ENERGY</th>\n",
       "    </tr>\n",
       "  </thead>\n",
       "  <tbody>\n",
       "    <tr>\n",
       "      <th>15</th>\n",
       "      <td>491054</td>\n",
       "      <td>6</td>\n",
       "      <td>Μέσω Λοιπών Εργασιών &amp; Συντήρησης</td>\n",
       "      <td>ΑΓΝΩΣΤΟ</td>\n",
       "      <td>2019-02-05</td>\n",
       "      <td>NaT</td>\n",
       "      <td>2019-02-05</td>\n",
       "      <td>0.0</td>\n",
       "    </tr>\n",
       "    <tr>\n",
       "      <th>176</th>\n",
       "      <td>40750</td>\n",
       "      <td>1</td>\n",
       "      <td>Μέσω Καταμέτρησης (ΔΑΚ)</td>\n",
       "      <td>ΜΗΧΑΝΙΣΜΟΣ ΜΕΤΡΗΣΗΣ</td>\n",
       "      <td>2016-04-28</td>\n",
       "      <td>NaT</td>\n",
       "      <td>2016-07-27</td>\n",
       "      <td>NaN</td>\n",
       "    </tr>\n",
       "    <tr>\n",
       "      <th>902</th>\n",
       "      <td>216405</td>\n",
       "      <td>3</td>\n",
       "      <td>Μέσω Στοχευμένων Ελέγχων</td>\n",
       "      <td>ΑΚΡΟΔΕΚΤΕΣ</td>\n",
       "      <td>2017-10-12</td>\n",
       "      <td>NaT</td>\n",
       "      <td>2017-10-12</td>\n",
       "      <td>3121.0</td>\n",
       "    </tr>\n",
       "    <tr>\n",
       "      <th>1360</th>\n",
       "      <td>327574</td>\n",
       "      <td>4</td>\n",
       "      <td>ΑΓΝΩΣΤΟΣ</td>\n",
       "      <td>ΑΚΡΟΔΕΚΤΕΣ</td>\n",
       "      <td>2022-04-07</td>\n",
       "      <td>NaT</td>\n",
       "      <td>2022-04-11</td>\n",
       "      <td>NaN</td>\n",
       "    </tr>\n",
       "    <tr>\n",
       "      <th>1570</th>\n",
       "      <td>470407</td>\n",
       "      <td>2</td>\n",
       "      <td>ΑΓΝΩΣΤΟΣ</td>\n",
       "      <td>ΑΚΡΟΔΕΚΤΕΣ</td>\n",
       "      <td>2022-03-22</td>\n",
       "      <td>NaT</td>\n",
       "      <td>2022-04-15</td>\n",
       "      <td>NaN</td>\n",
       "    </tr>\n",
       "    <tr>\n",
       "      <th>2930</th>\n",
       "      <td>237605</td>\n",
       "      <td>4</td>\n",
       "      <td>Μέσω Λοιπών Εργασιών &amp; Συντήρησης</td>\n",
       "      <td>ΑΓΝΩΣΤΟ</td>\n",
       "      <td>2019-03-18</td>\n",
       "      <td>NaT</td>\n",
       "      <td>2019-03-18</td>\n",
       "      <td>1447.0</td>\n",
       "    </tr>\n",
       "    <tr>\n",
       "      <th>3663</th>\n",
       "      <td>491155</td>\n",
       "      <td>3</td>\n",
       "      <td>ΑΓΝΩΣΤΟΣ</td>\n",
       "      <td>ΑΚΡΟΔΕΚΤΕΣ</td>\n",
       "      <td>2022-02-14</td>\n",
       "      <td>NaT</td>\n",
       "      <td>NaT</td>\n",
       "      <td>NaN</td>\n",
       "    </tr>\n",
       "  </tbody>\n",
       "</table>\n",
       "</div>"
      ],
      "text/plain": [
       "      ACCT_NBR  SUCCESSOR                  ΤΡΟΠΟΣ_ΕΝΤΟΠΙΣΜΟΥ  \\\n",
       "15      491054          6  Μέσω Λοιπών Εργασιών & Συντήρησης   \n",
       "176      40750          1            Μέσω Καταμέτρησης (ΔΑΚ)   \n",
       "902     216405          3           Μέσω Στοχευμένων Ελέγχων   \n",
       "1360    327574          4                           ΑΓΝΩΣΤΟΣ   \n",
       "1570    470407          2                           ΑΓΝΩΣΤΟΣ   \n",
       "2930    237605          4  Μέσω Λοιπών Εργασιών & Συντήρησης   \n",
       "3663    491155          3                           ΑΓΝΩΣΤΟΣ   \n",
       "\n",
       "        ΣΗΜΕΙΟ_ΕΝΤΟΠΙΣΜΟΥ      HMANAF INITIAL_DETECTION_DATE DETECTION_DATE  \\\n",
       "15                ΑΓΝΩΣΤΟ  2019-02-05                    NaT     2019-02-05   \n",
       "176   ΜΗΧΑΝΙΣΜΟΣ ΜΕΤΡΗΣΗΣ  2016-04-28                    NaT     2016-07-27   \n",
       "902            ΑΚΡΟΔΕΚΤΕΣ  2017-10-12                    NaT     2017-10-12   \n",
       "1360           ΑΚΡΟΔΕΚΤΕΣ  2022-04-07                    NaT     2022-04-11   \n",
       "1570           ΑΚΡΟΔΕΚΤΕΣ  2022-03-22                    NaT     2022-04-15   \n",
       "2930              ΑΓΝΩΣΤΟ  2019-03-18                    NaT     2019-03-18   \n",
       "3663           ΑΚΡΟΔΕΚΤΕΣ  2022-02-14                    NaT            NaT   \n",
       "\n",
       "      NON_REGISTERED_ENERGY  \n",
       "15                      0.0  \n",
       "176                     NaN  \n",
       "902                  3121.0  \n",
       "1360                    NaN  \n",
       "1570                    NaN  \n",
       "2930                 1447.0  \n",
       "3663                    NaN  "
      ]
     },
     "execution_count": 60,
     "metadata": {},
     "output_type": "execute_result"
    }
   ],
   "source": [
    "tmp_df3[tmp_df3.INITIAL_DETECTION_DATE.isnull()]"
   ]
  },
  {
   "cell_type": "code",
   "execution_count": 61,
   "id": "73d2b086",
   "metadata": {},
   "outputs": [
    {
     "data": {
      "text/plain": [
       "7"
      ]
     },
     "execution_count": 61,
     "metadata": {},
     "output_type": "execute_result"
    }
   ],
   "source": [
    "len(tmp_df3[tmp_df3.INITIAL_DETECTION_DATE.isnull()])"
   ]
  },
  {
   "cell_type": "code",
   "execution_count": 62,
   "id": "0e674f62",
   "metadata": {},
   "outputs": [],
   "source": [
    "indices = [15, 176, 902, 1360, 1570, 2930, 3663]"
   ]
  },
  {
   "cell_type": "code",
   "execution_count": 63,
   "id": "622cbb6e",
   "metadata": {},
   "outputs": [
    {
     "data": {
      "text/html": [
       "<div>\n",
       "<style scoped>\n",
       "    .dataframe tbody tr th:only-of-type {\n",
       "        vertical-align: middle;\n",
       "    }\n",
       "\n",
       "    .dataframe tbody tr th {\n",
       "        vertical-align: top;\n",
       "    }\n",
       "\n",
       "    .dataframe thead th {\n",
       "        text-align: right;\n",
       "    }\n",
       "</style>\n",
       "<table border=\"1\" class=\"dataframe\">\n",
       "  <thead>\n",
       "    <tr style=\"text-align: right;\">\n",
       "      <th></th>\n",
       "      <th>ACCT_NBR</th>\n",
       "      <th>SUCCESSOR</th>\n",
       "      <th>ΤΡΟΠΟΣ_ΕΝΤΟΠΙΣΜΟΥ</th>\n",
       "      <th>ΣΗΜΕΙΟ_ΕΝΤΟΠΙΣΜΟΥ</th>\n",
       "      <th>HMANAF</th>\n",
       "      <th>INITIAL_DETECTION_DATE</th>\n",
       "      <th>DETECTION_DATE</th>\n",
       "      <th>NON_REGISTERED_ENERGY</th>\n",
       "    </tr>\n",
       "  </thead>\n",
       "  <tbody>\n",
       "    <tr>\n",
       "      <th>15</th>\n",
       "      <td>491054</td>\n",
       "      <td>6</td>\n",
       "      <td>Μέσω Λοιπών Εργασιών &amp; Συντήρησης</td>\n",
       "      <td>ΑΓΝΩΣΤΟ</td>\n",
       "      <td>2019-02-05</td>\n",
       "      <td>05/022019</td>\n",
       "      <td>2019-02-05</td>\n",
       "      <td>0.0</td>\n",
       "    </tr>\n",
       "    <tr>\n",
       "      <th>176</th>\n",
       "      <td>40750</td>\n",
       "      <td>1</td>\n",
       "      <td>Μέσω Καταμέτρησης (ΔΑΚ)</td>\n",
       "      <td>ΜΗΧΑΝΙΣΜΟΣ ΜΕΤΡΗΣΗΣ</td>\n",
       "      <td>2016-04-28</td>\n",
       "      <td>28/042016</td>\n",
       "      <td>2016-07-27</td>\n",
       "      <td>NaN</td>\n",
       "    </tr>\n",
       "    <tr>\n",
       "      <th>902</th>\n",
       "      <td>216405</td>\n",
       "      <td>3</td>\n",
       "      <td>Μέσω Στοχευμένων Ελέγχων</td>\n",
       "      <td>ΑΚΡΟΔΕΚΤΕΣ</td>\n",
       "      <td>2017-10-12</td>\n",
       "      <td>12/102017</td>\n",
       "      <td>2017-10-12</td>\n",
       "      <td>3121.0</td>\n",
       "    </tr>\n",
       "    <tr>\n",
       "      <th>1360</th>\n",
       "      <td>327574</td>\n",
       "      <td>4</td>\n",
       "      <td>ΑΓΝΩΣΤΟΣ</td>\n",
       "      <td>ΑΚΡΟΔΕΚΤΕΣ</td>\n",
       "      <td>2022-04-07</td>\n",
       "      <td>11/042022</td>\n",
       "      <td>2022-04-11</td>\n",
       "      <td>NaN</td>\n",
       "    </tr>\n",
       "    <tr>\n",
       "      <th>1570</th>\n",
       "      <td>470407</td>\n",
       "      <td>2</td>\n",
       "      <td>ΑΓΝΩΣΤΟΣ</td>\n",
       "      <td>ΑΚΡΟΔΕΚΤΕΣ</td>\n",
       "      <td>2022-03-22</td>\n",
       "      <td>15/042022</td>\n",
       "      <td>2022-04-15</td>\n",
       "      <td>NaN</td>\n",
       "    </tr>\n",
       "    <tr>\n",
       "      <th>2930</th>\n",
       "      <td>237605</td>\n",
       "      <td>4</td>\n",
       "      <td>Μέσω Λοιπών Εργασιών &amp; Συντήρησης</td>\n",
       "      <td>ΑΓΝΩΣΤΟ</td>\n",
       "      <td>2019-03-18</td>\n",
       "      <td>18/032019</td>\n",
       "      <td>2019-03-18</td>\n",
       "      <td>1447.0</td>\n",
       "    </tr>\n",
       "    <tr>\n",
       "      <th>3663</th>\n",
       "      <td>491155</td>\n",
       "      <td>3</td>\n",
       "      <td>ΑΓΝΩΣΤΟΣ</td>\n",
       "      <td>ΑΚΡΟΔΕΚΤΕΣ</td>\n",
       "      <td>2022-02-14</td>\n",
       "      <td>NaN</td>\n",
       "      <td>NaT</td>\n",
       "      <td>NaN</td>\n",
       "    </tr>\n",
       "  </tbody>\n",
       "</table>\n",
       "</div>"
      ],
      "text/plain": [
       "      ACCT_NBR  SUCCESSOR                  ΤΡΟΠΟΣ_ΕΝΤΟΠΙΣΜΟΥ  \\\n",
       "15      491054          6  Μέσω Λοιπών Εργασιών & Συντήρησης   \n",
       "176      40750          1            Μέσω Καταμέτρησης (ΔΑΚ)   \n",
       "902     216405          3           Μέσω Στοχευμένων Ελέγχων   \n",
       "1360    327574          4                           ΑΓΝΩΣΤΟΣ   \n",
       "1570    470407          2                           ΑΓΝΩΣΤΟΣ   \n",
       "2930    237605          4  Μέσω Λοιπών Εργασιών & Συντήρησης   \n",
       "3663    491155          3                           ΑΓΝΩΣΤΟΣ   \n",
       "\n",
       "        ΣΗΜΕΙΟ_ΕΝΤΟΠΙΣΜΟΥ      HMANAF INITIAL_DETECTION_DATE DETECTION_DATE  \\\n",
       "15                ΑΓΝΩΣΤΟ  2019-02-05              05/022019     2019-02-05   \n",
       "176   ΜΗΧΑΝΙΣΜΟΣ ΜΕΤΡΗΣΗΣ  2016-04-28              28/042016     2016-07-27   \n",
       "902            ΑΚΡΟΔΕΚΤΕΣ  2017-10-12              12/102017     2017-10-12   \n",
       "1360           ΑΚΡΟΔΕΚΤΕΣ  2022-04-07              11/042022     2022-04-11   \n",
       "1570           ΑΚΡΟΔΕΚΤΕΣ  2022-03-22              15/042022     2022-04-15   \n",
       "2930              ΑΓΝΩΣΤΟ  2019-03-18              18/032019     2019-03-18   \n",
       "3663           ΑΚΡΟΔΕΚΤΕΣ  2022-02-14                    NaN            NaT   \n",
       "\n",
       "      NON_REGISTERED_ENERGY  \n",
       "15                      0.0  \n",
       "176                     NaN  \n",
       "902                  3121.0  \n",
       "1360                    NaN  \n",
       "1570                    NaN  \n",
       "2930                 1447.0  \n",
       "3663                    NaN  "
      ]
     },
     "execution_count": 63,
     "metadata": {},
     "output_type": "execute_result"
    }
   ],
   "source": [
    "selected_rows = df3.iloc[indices]\n",
    "selected_rows"
   ]
  },
  {
   "cell_type": "code",
   "execution_count": 64,
   "id": "98f253df",
   "metadata": {},
   "outputs": [],
   "source": [
    "indices = [15, 176, 902, 1360, 1570, 2930]"
   ]
  },
  {
   "cell_type": "code",
   "execution_count": 65,
   "id": "ac1a55a4",
   "metadata": {},
   "outputs": [
    {
     "data": {
      "text/html": [
       "<div>\n",
       "<style scoped>\n",
       "    .dataframe tbody tr th:only-of-type {\n",
       "        vertical-align: middle;\n",
       "    }\n",
       "\n",
       "    .dataframe tbody tr th {\n",
       "        vertical-align: top;\n",
       "    }\n",
       "\n",
       "    .dataframe thead th {\n",
       "        text-align: right;\n",
       "    }\n",
       "</style>\n",
       "<table border=\"1\" class=\"dataframe\">\n",
       "  <thead>\n",
       "    <tr style=\"text-align: right;\">\n",
       "      <th></th>\n",
       "      <th>ACCT_NBR</th>\n",
       "      <th>SUCCESSOR</th>\n",
       "      <th>ΤΡΟΠΟΣ_ΕΝΤΟΠΙΣΜΟΥ</th>\n",
       "      <th>ΣΗΜΕΙΟ_ΕΝΤΟΠΙΣΜΟΥ</th>\n",
       "      <th>HMANAF</th>\n",
       "      <th>INITIAL_DETECTION_DATE</th>\n",
       "      <th>DETECTION_DATE</th>\n",
       "      <th>NON_REGISTERED_ENERGY</th>\n",
       "    </tr>\n",
       "  </thead>\n",
       "  <tbody>\n",
       "    <tr>\n",
       "      <th>15</th>\n",
       "      <td>491054</td>\n",
       "      <td>6</td>\n",
       "      <td>Μέσω Λοιπών Εργασιών &amp; Συντήρησης</td>\n",
       "      <td>ΑΓΝΩΣΤΟ</td>\n",
       "      <td>2019-02-05</td>\n",
       "      <td>05/022019</td>\n",
       "      <td>2019-02-05</td>\n",
       "      <td>0.0</td>\n",
       "    </tr>\n",
       "    <tr>\n",
       "      <th>176</th>\n",
       "      <td>40750</td>\n",
       "      <td>1</td>\n",
       "      <td>Μέσω Καταμέτρησης (ΔΑΚ)</td>\n",
       "      <td>ΜΗΧΑΝΙΣΜΟΣ ΜΕΤΡΗΣΗΣ</td>\n",
       "      <td>2016-04-28</td>\n",
       "      <td>28/042016</td>\n",
       "      <td>2016-07-27</td>\n",
       "      <td>NaN</td>\n",
       "    </tr>\n",
       "    <tr>\n",
       "      <th>902</th>\n",
       "      <td>216405</td>\n",
       "      <td>3</td>\n",
       "      <td>Μέσω Στοχευμένων Ελέγχων</td>\n",
       "      <td>ΑΚΡΟΔΕΚΤΕΣ</td>\n",
       "      <td>2017-10-12</td>\n",
       "      <td>12/102017</td>\n",
       "      <td>2017-10-12</td>\n",
       "      <td>3121.0</td>\n",
       "    </tr>\n",
       "    <tr>\n",
       "      <th>1360</th>\n",
       "      <td>327574</td>\n",
       "      <td>4</td>\n",
       "      <td>ΑΓΝΩΣΤΟΣ</td>\n",
       "      <td>ΑΚΡΟΔΕΚΤΕΣ</td>\n",
       "      <td>2022-04-07</td>\n",
       "      <td>11/042022</td>\n",
       "      <td>2022-04-11</td>\n",
       "      <td>NaN</td>\n",
       "    </tr>\n",
       "    <tr>\n",
       "      <th>1570</th>\n",
       "      <td>470407</td>\n",
       "      <td>2</td>\n",
       "      <td>ΑΓΝΩΣΤΟΣ</td>\n",
       "      <td>ΑΚΡΟΔΕΚΤΕΣ</td>\n",
       "      <td>2022-03-22</td>\n",
       "      <td>15/042022</td>\n",
       "      <td>2022-04-15</td>\n",
       "      <td>NaN</td>\n",
       "    </tr>\n",
       "    <tr>\n",
       "      <th>2930</th>\n",
       "      <td>237605</td>\n",
       "      <td>4</td>\n",
       "      <td>Μέσω Λοιπών Εργασιών &amp; Συντήρησης</td>\n",
       "      <td>ΑΓΝΩΣΤΟ</td>\n",
       "      <td>2019-03-18</td>\n",
       "      <td>18/032019</td>\n",
       "      <td>2019-03-18</td>\n",
       "      <td>1447.0</td>\n",
       "    </tr>\n",
       "  </tbody>\n",
       "</table>\n",
       "</div>"
      ],
      "text/plain": [
       "      ACCT_NBR  SUCCESSOR                  ΤΡΟΠΟΣ_ΕΝΤΟΠΙΣΜΟΥ  \\\n",
       "15      491054          6  Μέσω Λοιπών Εργασιών & Συντήρησης   \n",
       "176      40750          1            Μέσω Καταμέτρησης (ΔΑΚ)   \n",
       "902     216405          3           Μέσω Στοχευμένων Ελέγχων   \n",
       "1360    327574          4                           ΑΓΝΩΣΤΟΣ   \n",
       "1570    470407          2                           ΑΓΝΩΣΤΟΣ   \n",
       "2930    237605          4  Μέσω Λοιπών Εργασιών & Συντήρησης   \n",
       "\n",
       "        ΣΗΜΕΙΟ_ΕΝΤΟΠΙΣΜΟΥ      HMANAF INITIAL_DETECTION_DATE DETECTION_DATE  \\\n",
       "15                ΑΓΝΩΣΤΟ  2019-02-05              05/022019     2019-02-05   \n",
       "176   ΜΗΧΑΝΙΣΜΟΣ ΜΕΤΡΗΣΗΣ  2016-04-28              28/042016     2016-07-27   \n",
       "902            ΑΚΡΟΔΕΚΤΕΣ  2017-10-12              12/102017     2017-10-12   \n",
       "1360           ΑΚΡΟΔΕΚΤΕΣ  2022-04-07              11/042022     2022-04-11   \n",
       "1570           ΑΚΡΟΔΕΚΤΕΣ  2022-03-22              15/042022     2022-04-15   \n",
       "2930              ΑΓΝΩΣΤΟ  2019-03-18              18/032019     2019-03-18   \n",
       "\n",
       "      NON_REGISTERED_ENERGY  \n",
       "15                      0.0  \n",
       "176                     NaN  \n",
       "902                  3121.0  \n",
       "1360                    NaN  \n",
       "1570                    NaN  \n",
       "2930                 1447.0  "
      ]
     },
     "execution_count": 65,
     "metadata": {},
     "output_type": "execute_result"
    }
   ],
   "source": [
    "selected_rows = df3.iloc[indices]\n",
    "selected_rows"
   ]
  },
  {
   "cell_type": "code",
   "execution_count": 66,
   "id": "a2449bf8",
   "metadata": {},
   "outputs": [
    {
     "name": "stderr",
     "output_type": "stream",
     "text": [
      "/tmp/ipykernel_4210/2133048324.py:1: SettingWithCopyWarning: \n",
      "A value is trying to be set on a copy of a slice from a DataFrame.\n",
      "Try using .loc[row_indexer,col_indexer] = value instead\n",
      "\n",
      "See the caveats in the documentation: https://pandas.pydata.org/pandas-docs/stable/user_guide/indexing.html#returning-a-view-versus-a-copy\n",
      "  selected_rows['INITIAL_DETECTION_DATE'] = selected_rows['INITIAL_DETECTION_DATE'].apply(lambda x: datetime.strptime(x, '%d/%m%Y').strftime('%Y-%m-%d'))\n"
     ]
    }
   ],
   "source": [
    "selected_rows['INITIAL_DETECTION_DATE'] = selected_rows['INITIAL_DETECTION_DATE'].apply(lambda x: datetime.strptime(x, '%d/%m%Y').strftime('%Y-%m-%d'))"
   ]
  },
  {
   "cell_type": "code",
   "execution_count": 67,
   "id": "c3629d03",
   "metadata": {},
   "outputs": [
    {
     "data": {
      "text/html": [
       "<div>\n",
       "<style scoped>\n",
       "    .dataframe tbody tr th:only-of-type {\n",
       "        vertical-align: middle;\n",
       "    }\n",
       "\n",
       "    .dataframe tbody tr th {\n",
       "        vertical-align: top;\n",
       "    }\n",
       "\n",
       "    .dataframe thead th {\n",
       "        text-align: right;\n",
       "    }\n",
       "</style>\n",
       "<table border=\"1\" class=\"dataframe\">\n",
       "  <thead>\n",
       "    <tr style=\"text-align: right;\">\n",
       "      <th></th>\n",
       "      <th>ACCT_NBR</th>\n",
       "      <th>SUCCESSOR</th>\n",
       "      <th>ΤΡΟΠΟΣ_ΕΝΤΟΠΙΣΜΟΥ</th>\n",
       "      <th>ΣΗΜΕΙΟ_ΕΝΤΟΠΙΣΜΟΥ</th>\n",
       "      <th>HMANAF</th>\n",
       "      <th>INITIAL_DETECTION_DATE</th>\n",
       "      <th>DETECTION_DATE</th>\n",
       "      <th>NON_REGISTERED_ENERGY</th>\n",
       "    </tr>\n",
       "  </thead>\n",
       "  <tbody>\n",
       "    <tr>\n",
       "      <th>15</th>\n",
       "      <td>491054</td>\n",
       "      <td>6</td>\n",
       "      <td>Μέσω Λοιπών Εργασιών &amp; Συντήρησης</td>\n",
       "      <td>ΑΓΝΩΣΤΟ</td>\n",
       "      <td>2019-02-05</td>\n",
       "      <td>2019-02-05</td>\n",
       "      <td>2019-02-05</td>\n",
       "      <td>0.0</td>\n",
       "    </tr>\n",
       "    <tr>\n",
       "      <th>176</th>\n",
       "      <td>40750</td>\n",
       "      <td>1</td>\n",
       "      <td>Μέσω Καταμέτρησης (ΔΑΚ)</td>\n",
       "      <td>ΜΗΧΑΝΙΣΜΟΣ ΜΕΤΡΗΣΗΣ</td>\n",
       "      <td>2016-04-28</td>\n",
       "      <td>2016-04-28</td>\n",
       "      <td>2016-07-27</td>\n",
       "      <td>NaN</td>\n",
       "    </tr>\n",
       "    <tr>\n",
       "      <th>902</th>\n",
       "      <td>216405</td>\n",
       "      <td>3</td>\n",
       "      <td>Μέσω Στοχευμένων Ελέγχων</td>\n",
       "      <td>ΑΚΡΟΔΕΚΤΕΣ</td>\n",
       "      <td>2017-10-12</td>\n",
       "      <td>2017-10-12</td>\n",
       "      <td>2017-10-12</td>\n",
       "      <td>3121.0</td>\n",
       "    </tr>\n",
       "    <tr>\n",
       "      <th>1360</th>\n",
       "      <td>327574</td>\n",
       "      <td>4</td>\n",
       "      <td>ΑΓΝΩΣΤΟΣ</td>\n",
       "      <td>ΑΚΡΟΔΕΚΤΕΣ</td>\n",
       "      <td>2022-04-07</td>\n",
       "      <td>2022-04-11</td>\n",
       "      <td>2022-04-11</td>\n",
       "      <td>NaN</td>\n",
       "    </tr>\n",
       "    <tr>\n",
       "      <th>1570</th>\n",
       "      <td>470407</td>\n",
       "      <td>2</td>\n",
       "      <td>ΑΓΝΩΣΤΟΣ</td>\n",
       "      <td>ΑΚΡΟΔΕΚΤΕΣ</td>\n",
       "      <td>2022-03-22</td>\n",
       "      <td>2022-04-15</td>\n",
       "      <td>2022-04-15</td>\n",
       "      <td>NaN</td>\n",
       "    </tr>\n",
       "    <tr>\n",
       "      <th>2930</th>\n",
       "      <td>237605</td>\n",
       "      <td>4</td>\n",
       "      <td>Μέσω Λοιπών Εργασιών &amp; Συντήρησης</td>\n",
       "      <td>ΑΓΝΩΣΤΟ</td>\n",
       "      <td>2019-03-18</td>\n",
       "      <td>2019-03-18</td>\n",
       "      <td>2019-03-18</td>\n",
       "      <td>1447.0</td>\n",
       "    </tr>\n",
       "  </tbody>\n",
       "</table>\n",
       "</div>"
      ],
      "text/plain": [
       "      ACCT_NBR  SUCCESSOR                  ΤΡΟΠΟΣ_ΕΝΤΟΠΙΣΜΟΥ  \\\n",
       "15      491054          6  Μέσω Λοιπών Εργασιών & Συντήρησης   \n",
       "176      40750          1            Μέσω Καταμέτρησης (ΔΑΚ)   \n",
       "902     216405          3           Μέσω Στοχευμένων Ελέγχων   \n",
       "1360    327574          4                           ΑΓΝΩΣΤΟΣ   \n",
       "1570    470407          2                           ΑΓΝΩΣΤΟΣ   \n",
       "2930    237605          4  Μέσω Λοιπών Εργασιών & Συντήρησης   \n",
       "\n",
       "        ΣΗΜΕΙΟ_ΕΝΤΟΠΙΣΜΟΥ      HMANAF INITIAL_DETECTION_DATE DETECTION_DATE  \\\n",
       "15                ΑΓΝΩΣΤΟ  2019-02-05             2019-02-05     2019-02-05   \n",
       "176   ΜΗΧΑΝΙΣΜΟΣ ΜΕΤΡΗΣΗΣ  2016-04-28             2016-04-28     2016-07-27   \n",
       "902            ΑΚΡΟΔΕΚΤΕΣ  2017-10-12             2017-10-12     2017-10-12   \n",
       "1360           ΑΚΡΟΔΕΚΤΕΣ  2022-04-07             2022-04-11     2022-04-11   \n",
       "1570           ΑΚΡΟΔΕΚΤΕΣ  2022-03-22             2022-04-15     2022-04-15   \n",
       "2930              ΑΓΝΩΣΤΟ  2019-03-18             2019-03-18     2019-03-18   \n",
       "\n",
       "      NON_REGISTERED_ENERGY  \n",
       "15                      0.0  \n",
       "176                     NaN  \n",
       "902                  3121.0  \n",
       "1360                    NaN  \n",
       "1570                    NaN  \n",
       "2930                 1447.0  "
      ]
     },
     "execution_count": 67,
     "metadata": {},
     "output_type": "execute_result"
    }
   ],
   "source": [
    "selected_rows"
   ]
  },
  {
   "cell_type": "code",
   "execution_count": 68,
   "id": "79216a44",
   "metadata": {},
   "outputs": [],
   "source": [
    "tmp_df3.loc[indices] = selected_rows"
   ]
  },
  {
   "cell_type": "code",
   "execution_count": 69,
   "id": "f58ddf2c",
   "metadata": {},
   "outputs": [
    {
     "data": {
      "text/html": [
       "<div>\n",
       "<style scoped>\n",
       "    .dataframe tbody tr th:only-of-type {\n",
       "        vertical-align: middle;\n",
       "    }\n",
       "\n",
       "    .dataframe tbody tr th {\n",
       "        vertical-align: top;\n",
       "    }\n",
       "\n",
       "    .dataframe thead th {\n",
       "        text-align: right;\n",
       "    }\n",
       "</style>\n",
       "<table border=\"1\" class=\"dataframe\">\n",
       "  <thead>\n",
       "    <tr style=\"text-align: right;\">\n",
       "      <th></th>\n",
       "      <th>ACCT_NBR</th>\n",
       "      <th>SUCCESSOR</th>\n",
       "      <th>ΤΡΟΠΟΣ_ΕΝΤΟΠΙΣΜΟΥ</th>\n",
       "      <th>ΣΗΜΕΙΟ_ΕΝΤΟΠΙΣΜΟΥ</th>\n",
       "      <th>HMANAF</th>\n",
       "      <th>INITIAL_DETECTION_DATE</th>\n",
       "      <th>DETECTION_DATE</th>\n",
       "      <th>NON_REGISTERED_ENERGY</th>\n",
       "    </tr>\n",
       "  </thead>\n",
       "  <tbody>\n",
       "    <tr>\n",
       "      <th>3663</th>\n",
       "      <td>491155</td>\n",
       "      <td>3</td>\n",
       "      <td>ΑΓΝΩΣΤΟΣ</td>\n",
       "      <td>ΑΚΡΟΔΕΚΤΕΣ</td>\n",
       "      <td>2022-02-14</td>\n",
       "      <td>NaT</td>\n",
       "      <td>NaT</td>\n",
       "      <td>NaN</td>\n",
       "    </tr>\n",
       "  </tbody>\n",
       "</table>\n",
       "</div>"
      ],
      "text/plain": [
       "      ACCT_NBR  SUCCESSOR ΤΡΟΠΟΣ_ΕΝΤΟΠΙΣΜΟΥ ΣΗΜΕΙΟ_ΕΝΤΟΠΙΣΜΟΥ      HMANAF  \\\n",
       "3663    491155          3          ΑΓΝΩΣΤΟΣ        ΑΚΡΟΔΕΚΤΕΣ  2022-02-14   \n",
       "\n",
       "     INITIAL_DETECTION_DATE DETECTION_DATE  NON_REGISTERED_ENERGY  \n",
       "3663                    NaT            NaT                    NaN  "
      ]
     },
     "execution_count": 69,
     "metadata": {},
     "output_type": "execute_result"
    }
   ],
   "source": [
    "tmp_df3[tmp_df3.DETECTION_DATE.isnull()]"
   ]
  },
  {
   "cell_type": "code",
   "execution_count": null,
   "id": "dac16d26",
   "metadata": {},
   "outputs": [],
   "source": []
  },
  {
   "cell_type": "code",
   "execution_count": 70,
   "id": "3f61daad",
   "metadata": {},
   "outputs": [],
   "source": [
    "tmp_df3['HMANAF'] = tmp_df3['HMANAF'].apply(parse_date)"
   ]
  },
  {
   "cell_type": "code",
   "execution_count": 71,
   "id": "35cef25e",
   "metadata": {},
   "outputs": [
    {
     "data": {
      "text/html": [
       "<div>\n",
       "<style scoped>\n",
       "    .dataframe tbody tr th:only-of-type {\n",
       "        vertical-align: middle;\n",
       "    }\n",
       "\n",
       "    .dataframe tbody tr th {\n",
       "        vertical-align: top;\n",
       "    }\n",
       "\n",
       "    .dataframe thead th {\n",
       "        text-align: right;\n",
       "    }\n",
       "</style>\n",
       "<table border=\"1\" class=\"dataframe\">\n",
       "  <thead>\n",
       "    <tr style=\"text-align: right;\">\n",
       "      <th></th>\n",
       "      <th>ACCT_NBR</th>\n",
       "      <th>SUCCESSOR</th>\n",
       "      <th>ΤΡΟΠΟΣ_ΕΝΤΟΠΙΣΜΟΥ</th>\n",
       "      <th>ΣΗΜΕΙΟ_ΕΝΤΟΠΙΣΜΟΥ</th>\n",
       "      <th>HMANAF</th>\n",
       "      <th>INITIAL_DETECTION_DATE</th>\n",
       "      <th>DETECTION_DATE</th>\n",
       "      <th>NON_REGISTERED_ENERGY</th>\n",
       "    </tr>\n",
       "  </thead>\n",
       "  <tbody>\n",
       "  </tbody>\n",
       "</table>\n",
       "</div>"
      ],
      "text/plain": [
       "Empty DataFrame\n",
       "Columns: [ACCT_NBR, SUCCESSOR, ΤΡΟΠΟΣ_ΕΝΤΟΠΙΣΜΟΥ, ΣΗΜΕΙΟ_ΕΝΤΟΠΙΣΜΟΥ, HMANAF, INITIAL_DETECTION_DATE, DETECTION_DATE, NON_REGISTERED_ENERGY]\n",
       "Index: []"
      ]
     },
     "execution_count": 71,
     "metadata": {},
     "output_type": "execute_result"
    }
   ],
   "source": [
    "tmp_df3[tmp_df3.HMANAF.isnull()]"
   ]
  },
  {
   "cell_type": "code",
   "execution_count": 72,
   "id": "886f0966",
   "metadata": {},
   "outputs": [
    {
     "data": {
      "text/html": [
       "<div>\n",
       "<style scoped>\n",
       "    .dataframe tbody tr th:only-of-type {\n",
       "        vertical-align: middle;\n",
       "    }\n",
       "\n",
       "    .dataframe tbody tr th {\n",
       "        vertical-align: top;\n",
       "    }\n",
       "\n",
       "    .dataframe thead th {\n",
       "        text-align: right;\n",
       "    }\n",
       "</style>\n",
       "<table border=\"1\" class=\"dataframe\">\n",
       "  <thead>\n",
       "    <tr style=\"text-align: right;\">\n",
       "      <th></th>\n",
       "      <th>ACCT_NBR</th>\n",
       "      <th>SUCCESSOR</th>\n",
       "      <th>ΤΡΟΠΟΣ_ΕΝΤΟΠΙΣΜΟΥ</th>\n",
       "      <th>ΣΗΜΕΙΟ_ΕΝΤΟΠΙΣΜΟΥ</th>\n",
       "      <th>HMANAF</th>\n",
       "      <th>INITIAL_DETECTION_DATE</th>\n",
       "      <th>DETECTION_DATE</th>\n",
       "      <th>NON_REGISTERED_ENERGY</th>\n",
       "    </tr>\n",
       "  </thead>\n",
       "  <tbody>\n",
       "    <tr>\n",
       "      <th>0</th>\n",
       "      <td>416</td>\n",
       "      <td>3</td>\n",
       "      <td>Μέσω Λοιπών Εργασιών &amp; Συντήρησης</td>\n",
       "      <td>ΑΓΝΩΣΤΟ</td>\n",
       "      <td>2018-03-01</td>\n",
       "      <td>2018-01-03</td>\n",
       "      <td>2018-01-03</td>\n",
       "      <td>1283.0</td>\n",
       "    </tr>\n",
       "    <tr>\n",
       "      <th>1</th>\n",
       "      <td>678</td>\n",
       "      <td>8</td>\n",
       "      <td>Μέσω Καταμέτρησης (ΔΑΚ)</td>\n",
       "      <td>ΑΚΡΟΔΕΚΤΕΣ</td>\n",
       "      <td>2018-08-16</td>\n",
       "      <td>2018-11-01</td>\n",
       "      <td>2018-11-01</td>\n",
       "      <td>640.0</td>\n",
       "    </tr>\n",
       "    <tr>\n",
       "      <th>2</th>\n",
       "      <td>957</td>\n",
       "      <td>2</td>\n",
       "      <td>Μέσω Λοιπών Εργασιών &amp; Συντήρησης</td>\n",
       "      <td>ΜΗΧΑΝΙΣΜΟΣ ΜΕΤΡΗΣΗΣ</td>\n",
       "      <td>2018-12-05</td>\n",
       "      <td>2018-12-18</td>\n",
       "      <td>2018-12-18</td>\n",
       "      <td>4665.0</td>\n",
       "    </tr>\n",
       "    <tr>\n",
       "      <th>3</th>\n",
       "      <td>20201</td>\n",
       "      <td>2</td>\n",
       "      <td>Μέσω Λοιπών Εργασιών &amp; Συντήρησης</td>\n",
       "      <td>ΑΚΡΟΔΕΚΤΕΣ</td>\n",
       "      <td>2017-01-19</td>\n",
       "      <td>2017-01-30</td>\n",
       "      <td>2017-01-30</td>\n",
       "      <td>NaN</td>\n",
       "    </tr>\n",
       "    <tr>\n",
       "      <th>4</th>\n",
       "      <td>2140</td>\n",
       "      <td>5</td>\n",
       "      <td>Μέσω Λοιπών Εργασιών &amp; Συντήρησης</td>\n",
       "      <td>ΑΓΝΩΣΤΟ</td>\n",
       "      <td>2019-05-29</td>\n",
       "      <td>2019-05-29</td>\n",
       "      <td>2019-05-29</td>\n",
       "      <td>1049.0</td>\n",
       "    </tr>\n",
       "  </tbody>\n",
       "</table>\n",
       "</div>"
      ],
      "text/plain": [
       "   ACCT_NBR  SUCCESSOR                  ΤΡΟΠΟΣ_ΕΝΤΟΠΙΣΜΟΥ  \\\n",
       "0       416          3  Μέσω Λοιπών Εργασιών & Συντήρησης   \n",
       "1       678          8            Μέσω Καταμέτρησης (ΔΑΚ)   \n",
       "2       957          2  Μέσω Λοιπών Εργασιών & Συντήρησης   \n",
       "3     20201          2  Μέσω Λοιπών Εργασιών & Συντήρησης   \n",
       "4      2140          5  Μέσω Λοιπών Εργασιών & Συντήρησης   \n",
       "\n",
       "     ΣΗΜΕΙΟ_ΕΝΤΟΠΙΣΜΟΥ     HMANAF INITIAL_DETECTION_DATE DETECTION_DATE  \\\n",
       "0              ΑΓΝΩΣΤΟ 2018-03-01             2018-01-03     2018-01-03   \n",
       "1           ΑΚΡΟΔΕΚΤΕΣ 2018-08-16             2018-11-01     2018-11-01   \n",
       "2  ΜΗΧΑΝΙΣΜΟΣ ΜΕΤΡΗΣΗΣ 2018-12-05             2018-12-18     2018-12-18   \n",
       "3           ΑΚΡΟΔΕΚΤΕΣ 2017-01-19             2017-01-30     2017-01-30   \n",
       "4              ΑΓΝΩΣΤΟ 2019-05-29             2019-05-29     2019-05-29   \n",
       "\n",
       "   NON_REGISTERED_ENERGY  \n",
       "0                 1283.0  \n",
       "1                  640.0  \n",
       "2                 4665.0  \n",
       "3                    NaN  \n",
       "4                 1049.0  "
      ]
     },
     "execution_count": 72,
     "metadata": {},
     "output_type": "execute_result"
    }
   ],
   "source": [
    "tmp_df3.head()"
   ]
  },
  {
   "cell_type": "code",
   "execution_count": 73,
   "id": "b3bd4874",
   "metadata": {},
   "outputs": [
    {
     "data": {
      "text/plain": [
       "3841"
      ]
     },
     "execution_count": 73,
     "metadata": {},
     "output_type": "execute_result"
    }
   ],
   "source": [
    "len(tmp_df3)"
   ]
  },
  {
   "cell_type": "code",
   "execution_count": 74,
   "id": "ebc45401",
   "metadata": {},
   "outputs": [
    {
     "data": {
      "text/html": [
       "<div>\n",
       "<style scoped>\n",
       "    .dataframe tbody tr th:only-of-type {\n",
       "        vertical-align: middle;\n",
       "    }\n",
       "\n",
       "    .dataframe tbody tr th {\n",
       "        vertical-align: top;\n",
       "    }\n",
       "\n",
       "    .dataframe thead th {\n",
       "        text-align: right;\n",
       "    }\n",
       "</style>\n",
       "<table border=\"1\" class=\"dataframe\">\n",
       "  <thead>\n",
       "    <tr style=\"text-align: right;\">\n",
       "      <th></th>\n",
       "      <th>ACCT_NBR</th>\n",
       "      <th>SUCCESSOR</th>\n",
       "      <th>ΤΡΟΠΟΣ_ΕΝΤΟΠΙΣΜΟΥ</th>\n",
       "      <th>ΣΗΜΕΙΟ_ΕΝΤΟΠΙΣΜΟΥ</th>\n",
       "      <th>HMANAF</th>\n",
       "      <th>INITIAL_DETECTION_DATE</th>\n",
       "      <th>DETECTION_DATE</th>\n",
       "      <th>NON_REGISTERED_ENERGY</th>\n",
       "    </tr>\n",
       "  </thead>\n",
       "  <tbody>\n",
       "    <tr>\n",
       "      <th>0</th>\n",
       "      <td>416</td>\n",
       "      <td>3</td>\n",
       "      <td>Μέσω Λοιπών Εργασιών &amp; Συντήρησης</td>\n",
       "      <td>ΑΓΝΩΣΤΟ</td>\n",
       "      <td>2018-03-01</td>\n",
       "      <td>2018-01-03</td>\n",
       "      <td>2018-01-03</td>\n",
       "      <td>1283.0</td>\n",
       "    </tr>\n",
       "    <tr>\n",
       "      <th>1</th>\n",
       "      <td>678</td>\n",
       "      <td>8</td>\n",
       "      <td>Μέσω Καταμέτρησης (ΔΑΚ)</td>\n",
       "      <td>ΑΚΡΟΔΕΚΤΕΣ</td>\n",
       "      <td>2018-08-16</td>\n",
       "      <td>2018-11-01</td>\n",
       "      <td>2018-11-01</td>\n",
       "      <td>640.0</td>\n",
       "    </tr>\n",
       "    <tr>\n",
       "      <th>2</th>\n",
       "      <td>957</td>\n",
       "      <td>2</td>\n",
       "      <td>Μέσω Λοιπών Εργασιών &amp; Συντήρησης</td>\n",
       "      <td>ΜΗΧΑΝΙΣΜΟΣ ΜΕΤΡΗΣΗΣ</td>\n",
       "      <td>2018-12-05</td>\n",
       "      <td>2018-12-18</td>\n",
       "      <td>2018-12-18</td>\n",
       "      <td>4665.0</td>\n",
       "    </tr>\n",
       "    <tr>\n",
       "      <th>3</th>\n",
       "      <td>20201</td>\n",
       "      <td>2</td>\n",
       "      <td>Μέσω Λοιπών Εργασιών &amp; Συντήρησης</td>\n",
       "      <td>ΑΚΡΟΔΕΚΤΕΣ</td>\n",
       "      <td>2017-01-19</td>\n",
       "      <td>2017-01-30</td>\n",
       "      <td>2017-01-30</td>\n",
       "      <td>NaN</td>\n",
       "    </tr>\n",
       "    <tr>\n",
       "      <th>4</th>\n",
       "      <td>2140</td>\n",
       "      <td>5</td>\n",
       "      <td>Μέσω Λοιπών Εργασιών &amp; Συντήρησης</td>\n",
       "      <td>ΑΓΝΩΣΤΟ</td>\n",
       "      <td>2019-05-29</td>\n",
       "      <td>2019-05-29</td>\n",
       "      <td>2019-05-29</td>\n",
       "      <td>1049.0</td>\n",
       "    </tr>\n",
       "    <tr>\n",
       "      <th>5</th>\n",
       "      <td>2140</td>\n",
       "      <td>5</td>\n",
       "      <td>Μέσω Λοιπών Εργασιών &amp; Συντήρησης</td>\n",
       "      <td>ΑΓΝΩΣΤΟ</td>\n",
       "      <td>2019-05-29</td>\n",
       "      <td>2019-05-29</td>\n",
       "      <td>2019-05-29</td>\n",
       "      <td>236.0</td>\n",
       "    </tr>\n",
       "    <tr>\n",
       "      <th>6</th>\n",
       "      <td>2333</td>\n",
       "      <td>3</td>\n",
       "      <td>Μέσω Λοιπών Εργασιών &amp; Συντήρησης</td>\n",
       "      <td>ΜΗΧΑΝΙΣΜΟΣ ΜΕΤΡΗΣΗΣ</td>\n",
       "      <td>2018-05-16</td>\n",
       "      <td>2021-05-19</td>\n",
       "      <td>2021-05-19</td>\n",
       "      <td>9242.0</td>\n",
       "    </tr>\n",
       "    <tr>\n",
       "      <th>7</th>\n",
       "      <td>2437</td>\n",
       "      <td>4</td>\n",
       "      <td>Μέσω Λοιπών Εργασιών &amp; Συντήρησης</td>\n",
       "      <td>ΑΚΡΟΔΕΚΤΕΣ</td>\n",
       "      <td>2019-09-10</td>\n",
       "      <td>2019-11-18</td>\n",
       "      <td>2019-11-18</td>\n",
       "      <td>3015.0</td>\n",
       "    </tr>\n",
       "    <tr>\n",
       "      <th>8</th>\n",
       "      <td>2497</td>\n",
       "      <td>1</td>\n",
       "      <td>Μέσω Λοιπών Εργασιών &amp; Συντήρησης</td>\n",
       "      <td>ΑΚΡΟΔΕΚΤΕΣ</td>\n",
       "      <td>2018-08-14</td>\n",
       "      <td>2018-10-22</td>\n",
       "      <td>2018-10-22</td>\n",
       "      <td>NaN</td>\n",
       "    </tr>\n",
       "    <tr>\n",
       "      <th>9</th>\n",
       "      <td>2645</td>\n",
       "      <td>3</td>\n",
       "      <td>Μέσω Καταμέτρησης (ΔΑΚ)</td>\n",
       "      <td>ΑΚΡΟΔΕΚΤΕΣ</td>\n",
       "      <td>2019-03-18</td>\n",
       "      <td>2019-06-12</td>\n",
       "      <td>2019-06-12</td>\n",
       "      <td>NaN</td>\n",
       "    </tr>\n",
       "    <tr>\n",
       "      <th>10</th>\n",
       "      <td>2687</td>\n",
       "      <td>2</td>\n",
       "      <td>Μέσω Λοιπών Εργασιών &amp; Συντήρησης</td>\n",
       "      <td>ΑΚΡΟΔΕΚΤΕΣ</td>\n",
       "      <td>2020-01-13</td>\n",
       "      <td>2020-11-02</td>\n",
       "      <td>2020-11-02</td>\n",
       "      <td>7794.0</td>\n",
       "    </tr>\n",
       "    <tr>\n",
       "      <th>11</th>\n",
       "      <td>2994</td>\n",
       "      <td>8</td>\n",
       "      <td>Μέσω Στοχευμένων Ελέγχων</td>\n",
       "      <td>ΑΚΡΟΔΕΚΤΕΣ</td>\n",
       "      <td>2018-06-29</td>\n",
       "      <td>2018-06-29</td>\n",
       "      <td>2018-06-29</td>\n",
       "      <td>10160.0</td>\n",
       "    </tr>\n",
       "    <tr>\n",
       "      <th>12</th>\n",
       "      <td>3417</td>\n",
       "      <td>5</td>\n",
       "      <td>Μέσω Λοιπών Εργασιών &amp; Συντήρησης</td>\n",
       "      <td>ΑΓΝΩΣΤΟ</td>\n",
       "      <td>2018-02-22</td>\n",
       "      <td>2018-02-22</td>\n",
       "      <td>2018-02-22</td>\n",
       "      <td>55549.0</td>\n",
       "    </tr>\n",
       "    <tr>\n",
       "      <th>13</th>\n",
       "      <td>491053</td>\n",
       "      <td>2</td>\n",
       "      <td>Μέσω Λοιπών Εργασιών &amp; Συντήρησης</td>\n",
       "      <td>ΑΓΝΩΣΤΟ</td>\n",
       "      <td>2021-11-02</td>\n",
       "      <td>2021-02-11</td>\n",
       "      <td>2021-02-11</td>\n",
       "      <td>NaN</td>\n",
       "    </tr>\n",
       "    <tr>\n",
       "      <th>14</th>\n",
       "      <td>491054</td>\n",
       "      <td>6</td>\n",
       "      <td>Μέσω Καταμέτρησης (ΔΑΚ)</td>\n",
       "      <td>ΑΚΡΟΔΕΚΤΕΣ</td>\n",
       "      <td>2018-01-19</td>\n",
       "      <td>2018-02-11</td>\n",
       "      <td>2018-02-11</td>\n",
       "      <td>8117.0</td>\n",
       "    </tr>\n",
       "    <tr>\n",
       "      <th>15</th>\n",
       "      <td>491054</td>\n",
       "      <td>6</td>\n",
       "      <td>Μέσω Λοιπών Εργασιών &amp; Συντήρησης</td>\n",
       "      <td>ΑΓΝΩΣΤΟ</td>\n",
       "      <td>2019-02-05</td>\n",
       "      <td>2019-02-05</td>\n",
       "      <td>2019-02-05</td>\n",
       "      <td>0.0</td>\n",
       "    </tr>\n",
       "  </tbody>\n",
       "</table>\n",
       "</div>"
      ],
      "text/plain": [
       "    ACCT_NBR  SUCCESSOR                  ΤΡΟΠΟΣ_ΕΝΤΟΠΙΣΜΟΥ  \\\n",
       "0        416          3  Μέσω Λοιπών Εργασιών & Συντήρησης   \n",
       "1        678          8            Μέσω Καταμέτρησης (ΔΑΚ)   \n",
       "2        957          2  Μέσω Λοιπών Εργασιών & Συντήρησης   \n",
       "3      20201          2  Μέσω Λοιπών Εργασιών & Συντήρησης   \n",
       "4       2140          5  Μέσω Λοιπών Εργασιών & Συντήρησης   \n",
       "5       2140          5  Μέσω Λοιπών Εργασιών & Συντήρησης   \n",
       "6       2333          3  Μέσω Λοιπών Εργασιών & Συντήρησης   \n",
       "7       2437          4  Μέσω Λοιπών Εργασιών & Συντήρησης   \n",
       "8       2497          1  Μέσω Λοιπών Εργασιών & Συντήρησης   \n",
       "9       2645          3            Μέσω Καταμέτρησης (ΔΑΚ)   \n",
       "10      2687          2  Μέσω Λοιπών Εργασιών & Συντήρησης   \n",
       "11      2994          8           Μέσω Στοχευμένων Ελέγχων   \n",
       "12      3417          5  Μέσω Λοιπών Εργασιών & Συντήρησης   \n",
       "13    491053          2  Μέσω Λοιπών Εργασιών & Συντήρησης   \n",
       "14    491054          6            Μέσω Καταμέτρησης (ΔΑΚ)   \n",
       "15    491054          6  Μέσω Λοιπών Εργασιών & Συντήρησης   \n",
       "\n",
       "      ΣΗΜΕΙΟ_ΕΝΤΟΠΙΣΜΟΥ     HMANAF INITIAL_DETECTION_DATE DETECTION_DATE  \\\n",
       "0               ΑΓΝΩΣΤΟ 2018-03-01             2018-01-03     2018-01-03   \n",
       "1            ΑΚΡΟΔΕΚΤΕΣ 2018-08-16             2018-11-01     2018-11-01   \n",
       "2   ΜΗΧΑΝΙΣΜΟΣ ΜΕΤΡΗΣΗΣ 2018-12-05             2018-12-18     2018-12-18   \n",
       "3            ΑΚΡΟΔΕΚΤΕΣ 2017-01-19             2017-01-30     2017-01-30   \n",
       "4               ΑΓΝΩΣΤΟ 2019-05-29             2019-05-29     2019-05-29   \n",
       "5               ΑΓΝΩΣΤΟ 2019-05-29             2019-05-29     2019-05-29   \n",
       "6   ΜΗΧΑΝΙΣΜΟΣ ΜΕΤΡΗΣΗΣ 2018-05-16             2021-05-19     2021-05-19   \n",
       "7            ΑΚΡΟΔΕΚΤΕΣ 2019-09-10             2019-11-18     2019-11-18   \n",
       "8            ΑΚΡΟΔΕΚΤΕΣ 2018-08-14             2018-10-22     2018-10-22   \n",
       "9            ΑΚΡΟΔΕΚΤΕΣ 2019-03-18             2019-06-12     2019-06-12   \n",
       "10           ΑΚΡΟΔΕΚΤΕΣ 2020-01-13             2020-11-02     2020-11-02   \n",
       "11           ΑΚΡΟΔΕΚΤΕΣ 2018-06-29             2018-06-29     2018-06-29   \n",
       "12              ΑΓΝΩΣΤΟ 2018-02-22             2018-02-22     2018-02-22   \n",
       "13              ΑΓΝΩΣΤΟ 2021-11-02             2021-02-11     2021-02-11   \n",
       "14           ΑΚΡΟΔΕΚΤΕΣ 2018-01-19             2018-02-11     2018-02-11   \n",
       "15              ΑΓΝΩΣΤΟ 2019-02-05             2019-02-05     2019-02-05   \n",
       "\n",
       "    NON_REGISTERED_ENERGY  \n",
       "0                  1283.0  \n",
       "1                   640.0  \n",
       "2                  4665.0  \n",
       "3                     NaN  \n",
       "4                  1049.0  \n",
       "5                   236.0  \n",
       "6                  9242.0  \n",
       "7                  3015.0  \n",
       "8                     NaN  \n",
       "9                     NaN  \n",
       "10                 7794.0  \n",
       "11                10160.0  \n",
       "12                55549.0  \n",
       "13                    NaN  \n",
       "14                 8117.0  \n",
       "15                    0.0  "
      ]
     },
     "execution_count": 74,
     "metadata": {},
     "output_type": "execute_result"
    }
   ],
   "source": [
    "tmp_df3.head(16)"
   ]
  },
  {
   "cell_type": "code",
   "execution_count": 75,
   "id": "45b065ba",
   "metadata": {},
   "outputs": [
    {
     "data": {
      "text/plain": [
       "ACCT_NBR                           int64\n",
       "SUCCESSOR                          int64\n",
       "ΤΡΟΠΟΣ_ΕΝΤΟΠΙΣΜΟΥ                 object\n",
       "ΣΗΜΕΙΟ_ΕΝΤΟΠΙΣΜΟΥ                 object\n",
       "HMANAF                    datetime64[ns]\n",
       "INITIAL_DETECTION_DATE    datetime64[ns]\n",
       "DETECTION_DATE            datetime64[ns]\n",
       "NON_REGISTERED_ENERGY            float64\n",
       "dtype: object"
      ]
     },
     "execution_count": 75,
     "metadata": {},
     "output_type": "execute_result"
    }
   ],
   "source": [
    "tmp_df3.dtypes"
   ]
  },
  {
   "cell_type": "code",
   "execution_count": null,
   "id": "2c68c6ad",
   "metadata": {},
   "outputs": [],
   "source": []
  },
  {
   "cell_type": "code",
   "execution_count": 76,
   "id": "b393a4a3",
   "metadata": {},
   "outputs": [],
   "source": [
    "tmp_df3.to_csv(\"TRAIN_PowerThefts.csv\", index=False)"
   ]
  },
  {
   "cell_type": "code",
   "execution_count": null,
   "id": "a2a8c2e2",
   "metadata": {},
   "outputs": [],
   "source": []
  },
  {
   "cell_type": "code",
   "execution_count": null,
   "id": "9f2a6afa",
   "metadata": {},
   "outputs": [],
   "source": []
  },
  {
   "cell_type": "code",
   "execution_count": null,
   "id": "d3d2f1da",
   "metadata": {},
   "outputs": [],
   "source": []
  },
  {
   "cell_type": "code",
   "execution_count": null,
   "id": "35822193",
   "metadata": {},
   "outputs": [],
   "source": []
  },
  {
   "cell_type": "code",
   "execution_count": 77,
   "id": "aee16001",
   "metadata": {},
   "outputs": [],
   "source": [
    "df4 = pd.read_csv(\"../dataset/Representations_TRAIN.csv\", sep=\"|\")"
   ]
  },
  {
   "cell_type": "code",
   "execution_count": 78,
   "id": "83fa7a1a",
   "metadata": {},
   "outputs": [
    {
     "data": {
      "text/html": [
       "<div>\n",
       "<style scoped>\n",
       "    .dataframe tbody tr th:only-of-type {\n",
       "        vertical-align: middle;\n",
       "    }\n",
       "\n",
       "    .dataframe tbody tr th {\n",
       "        vertical-align: top;\n",
       "    }\n",
       "\n",
       "    .dataframe thead th {\n",
       "        text-align: right;\n",
       "    }\n",
       "</style>\n",
       "<table border=\"1\" class=\"dataframe\">\n",
       "  <thead>\n",
       "    <tr style=\"text-align: right;\">\n",
       "      <th></th>\n",
       "      <th>ACCT_NBR</th>\n",
       "      <th>SUCCESSOR</th>\n",
       "      <th>SUPPLIER</th>\n",
       "      <th>SUPPLIER_TO</th>\n",
       "      <th>START_DATE</th>\n",
       "      <th>END_DATE</th>\n",
       "    </tr>\n",
       "  </thead>\n",
       "  <tbody>\n",
       "    <tr>\n",
       "      <th>0</th>\n",
       "      <td>000A31FE38C6F648845941B642E287FE0200000043989C...</td>\n",
       "      <td>4</td>\n",
       "      <td>W</td>\n",
       "      <td>NaN</td>\n",
       "      <td>2017-04-04</td>\n",
       "      <td>2022-07-19</td>\n",
       "    </tr>\n",
       "    <tr>\n",
       "      <th>1</th>\n",
       "      <td>000A31FE38C6F648845941B642E287FE020000004398BA...</td>\n",
       "      <td>1</td>\n",
       "      <td>Δ</td>\n",
       "      <td>NaN</td>\n",
       "      <td>1995-10-18</td>\n",
       "      <td>1999-12-22</td>\n",
       "    </tr>\n",
       "    <tr>\n",
       "      <th>2</th>\n",
       "      <td>000A31FE38C6F648845941B642E287FE020000004398BA...</td>\n",
       "      <td>4</td>\n",
       "      <td>Δ</td>\n",
       "      <td>Δ</td>\n",
       "      <td>2019-11-06</td>\n",
       "      <td>2020-06-23</td>\n",
       "    </tr>\n",
       "    <tr>\n",
       "      <th>3</th>\n",
       "      <td>000A31FE38C6F648845941B642E287FE020000004398BA...</td>\n",
       "      <td>5</td>\n",
       "      <td>Δ</td>\n",
       "      <td>NaN</td>\n",
       "      <td>2020-06-23</td>\n",
       "      <td>2022-09-16</td>\n",
       "    </tr>\n",
       "    <tr>\n",
       "      <th>4</th>\n",
       "      <td>000A31FE38C6F648845941B642E287FE020000004398BD...</td>\n",
       "      <td>1</td>\n",
       "      <td>Δ</td>\n",
       "      <td>Δ</td>\n",
       "      <td>1995-10-15</td>\n",
       "      <td>2000-01-13</td>\n",
       "    </tr>\n",
       "  </tbody>\n",
       "</table>\n",
       "</div>"
      ],
      "text/plain": [
       "                                            ACCT_NBR  SUCCESSOR SUPPLIER  \\\n",
       "0  000A31FE38C6F648845941B642E287FE0200000043989C...          4        W   \n",
       "1  000A31FE38C6F648845941B642E287FE020000004398BA...          1        Δ   \n",
       "2  000A31FE38C6F648845941B642E287FE020000004398BA...          4        Δ   \n",
       "3  000A31FE38C6F648845941B642E287FE020000004398BA...          5        Δ   \n",
       "4  000A31FE38C6F648845941B642E287FE020000004398BD...          1        Δ   \n",
       "\n",
       "  SUPPLIER_TO  START_DATE    END_DATE  \n",
       "0         NaN  2017-04-04  2022-07-19  \n",
       "1         NaN  1995-10-18  1999-12-22  \n",
       "2           Δ  2019-11-06  2020-06-23  \n",
       "3         NaN  2020-06-23  2022-09-16  \n",
       "4           Δ  1995-10-15  2000-01-13  "
      ]
     },
     "execution_count": 78,
     "metadata": {},
     "output_type": "execute_result"
    }
   ],
   "source": [
    "df4.head()"
   ]
  },
  {
   "cell_type": "code",
   "execution_count": 79,
   "id": "61204ed4",
   "metadata": {},
   "outputs": [
    {
     "data": {
      "text/plain": [
       "492339"
      ]
     },
     "execution_count": 79,
     "metadata": {},
     "output_type": "execute_result"
    }
   ],
   "source": [
    "df4.ACCT_NBR.nunique()"
   ]
  },
  {
   "cell_type": "code",
   "execution_count": 80,
   "id": "7ee4eeaf",
   "metadata": {},
   "outputs": [
    {
     "data": {
      "text/plain": [
       "ACCT_NBR       object\n",
       "SUCCESSOR       int64\n",
       "SUPPLIER       object\n",
       "SUPPLIER_TO    object\n",
       "START_DATE     object\n",
       "END_DATE       object\n",
       "dtype: object"
      ]
     },
     "execution_count": 80,
     "metadata": {},
     "output_type": "execute_result"
    }
   ],
   "source": [
    "df4.dtypes"
   ]
  },
  {
   "cell_type": "code",
   "execution_count": 81,
   "id": "88ad07a4",
   "metadata": {},
   "outputs": [
    {
     "data": {
      "text/plain": [
       "1915"
      ]
     },
     "execution_count": 81,
     "metadata": {},
     "output_type": "execute_result"
    }
   ],
   "source": [
    "df4_filtered = df4[~df4['ACCT_NBR'].isin(acct_nbr_to_id.keys())]\n",
    "len(df4_filtered)"
   ]
  },
  {
   "cell_type": "code",
   "execution_count": 82,
   "id": "588cc5e3",
   "metadata": {},
   "outputs": [
    {
     "data": {
      "text/plain": [
       "1914"
      ]
     },
     "execution_count": 82,
     "metadata": {},
     "output_type": "execute_result"
    }
   ],
   "source": [
    "df4_filtered.ACCT_NBR.nunique()"
   ]
  },
  {
   "cell_type": "code",
   "execution_count": 83,
   "id": "2346955a",
   "metadata": {},
   "outputs": [],
   "source": [
    "unique_acct_nbrs = df4['ACCT_NBR'].unique().tolist()"
   ]
  },
  {
   "cell_type": "code",
   "execution_count": 84,
   "id": "685d900b",
   "metadata": {},
   "outputs": [
    {
     "name": "stdout",
     "output_type": "stream",
     "text": [
      "1914\n"
     ]
    }
   ],
   "source": [
    "i=0\n",
    "for acct_nbr in unique_acct_nbrs:\n",
    "    if acct_nbr not in acct_nbr_to_id:\n",
    "        i+=1\n",
    "        new_id = max(acct_nbr_to_id.values()) + 1\n",
    "        acct_nbr_to_id[acct_nbr] = new_id\n",
    "print(i)"
   ]
  },
  {
   "cell_type": "code",
   "execution_count": 85,
   "id": "87793bc2",
   "metadata": {},
   "outputs": [
    {
     "data": {
      "text/plain": [
       "493073"
      ]
     },
     "execution_count": 85,
     "metadata": {},
     "output_type": "execute_result"
    }
   ],
   "source": [
    "len(acct_nbr_to_id)"
   ]
  },
  {
   "cell_type": "code",
   "execution_count": 86,
   "id": "9c7c32cd",
   "metadata": {},
   "outputs": [],
   "source": [
    "df4['ACCT_NBR'] = df4['ACCT_NBR'].map(acct_nbr_to_id)"
   ]
  },
  {
   "cell_type": "code",
   "execution_count": 87,
   "id": "01defe8d",
   "metadata": {},
   "outputs": [
    {
     "data": {
      "text/html": [
       "<div>\n",
       "<style scoped>\n",
       "    .dataframe tbody tr th:only-of-type {\n",
       "        vertical-align: middle;\n",
       "    }\n",
       "\n",
       "    .dataframe tbody tr th {\n",
       "        vertical-align: top;\n",
       "    }\n",
       "\n",
       "    .dataframe thead th {\n",
       "        text-align: right;\n",
       "    }\n",
       "</style>\n",
       "<table border=\"1\" class=\"dataframe\">\n",
       "  <thead>\n",
       "    <tr style=\"text-align: right;\">\n",
       "      <th></th>\n",
       "      <th>ACCT_NBR</th>\n",
       "      <th>SUCCESSOR</th>\n",
       "      <th>SUPPLIER</th>\n",
       "      <th>SUPPLIER_TO</th>\n",
       "      <th>START_DATE</th>\n",
       "      <th>END_DATE</th>\n",
       "    </tr>\n",
       "  </thead>\n",
       "  <tbody>\n",
       "    <tr>\n",
       "      <th>0</th>\n",
       "      <td>123622</td>\n",
       "      <td>4</td>\n",
       "      <td>W</td>\n",
       "      <td>NaN</td>\n",
       "      <td>2017-04-04</td>\n",
       "      <td>2022-07-19</td>\n",
       "    </tr>\n",
       "    <tr>\n",
       "      <th>1</th>\n",
       "      <td>123623</td>\n",
       "      <td>1</td>\n",
       "      <td>Δ</td>\n",
       "      <td>NaN</td>\n",
       "      <td>1995-10-18</td>\n",
       "      <td>1999-12-22</td>\n",
       "    </tr>\n",
       "    <tr>\n",
       "      <th>2</th>\n",
       "      <td>123623</td>\n",
       "      <td>4</td>\n",
       "      <td>Δ</td>\n",
       "      <td>Δ</td>\n",
       "      <td>2019-11-06</td>\n",
       "      <td>2020-06-23</td>\n",
       "    </tr>\n",
       "    <tr>\n",
       "      <th>3</th>\n",
       "      <td>123623</td>\n",
       "      <td>5</td>\n",
       "      <td>Δ</td>\n",
       "      <td>NaN</td>\n",
       "      <td>2020-06-23</td>\n",
       "      <td>2022-09-16</td>\n",
       "    </tr>\n",
       "    <tr>\n",
       "      <th>4</th>\n",
       "      <td>123624</td>\n",
       "      <td>1</td>\n",
       "      <td>Δ</td>\n",
       "      <td>Δ</td>\n",
       "      <td>1995-10-15</td>\n",
       "      <td>2000-01-13</td>\n",
       "    </tr>\n",
       "  </tbody>\n",
       "</table>\n",
       "</div>"
      ],
      "text/plain": [
       "   ACCT_NBR  SUCCESSOR SUPPLIER SUPPLIER_TO  START_DATE    END_DATE\n",
       "0    123622          4        W         NaN  2017-04-04  2022-07-19\n",
       "1    123623          1        Δ         NaN  1995-10-18  1999-12-22\n",
       "2    123623          4        Δ           Δ  2019-11-06  2020-06-23\n",
       "3    123623          5        Δ         NaN  2020-06-23  2022-09-16\n",
       "4    123624          1        Δ           Δ  1995-10-15  2000-01-13"
      ]
     },
     "execution_count": 87,
     "metadata": {},
     "output_type": "execute_result"
    }
   ],
   "source": [
    "df4.head()"
   ]
  },
  {
   "cell_type": "code",
   "execution_count": 88,
   "id": "f6ddac32",
   "metadata": {},
   "outputs": [],
   "source": [
    "df4['START_DATE'] = df4['START_DATE'].apply(parse_date)"
   ]
  },
  {
   "cell_type": "code",
   "execution_count": 89,
   "id": "c1a803e3",
   "metadata": {},
   "outputs": [
    {
     "data": {
      "text/html": [
       "<div>\n",
       "<style scoped>\n",
       "    .dataframe tbody tr th:only-of-type {\n",
       "        vertical-align: middle;\n",
       "    }\n",
       "\n",
       "    .dataframe tbody tr th {\n",
       "        vertical-align: top;\n",
       "    }\n",
       "\n",
       "    .dataframe thead th {\n",
       "        text-align: right;\n",
       "    }\n",
       "</style>\n",
       "<table border=\"1\" class=\"dataframe\">\n",
       "  <thead>\n",
       "    <tr style=\"text-align: right;\">\n",
       "      <th></th>\n",
       "      <th>ACCT_NBR</th>\n",
       "      <th>SUCCESSOR</th>\n",
       "      <th>SUPPLIER</th>\n",
       "      <th>SUPPLIER_TO</th>\n",
       "      <th>START_DATE</th>\n",
       "      <th>END_DATE</th>\n",
       "    </tr>\n",
       "  </thead>\n",
       "  <tbody>\n",
       "    <tr>\n",
       "      <th>0</th>\n",
       "      <td>123622</td>\n",
       "      <td>4</td>\n",
       "      <td>W</td>\n",
       "      <td>NaN</td>\n",
       "      <td>2017-04-04 00:00:00</td>\n",
       "      <td>2022-07-19</td>\n",
       "    </tr>\n",
       "    <tr>\n",
       "      <th>1</th>\n",
       "      <td>123623</td>\n",
       "      <td>1</td>\n",
       "      <td>Δ</td>\n",
       "      <td>NaN</td>\n",
       "      <td>1995-10-18 00:00:00</td>\n",
       "      <td>1999-12-22</td>\n",
       "    </tr>\n",
       "    <tr>\n",
       "      <th>2</th>\n",
       "      <td>123623</td>\n",
       "      <td>4</td>\n",
       "      <td>Δ</td>\n",
       "      <td>Δ</td>\n",
       "      <td>2019-11-06 00:00:00</td>\n",
       "      <td>2020-06-23</td>\n",
       "    </tr>\n",
       "    <tr>\n",
       "      <th>3</th>\n",
       "      <td>123623</td>\n",
       "      <td>5</td>\n",
       "      <td>Δ</td>\n",
       "      <td>NaN</td>\n",
       "      <td>2020-06-23 00:00:00</td>\n",
       "      <td>2022-09-16</td>\n",
       "    </tr>\n",
       "    <tr>\n",
       "      <th>4</th>\n",
       "      <td>123624</td>\n",
       "      <td>1</td>\n",
       "      <td>Δ</td>\n",
       "      <td>Δ</td>\n",
       "      <td>1995-10-15 00:00:00</td>\n",
       "      <td>2000-01-13</td>\n",
       "    </tr>\n",
       "  </tbody>\n",
       "</table>\n",
       "</div>"
      ],
      "text/plain": [
       "   ACCT_NBR  SUCCESSOR SUPPLIER SUPPLIER_TO           START_DATE    END_DATE\n",
       "0    123622          4        W         NaN  2017-04-04 00:00:00  2022-07-19\n",
       "1    123623          1        Δ         NaN  1995-10-18 00:00:00  1999-12-22\n",
       "2    123623          4        Δ           Δ  2019-11-06 00:00:00  2020-06-23\n",
       "3    123623          5        Δ         NaN  2020-06-23 00:00:00  2022-09-16\n",
       "4    123624          1        Δ           Δ  1995-10-15 00:00:00  2000-01-13"
      ]
     },
     "execution_count": 89,
     "metadata": {},
     "output_type": "execute_result"
    }
   ],
   "source": [
    "df4.head()"
   ]
  },
  {
   "cell_type": "code",
   "execution_count": 90,
   "id": "11ad7ef4",
   "metadata": {},
   "outputs": [
    {
     "data": {
      "text/plain": [
       "datetime.datetime(1199, 11, 22, 0, 0)"
      ]
     },
     "execution_count": 90,
     "metadata": {},
     "output_type": "execute_result"
    }
   ],
   "source": [
    "min(df4.START_DATE)"
   ]
  },
  {
   "cell_type": "code",
   "execution_count": 91,
   "id": "ee32add3",
   "metadata": {},
   "outputs": [],
   "source": [
    "tmp_df4 = df4.copy()"
   ]
  },
  {
   "cell_type": "code",
   "execution_count": 92,
   "id": "571510c2",
   "metadata": {},
   "outputs": [],
   "source": [
    "import datetime as dt"
   ]
  },
  {
   "cell_type": "code",
   "execution_count": 93,
   "id": "502a09ba",
   "metadata": {},
   "outputs": [],
   "source": [
    "tmp_df4['START_DATE'] = tmp_df4['START_DATE'].replace(\n",
    "    dt.datetime(1199, 11, 22), dt.datetime(1999, 11, 22)\n",
    ")                                    "
   ]
  },
  {
   "cell_type": "code",
   "execution_count": 94,
   "id": "c9186ab6",
   "metadata": {},
   "outputs": [
    {
     "data": {
      "text/plain": [
       "datetime.datetime(1199, 12, 8, 0, 0)"
      ]
     },
     "execution_count": 94,
     "metadata": {},
     "output_type": "execute_result"
    }
   ],
   "source": [
    "min(tmp_df4.START_DATE)"
   ]
  },
  {
   "cell_type": "code",
   "execution_count": 95,
   "id": "561cd378",
   "metadata": {},
   "outputs": [],
   "source": [
    "tmp_df4['START_DATE'] = tmp_df4['START_DATE'].replace(\n",
    "    dt.datetime(1199, 12, 8), dt.datetime(1999, 12, 8)\n",
    ")  "
   ]
  },
  {
   "cell_type": "code",
   "execution_count": 96,
   "id": "0274a714",
   "metadata": {},
   "outputs": [
    {
     "data": {
      "text/plain": [
       "Timestamp('1983-12-31 00:00:00')"
      ]
     },
     "execution_count": 96,
     "metadata": {},
     "output_type": "execute_result"
    }
   ],
   "source": [
    "min(tmp_df4.START_DATE)"
   ]
  },
  {
   "cell_type": "code",
   "execution_count": 97,
   "id": "65d07589",
   "metadata": {},
   "outputs": [
    {
     "data": {
      "text/html": [
       "<div>\n",
       "<style scoped>\n",
       "    .dataframe tbody tr th:only-of-type {\n",
       "        vertical-align: middle;\n",
       "    }\n",
       "\n",
       "    .dataframe tbody tr th {\n",
       "        vertical-align: top;\n",
       "    }\n",
       "\n",
       "    .dataframe thead th {\n",
       "        text-align: right;\n",
       "    }\n",
       "</style>\n",
       "<table border=\"1\" class=\"dataframe\">\n",
       "  <thead>\n",
       "    <tr style=\"text-align: right;\">\n",
       "      <th></th>\n",
       "      <th>ACCT_NBR</th>\n",
       "      <th>SUCCESSOR</th>\n",
       "      <th>SUPPLIER</th>\n",
       "      <th>SUPPLIER_TO</th>\n",
       "      <th>START_DATE</th>\n",
       "      <th>END_DATE</th>\n",
       "    </tr>\n",
       "  </thead>\n",
       "  <tbody>\n",
       "  </tbody>\n",
       "</table>\n",
       "</div>"
      ],
      "text/plain": [
       "Empty DataFrame\n",
       "Columns: [ACCT_NBR, SUCCESSOR, SUPPLIER, SUPPLIER_TO, START_DATE, END_DATE]\n",
       "Index: []"
      ]
     },
     "execution_count": 97,
     "metadata": {},
     "output_type": "execute_result"
    }
   ],
   "source": [
    "tmp_df4[tmp_df4.START_DATE.isnull()]"
   ]
  },
  {
   "cell_type": "code",
   "execution_count": 98,
   "id": "0128f67a",
   "metadata": {},
   "outputs": [],
   "source": [
    "tmp_df4['END_DATE'] = tmp_df4['END_DATE'].apply(parse_date)"
   ]
  },
  {
   "cell_type": "code",
   "execution_count": 99,
   "id": "ff84e677",
   "metadata": {},
   "outputs": [
    {
     "data": {
      "text/plain": [
       "Timestamp('1995-08-09 00:00:00')"
      ]
     },
     "execution_count": 99,
     "metadata": {},
     "output_type": "execute_result"
    }
   ],
   "source": [
    "min(tmp_df4.END_DATE)"
   ]
  },
  {
   "cell_type": "code",
   "execution_count": 100,
   "id": "fffef9a3",
   "metadata": {},
   "outputs": [
    {
     "data": {
      "text/html": [
       "<div>\n",
       "<style scoped>\n",
       "    .dataframe tbody tr th:only-of-type {\n",
       "        vertical-align: middle;\n",
       "    }\n",
       "\n",
       "    .dataframe tbody tr th {\n",
       "        vertical-align: top;\n",
       "    }\n",
       "\n",
       "    .dataframe thead th {\n",
       "        text-align: right;\n",
       "    }\n",
       "</style>\n",
       "<table border=\"1\" class=\"dataframe\">\n",
       "  <thead>\n",
       "    <tr style=\"text-align: right;\">\n",
       "      <th></th>\n",
       "      <th>ACCT_NBR</th>\n",
       "      <th>SUCCESSOR</th>\n",
       "      <th>SUPPLIER</th>\n",
       "      <th>SUPPLIER_TO</th>\n",
       "      <th>START_DATE</th>\n",
       "      <th>END_DATE</th>\n",
       "    </tr>\n",
       "  </thead>\n",
       "  <tbody>\n",
       "  </tbody>\n",
       "</table>\n",
       "</div>"
      ],
      "text/plain": [
       "Empty DataFrame\n",
       "Columns: [ACCT_NBR, SUCCESSOR, SUPPLIER, SUPPLIER_TO, START_DATE, END_DATE]\n",
       "Index: []"
      ]
     },
     "execution_count": 100,
     "metadata": {},
     "output_type": "execute_result"
    }
   ],
   "source": [
    "tmp_df4[tmp_df4.END_DATE.isnull()]"
   ]
  },
  {
   "cell_type": "code",
   "execution_count": 101,
   "id": "75bdb088",
   "metadata": {},
   "outputs": [
    {
     "data": {
      "text/plain": [
       "ACCT_NBR                int64\n",
       "SUCCESSOR               int64\n",
       "SUPPLIER               object\n",
       "SUPPLIER_TO            object\n",
       "START_DATE     datetime64[ns]\n",
       "END_DATE       datetime64[ns]\n",
       "dtype: object"
      ]
     },
     "execution_count": 101,
     "metadata": {},
     "output_type": "execute_result"
    }
   ],
   "source": [
    "tmp_df4.dtypes"
   ]
  },
  {
   "cell_type": "code",
   "execution_count": 102,
   "id": "f9976385",
   "metadata": {},
   "outputs": [],
   "source": [
    "df4=tmp_df4.copy()"
   ]
  },
  {
   "cell_type": "code",
   "execution_count": 103,
   "id": "32dedc37",
   "metadata": {},
   "outputs": [
    {
     "data": {
      "text/html": [
       "<div>\n",
       "<style scoped>\n",
       "    .dataframe tbody tr th:only-of-type {\n",
       "        vertical-align: middle;\n",
       "    }\n",
       "\n",
       "    .dataframe tbody tr th {\n",
       "        vertical-align: top;\n",
       "    }\n",
       "\n",
       "    .dataframe thead th {\n",
       "        text-align: right;\n",
       "    }\n",
       "</style>\n",
       "<table border=\"1\" class=\"dataframe\">\n",
       "  <thead>\n",
       "    <tr style=\"text-align: right;\">\n",
       "      <th></th>\n",
       "      <th>ACCT_NBR</th>\n",
       "      <th>SUCCESSOR</th>\n",
       "      <th>SUPPLIER</th>\n",
       "      <th>SUPPLIER_TO</th>\n",
       "      <th>START_DATE</th>\n",
       "      <th>END_DATE</th>\n",
       "    </tr>\n",
       "  </thead>\n",
       "  <tbody>\n",
       "    <tr>\n",
       "      <th>0</th>\n",
       "      <td>123622</td>\n",
       "      <td>4</td>\n",
       "      <td>W</td>\n",
       "      <td>NaN</td>\n",
       "      <td>2017-04-04</td>\n",
       "      <td>2022-07-19</td>\n",
       "    </tr>\n",
       "    <tr>\n",
       "      <th>1</th>\n",
       "      <td>123623</td>\n",
       "      <td>1</td>\n",
       "      <td>Δ</td>\n",
       "      <td>NaN</td>\n",
       "      <td>1995-10-18</td>\n",
       "      <td>1999-12-22</td>\n",
       "    </tr>\n",
       "    <tr>\n",
       "      <th>2</th>\n",
       "      <td>123623</td>\n",
       "      <td>4</td>\n",
       "      <td>Δ</td>\n",
       "      <td>Δ</td>\n",
       "      <td>2019-11-06</td>\n",
       "      <td>2020-06-23</td>\n",
       "    </tr>\n",
       "    <tr>\n",
       "      <th>3</th>\n",
       "      <td>123623</td>\n",
       "      <td>5</td>\n",
       "      <td>Δ</td>\n",
       "      <td>NaN</td>\n",
       "      <td>2020-06-23</td>\n",
       "      <td>2022-09-16</td>\n",
       "    </tr>\n",
       "    <tr>\n",
       "      <th>4</th>\n",
       "      <td>123624</td>\n",
       "      <td>1</td>\n",
       "      <td>Δ</td>\n",
       "      <td>Δ</td>\n",
       "      <td>1995-10-15</td>\n",
       "      <td>2000-01-13</td>\n",
       "    </tr>\n",
       "  </tbody>\n",
       "</table>\n",
       "</div>"
      ],
      "text/plain": [
       "   ACCT_NBR  SUCCESSOR SUPPLIER SUPPLIER_TO START_DATE   END_DATE\n",
       "0    123622          4        W         NaN 2017-04-04 2022-07-19\n",
       "1    123623          1        Δ         NaN 1995-10-18 1999-12-22\n",
       "2    123623          4        Δ           Δ 2019-11-06 2020-06-23\n",
       "3    123623          5        Δ         NaN 2020-06-23 2022-09-16\n",
       "4    123624          1        Δ           Δ 1995-10-15 2000-01-13"
      ]
     },
     "execution_count": 103,
     "metadata": {},
     "output_type": "execute_result"
    }
   ],
   "source": [
    "df4.head()"
   ]
  },
  {
   "cell_type": "code",
   "execution_count": 104,
   "id": "4d493e70",
   "metadata": {},
   "outputs": [],
   "source": [
    "df4.to_csv(\"TRAIN_Representations.csv\", index=False)"
   ]
  },
  {
   "cell_type": "code",
   "execution_count": null,
   "id": "d1ae9c5d",
   "metadata": {},
   "outputs": [],
   "source": []
  },
  {
   "cell_type": "code",
   "execution_count": 105,
   "id": "ca34077f",
   "metadata": {},
   "outputs": [],
   "source": [
    "df5 = pd.read_csv(\"../dataset/Requests_TRAIN.csv\", sep=\"|\")"
   ]
  },
  {
   "cell_type": "code",
   "execution_count": 106,
   "id": "db71f32d",
   "metadata": {},
   "outputs": [
    {
     "data": {
      "text/plain": [
       "653066"
      ]
     },
     "execution_count": 106,
     "metadata": {},
     "output_type": "execute_result"
    }
   ],
   "source": [
    "df5.ACCT_NBR.nunique()"
   ]
  },
  {
   "cell_type": "code",
   "execution_count": 107,
   "id": "eaab0553",
   "metadata": {},
   "outputs": [
    {
     "data": {
      "text/plain": [
       "1529521"
      ]
     },
     "execution_count": 107,
     "metadata": {},
     "output_type": "execute_result"
    }
   ],
   "source": [
    "df5_filtered = df5[~df5['ACCT_NBR'].isin(acct_nbr_to_id.keys())]\n",
    "len(df5_filtered)"
   ]
  },
  {
   "cell_type": "code",
   "execution_count": 108,
   "id": "208e6e78",
   "metadata": {},
   "outputs": [
    {
     "data": {
      "text/plain": [
       "426677"
      ]
     },
     "execution_count": 108,
     "metadata": {},
     "output_type": "execute_result"
    }
   ],
   "source": [
    "df5_filtered.ACCT_NBR.nunique()"
   ]
  },
  {
   "cell_type": "code",
   "execution_count": 109,
   "id": "b559db67",
   "metadata": {},
   "outputs": [],
   "source": [
    "unique_acct_nbrs = df5_filtered['ACCT_NBR'].unique().tolist()"
   ]
  },
  {
   "cell_type": "code",
   "execution_count": 115,
   "id": "c36f11d0",
   "metadata": {},
   "outputs": [
    {
     "data": {
      "text/plain": [
       "873101"
      ]
     },
     "execution_count": 115,
     "metadata": {},
     "output_type": "execute_result"
    }
   ],
   "source": [
    "len(acct_nbr_to_id)"
   ]
  },
  {
   "cell_type": "code",
   "execution_count": 116,
   "id": "a651bcf1",
   "metadata": {},
   "outputs": [
    {
     "name": "stdout",
     "output_type": "stream",
     "text": [
      "J 0\n",
      "J 100000\n",
      "J 200000\n",
      "J 300000\n",
      "880000\n",
      "890000\n",
      "J 400000\n",
      "900000\n",
      "910000\n",
      "46649\n"
     ]
    }
   ],
   "source": [
    "i=0\n",
    "for j, acct_nbr in enumerate(unique_acct_nbrs):\n",
    "    if j % 100_000 == 0:\n",
    "        print(\"J\", j)\n",
    "    if acct_nbr not in acct_nbr_to_id:\n",
    "        i+=1\n",
    "        new_id = max(acct_nbr_to_id.values()) + 1\n",
    "        acct_nbr_to_id[acct_nbr] = new_id\n",
    "        if len(acct_nbr_to_id) % 10000 == 0:\n",
    "            print(len(acct_nbr_to_id))\n",
    "print(i)"
   ]
  },
  {
   "cell_type": "code",
   "execution_count": 117,
   "id": "169a3353",
   "metadata": {},
   "outputs": [
    {
     "data": {
      "text/plain": [
       "919750"
      ]
     },
     "execution_count": 117,
     "metadata": {},
     "output_type": "execute_result"
    }
   ],
   "source": [
    "len(acct_nbr_to_id)"
   ]
  },
  {
   "cell_type": "code",
   "execution_count": 118,
   "id": "c5ff028e",
   "metadata": {},
   "outputs": [],
   "source": [
    "df5['ACCT_NBR'] = df5['ACCT_NBR'].map(acct_nbr_to_id)"
   ]
  },
  {
   "cell_type": "code",
   "execution_count": 119,
   "id": "626b2338",
   "metadata": {},
   "outputs": [],
   "source": [
    "df5.to_csv(\"Train_Requests.csv\", index=False)"
   ]
  },
  {
   "cell_type": "code",
   "execution_count": null,
   "id": "d6fade89",
   "metadata": {},
   "outputs": [],
   "source": []
  },
  {
   "cell_type": "code",
   "execution_count": null,
   "id": "d0965e79",
   "metadata": {},
   "outputs": [],
   "source": []
  },
  {
   "cell_type": "code",
   "execution_count": null,
   "id": "10a22248",
   "metadata": {},
   "outputs": [],
   "source": []
  },
  {
   "cell_type": "code",
   "execution_count": 120,
   "id": "0b3c7bb4",
   "metadata": {},
   "outputs": [],
   "source": [
    "with open('acct_nbr_to_id.txt', 'w') as f:\n",
    "     f.write(json.dumps(acct_nbr_to_id))\n",
    "with open('ms_meter_nbr_to_id.txt', 'w') as f:\n",
    "     f.write(json.dumps(mse_meter_nbr_to_id))"
   ]
  },
  {
   "cell_type": "code",
   "execution_count": null,
   "id": "fd851ce1",
   "metadata": {},
   "outputs": [],
   "source": []
  }
 ],
 "metadata": {
  "kernelspec": {
   "display_name": "Python 3 (ipykernel)",
   "language": "python",
   "name": "python3"
  },
  "language_info": {
   "codemirror_mode": {
    "name": "ipython",
    "version": 3
   },
   "file_extension": ".py",
   "mimetype": "text/x-python",
   "name": "python",
   "nbconvert_exporter": "python",
   "pygments_lexer": "ipython3",
   "version": "3.10.9"
  }
 },
 "nbformat": 4,
 "nbformat_minor": 5
}

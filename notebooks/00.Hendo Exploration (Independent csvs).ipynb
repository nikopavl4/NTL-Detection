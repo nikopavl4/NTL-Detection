{
 "cells": [
  {
   "cell_type": "code",
   "execution_count": 1,
   "id": "7dc375a1",
   "metadata": {},
   "outputs": [],
   "source": [
    "import pandas as pd\n",
    "import matplotlib.pyplot as plt\n",
    "import seaborn as sns\n",
    "import numpy as np\n",
    "from dateutil import parser\n",
    "from datetime import datetime\n",
    "import json"
   ]
  },
  {
   "cell_type": "code",
   "execution_count": 2,
   "id": "617b8b5d",
   "metadata": {},
   "outputs": [],
   "source": [
    "df1 = pd.read_csv(\"../dataset/TRAIN_Consumptions.csv\")"
   ]
  },
  {
   "cell_type": "code",
   "execution_count": 3,
   "id": "401fd48b",
   "metadata": {},
   "outputs": [
    {
     "data": {
      "text/html": [
       "<div>\n",
       "<style scoped>\n",
       "    .dataframe tbody tr th:only-of-type {\n",
       "        vertical-align: middle;\n",
       "    }\n",
       "\n",
       "    .dataframe tbody tr th {\n",
       "        vertical-align: top;\n",
       "    }\n",
       "\n",
       "    .dataframe thead th {\n",
       "        text-align: right;\n",
       "    }\n",
       "</style>\n",
       "<table border=\"1\" class=\"dataframe\">\n",
       "  <thead>\n",
       "    <tr style=\"text-align: right;\">\n",
       "      <th></th>\n",
       "      <th>ACCT_NBR</th>\n",
       "      <th>SUCCESSOR</th>\n",
       "      <th>BS_RATE</th>\n",
       "      <th>MS_METER_NBR</th>\n",
       "      <th>CSS_MS_HS_USE</th>\n",
       "      <th>MEASUREMENT_DATE</th>\n",
       "    </tr>\n",
       "  </thead>\n",
       "  <tbody>\n",
       "    <tr>\n",
       "      <th>0</th>\n",
       "      <td>329855</td>\n",
       "      <td>1</td>\n",
       "      <td>13</td>\n",
       "      <td>0</td>\n",
       "      <td>56</td>\n",
       "      <td>2019-08-26</td>\n",
       "    </tr>\n",
       "    <tr>\n",
       "      <th>1</th>\n",
       "      <td>113886</td>\n",
       "      <td>1</td>\n",
       "      <td>11</td>\n",
       "      <td>1</td>\n",
       "      <td>2236</td>\n",
       "      <td>2022-03-10</td>\n",
       "    </tr>\n",
       "    <tr>\n",
       "      <th>2</th>\n",
       "      <td>219271</td>\n",
       "      <td>1</td>\n",
       "      <td>13</td>\n",
       "      <td>2</td>\n",
       "      <td>678</td>\n",
       "      <td>2021-04-20</td>\n",
       "    </tr>\n",
       "    <tr>\n",
       "      <th>3</th>\n",
       "      <td>245307</td>\n",
       "      <td>1</td>\n",
       "      <td>13</td>\n",
       "      <td>3</td>\n",
       "      <td>156</td>\n",
       "      <td>2022-04-27</td>\n",
       "    </tr>\n",
       "    <tr>\n",
       "      <th>4</th>\n",
       "      <td>250806</td>\n",
       "      <td>1</td>\n",
       "      <td>13</td>\n",
       "      <td>4</td>\n",
       "      <td>502</td>\n",
       "      <td>2022-06-03</td>\n",
       "    </tr>\n",
       "  </tbody>\n",
       "</table>\n",
       "</div>"
      ],
      "text/plain": [
       "   ACCT_NBR  SUCCESSOR BS_RATE  MS_METER_NBR  CSS_MS_HS_USE MEASUREMENT_DATE\n",
       "0    329855          1      13             0             56       2019-08-26\n",
       "1    113886          1      11             1           2236       2022-03-10\n",
       "2    219271          1      13             2            678       2021-04-20\n",
       "3    245307          1      13             3            156       2022-04-27\n",
       "4    250806          1      13             4            502       2022-06-03"
      ]
     },
     "execution_count": 3,
     "metadata": {},
     "output_type": "execute_result"
    }
   ],
   "source": [
    "df1.head()"
   ]
  },
  {
   "cell_type": "code",
   "execution_count": 4,
   "id": "04402513",
   "metadata": {},
   "outputs": [
    {
     "data": {
      "text/plain": [
       "9201394"
      ]
     },
     "execution_count": 4,
     "metadata": {},
     "output_type": "execute_result"
    }
   ],
   "source": [
    "len(df1)"
   ]
  },
  {
   "cell_type": "code",
   "execution_count": 5,
   "id": "5038e2ab",
   "metadata": {},
   "outputs": [
    {
     "data": {
      "text/plain": [
       "ACCT_NBR             int64\n",
       "SUCCESSOR            int64\n",
       "BS_RATE             object\n",
       "MS_METER_NBR         int64\n",
       "CSS_MS_HS_USE        int64\n",
       "MEASUREMENT_DATE    object\n",
       "dtype: object"
      ]
     },
     "execution_count": 5,
     "metadata": {},
     "output_type": "execute_result"
    }
   ],
   "source": [
    "df1.dtypes"
   ]
  },
  {
   "cell_type": "code",
   "execution_count": 6,
   "id": "7d316247",
   "metadata": {},
   "outputs": [
    {
     "data": {
      "text/plain": [
       "459826"
      ]
     },
     "execution_count": 6,
     "metadata": {},
     "output_type": "execute_result"
    }
   ],
   "source": [
    "df1.ACCT_NBR.nunique()"
   ]
  },
  {
   "cell_type": "code",
   "execution_count": 7,
   "id": "f9102fb0",
   "metadata": {},
   "outputs": [
    {
     "data": {
      "text/plain": [
       "475643"
      ]
     },
     "execution_count": 7,
     "metadata": {},
     "output_type": "execute_result"
    }
   ],
   "source": [
    "df1.MS_METER_NBR.nunique()"
   ]
  },
  {
   "cell_type": "code",
   "execution_count": 8,
   "id": "4d237363",
   "metadata": {},
   "outputs": [],
   "source": [
    "df1['MEASUREMENT_DATE'] = pd.to_datetime(df1['MEASUREMENT_DATE'])"
   ]
  },
  {
   "cell_type": "code",
   "execution_count": 9,
   "id": "82c200f6",
   "metadata": {},
   "outputs": [
    {
     "data": {
      "text/plain": [
       "(Timestamp('2018-01-01 00:00:00'), Timestamp('2022-10-01 00:00:00'))"
      ]
     },
     "execution_count": 9,
     "metadata": {},
     "output_type": "execute_result"
    }
   ],
   "source": [
    "min(df1['MEASUREMENT_DATE']), max(df1['MEASUREMENT_DATE'])"
   ]
  },
  {
   "cell_type": "code",
   "execution_count": null,
   "id": "b7d1298f",
   "metadata": {},
   "outputs": [],
   "source": []
  },
  {
   "cell_type": "code",
   "execution_count": 10,
   "id": "903d2477",
   "metadata": {},
   "outputs": [],
   "source": [
    "counts = df1.resample('M', on='MEASUREMENT_DATE').count()"
   ]
  },
  {
   "cell_type": "code",
   "execution_count": 11,
   "id": "a224fec3",
   "metadata": {},
   "outputs": [
    {
     "data": {
      "text/html": [
       "<div>\n",
       "<style scoped>\n",
       "    .dataframe tbody tr th:only-of-type {\n",
       "        vertical-align: middle;\n",
       "    }\n",
       "\n",
       "    .dataframe tbody tr th {\n",
       "        vertical-align: top;\n",
       "    }\n",
       "\n",
       "    .dataframe thead th {\n",
       "        text-align: right;\n",
       "    }\n",
       "</style>\n",
       "<table border=\"1\" class=\"dataframe\">\n",
       "  <thead>\n",
       "    <tr style=\"text-align: right;\">\n",
       "      <th></th>\n",
       "      <th>ACCT_NBR</th>\n",
       "      <th>SUCCESSOR</th>\n",
       "      <th>BS_RATE</th>\n",
       "      <th>MS_METER_NBR</th>\n",
       "      <th>CSS_MS_HS_USE</th>\n",
       "    </tr>\n",
       "    <tr>\n",
       "      <th>MEASUREMENT_DATE</th>\n",
       "      <th></th>\n",
       "      <th></th>\n",
       "      <th></th>\n",
       "      <th></th>\n",
       "      <th></th>\n",
       "    </tr>\n",
       "  </thead>\n",
       "  <tbody>\n",
       "    <tr>\n",
       "      <th>2018-01-31</th>\n",
       "      <td>176660</td>\n",
       "      <td>176660</td>\n",
       "      <td>176660</td>\n",
       "      <td>176660</td>\n",
       "      <td>176660</td>\n",
       "    </tr>\n",
       "    <tr>\n",
       "      <th>2018-02-28</th>\n",
       "      <td>161743</td>\n",
       "      <td>161743</td>\n",
       "      <td>161743</td>\n",
       "      <td>161743</td>\n",
       "      <td>161743</td>\n",
       "    </tr>\n",
       "    <tr>\n",
       "      <th>2018-03-31</th>\n",
       "      <td>185364</td>\n",
       "      <td>185364</td>\n",
       "      <td>185364</td>\n",
       "      <td>185364</td>\n",
       "      <td>185364</td>\n",
       "    </tr>\n",
       "    <tr>\n",
       "      <th>2018-04-30</th>\n",
       "      <td>156874</td>\n",
       "      <td>156874</td>\n",
       "      <td>156874</td>\n",
       "      <td>156874</td>\n",
       "      <td>156874</td>\n",
       "    </tr>\n",
       "    <tr>\n",
       "      <th>2018-05-31</th>\n",
       "      <td>165022</td>\n",
       "      <td>165022</td>\n",
       "      <td>165022</td>\n",
       "      <td>165022</td>\n",
       "      <td>165022</td>\n",
       "    </tr>\n",
       "  </tbody>\n",
       "</table>\n",
       "</div>"
      ],
      "text/plain": [
       "                  ACCT_NBR  SUCCESSOR  BS_RATE  MS_METER_NBR  CSS_MS_HS_USE\n",
       "MEASUREMENT_DATE                                                           \n",
       "2018-01-31          176660     176660   176660        176660         176660\n",
       "2018-02-28          161743     161743   161743        161743         161743\n",
       "2018-03-31          185364     185364   185364        185364         185364\n",
       "2018-04-30          156874     156874   156874        156874         156874\n",
       "2018-05-31          165022     165022   165022        165022         165022"
      ]
     },
     "execution_count": 11,
     "metadata": {},
     "output_type": "execute_result"
    }
   ],
   "source": [
    "counts.head()"
   ]
  },
  {
   "cell_type": "code",
   "execution_count": 38,
   "id": "364515b3",
   "metadata": {},
   "outputs": [
    {
     "data": {
      "image/png": "[encoded data removed]",
      "text/plain": [
       "<Figure size 500x300 with 1 Axes>"
      ]
     },
     "metadata": {},
     "output_type": "display_data"
    }
   ],
   "source": [
    "fig, ax = plt.subplots(figsize=(5,3))\n",
    "ax.bar(counts.index.strftime('%Y-%m'), counts['ACCT_NBR'])\n",
    "ax.set_xlabel('Month')\n",
    "ax.set_ylabel('Count')\n",
    "tick_positions = range(len(counts.index))[::4]  # Every third position\n",
    "tick_labels = counts.index.strftime('%Y-%m')[::4]  # Every third label\n",
    "ax.set_xticks(tick_positions)\n",
    "ax.set_xticklabels(tick_labels, rotation=45)\n",
    "plt.tight_layout()\n",
    "plt.savefig('Fig1_counts_per_month.pdf')"
   ]
  },
  {
   "cell_type": "code",
   "execution_count": 13,
   "id": "903fa1cc",
   "metadata": {},
   "outputs": [
    {
     "ename": "NameError",
     "evalue": "name 'ttt' is not defined",
     "output_type": "error",
     "traceback": [
      "\u001b[0;31m---------------------------------------------------------------------------\u001b[0m",
      "\u001b[0;31mNameError\u001b[0m                                 Traceback (most recent call last)",
      "Cell \u001b[0;32mIn[13], line 1\u001b[0m\n\u001b[0;32m----> 1\u001b[0m \u001b[43mttt\u001b[49m\n",
      "\u001b[0;31mNameError\u001b[0m: name 'ttt' is not defined"
     ]
    }
   ],
   "source": [
    "ttt"
   ]
  },
  {
   "cell_type": "code",
   "execution_count": 39,
   "id": "2d0c40ae",
   "metadata": {},
   "outputs": [
    {
     "data": {
      "text/plain": [
       "1     3786024\n",
       "2     2402543\n",
       "3     1217280\n",
       "4      726473\n",
       "5      441745\n",
       "6      267802\n",
       "7      158918\n",
       "8       90341\n",
       "9       50270\n",
       "10      26970\n",
       "11      14657\n",
       "12       8114\n",
       "13       4407\n",
       "14       2334\n",
       "15       1396\n",
       "16        828\n",
       "17        496\n",
       "18        283\n",
       "19        252\n",
       "20        107\n",
       "22         65\n",
       "21         42\n",
       "23         19\n",
       "33         12\n",
       "24          7\n",
       "27          4\n",
       "25          3\n",
       "26          2\n",
       "Name: SUCCESSOR, dtype: int64"
      ]
     },
     "execution_count": 39,
     "metadata": {},
     "output_type": "execute_result"
    }
   ],
   "source": [
    "counts = df1['SUCCESSOR'].value_counts()\n",
    "counts"
   ]
  },
  {
   "cell_type": "code",
   "execution_count": 40,
   "id": "e07c986a",
   "metadata": {},
   "outputs": [
    {
     "data": {
      "image/png": "[encoded data removed]",
      "text/plain": [
       "<Figure size 640x480 with 1 Axes>"
      ]
     },
     "metadata": {},
     "output_type": "display_data"
    }
   ],
   "source": [
    "fig, ax = plt.subplots()\n",
    "ax.bar(counts.index, counts)\n",
    "ax.set_xlabel('SUCCESSOR')\n",
    "ax.set_ylabel('Count')\n",
    "ax.set_title('Counts of SUCCESSOR')\n",
    "plt.show()"
   ]
  },
  {
   "cell_type": "code",
   "execution_count": 41,
   "id": "e6b23b7a",
   "metadata": {},
   "outputs": [
    {
     "data": {
      "text/plain": [
       "(0, 80000141)"
      ]
     },
     "execution_count": 41,
     "metadata": {},
     "output_type": "execute_result"
    }
   ],
   "source": [
    "min(df1['CSS_MS_HS_USE']), max(df1['CSS_MS_HS_USE'])"
   ]
  },
  {
   "cell_type": "code",
   "execution_count": 42,
   "id": "1b3d2b37",
   "metadata": {},
   "outputs": [
    {
     "data": {
      "text/plain": [
       "496215"
      ]
     },
     "execution_count": 42,
     "metadata": {},
     "output_type": "execute_result"
    }
   ],
   "source": [
    "len(df1.loc[df1.CSS_MS_HS_USE >= 3_000])"
   ]
  },
  {
   "cell_type": "code",
   "execution_count": 43,
   "id": "1e22b72f",
   "metadata": {},
   "outputs": [],
   "source": [
    "tmp = df1.loc[df1.CSS_MS_HS_USE < 2_000]\n",
    "tmp = tmp.loc[tmp.CSS_MS_HS_USE > 1]"
   ]
  },
  {
   "cell_type": "code",
   "execution_count": 44,
   "id": "af7d8d40",
   "metadata": {},
   "outputs": [],
   "source": [
    "bin_edges = np.histogram_bin_edges(tmp.CSS_MS_HS_USE, bins='auto')"
   ]
  },
  {
   "cell_type": "code",
   "execution_count": 45,
   "id": "18945e41",
   "metadata": {},
   "outputs": [
    {
     "data": {
      "text/plain": [
       "276"
      ]
     },
     "execution_count": 45,
     "metadata": {},
     "output_type": "execute_result"
    }
   ],
   "source": [
    "len(bin_edges)"
   ]
  },
  {
   "cell_type": "code",
   "execution_count": 46,
   "id": "dcb8c886",
   "metadata": {},
   "outputs": [
    {
     "data": {
      "image/png": "[encoded data removed]",
      "text/plain": [
       "<Figure size 640x480 with 1 Axes>"
      ]
     },
     "metadata": {},
     "output_type": "display_data"
    }
   ],
   "source": [
    "plt.hist(df1['CSS_MS_HS_USE'], bins=bin_edges)\n",
    "plt.xlabel('CSS_MS_HS_USE')\n",
    "plt.ylabel('Count')\n",
    "plt.title('Distribution of CSS_MS_HS_USE')\n",
    "plt.show()"
   ]
  },
  {
   "cell_type": "code",
   "execution_count": null,
   "id": "25b23a7a",
   "metadata": {},
   "outputs": [],
   "source": []
  },
  {
   "cell_type": "code",
   "execution_count": null,
   "id": "1c86b9a9",
   "metadata": {},
   "outputs": [],
   "source": []
  },
  {
   "cell_type": "code",
   "execution_count": 47,
   "id": "bac02e25",
   "metadata": {},
   "outputs": [],
   "source": [
    "df2 = pd.read_csv(\"../dataset/TRAIN_PowerThefts.csv\")"
   ]
  },
  {
   "cell_type": "code",
   "execution_count": 48,
   "id": "87775bd0",
   "metadata": {
    "scrolled": false
   },
   "outputs": [
    {
     "data": {
      "text/html": [
       "<div>\n",
       "<style scoped>\n",
       "    .dataframe tbody tr th:only-of-type {\n",
       "        vertical-align: middle;\n",
       "    }\n",
       "\n",
       "    .dataframe tbody tr th {\n",
       "        vertical-align: top;\n",
       "    }\n",
       "\n",
       "    .dataframe thead th {\n",
       "        text-align: right;\n",
       "    }\n",
       "</style>\n",
       "<table border=\"1\" class=\"dataframe\">\n",
       "  <thead>\n",
       "    <tr style=\"text-align: right;\">\n",
       "      <th></th>\n",
       "      <th>ACCT_NBR</th>\n",
       "      <th>SUCCESSOR</th>\n",
       "      <th>ΤΡΟΠΟΣ_ΕΝΤΟΠΙΣΜΟΥ</th>\n",
       "      <th>ΣΗΜΕΙΟ_ΕΝΤΟΠΙΣΜΟΥ</th>\n",
       "      <th>HMANAF</th>\n",
       "      <th>INITIAL_DETECTION_DATE</th>\n",
       "      <th>DETECTION_DATE</th>\n",
       "      <th>NON_REGISTERED_ENERGY</th>\n",
       "    </tr>\n",
       "  </thead>\n",
       "  <tbody>\n",
       "    <tr>\n",
       "      <th>0</th>\n",
       "      <td>416</td>\n",
       "      <td>3</td>\n",
       "      <td>Μέσω Λοιπών Εργασιών &amp; Συντήρησης</td>\n",
       "      <td>ΑΓΝΩΣΤΟ</td>\n",
       "      <td>2018-03-01</td>\n",
       "      <td>2018-01-03</td>\n",
       "      <td>2018-01-03</td>\n",
       "      <td>1283.0</td>\n",
       "    </tr>\n",
       "    <tr>\n",
       "      <th>1</th>\n",
       "      <td>678</td>\n",
       "      <td>8</td>\n",
       "      <td>Μέσω Καταμέτρησης (ΔΑΚ)</td>\n",
       "      <td>ΑΚΡΟΔΕΚΤΕΣ</td>\n",
       "      <td>2018-08-16</td>\n",
       "      <td>2018-11-01</td>\n",
       "      <td>2018-11-01</td>\n",
       "      <td>640.0</td>\n",
       "    </tr>\n",
       "  </tbody>\n",
       "</table>\n",
       "</div>"
      ],
      "text/plain": [
       "   ACCT_NBR  SUCCESSOR                  ΤΡΟΠΟΣ_ΕΝΤΟΠΙΣΜΟΥ ΣΗΜΕΙΟ_ΕΝΤΟΠΙΣΜΟΥ  \\\n",
       "0       416          3  Μέσω Λοιπών Εργασιών & Συντήρησης           ΑΓΝΩΣΤΟ   \n",
       "1       678          8            Μέσω Καταμέτρησης (ΔΑΚ)        ΑΚΡΟΔΕΚΤΕΣ   \n",
       "\n",
       "       HMANAF INITIAL_DETECTION_DATE DETECTION_DATE  NON_REGISTERED_ENERGY  \n",
       "0  2018-03-01             2018-01-03     2018-01-03                 1283.0  \n",
       "1  2018-08-16             2018-11-01     2018-11-01                  640.0  "
      ]
     },
     "execution_count": 48,
     "metadata": {},
     "output_type": "execute_result"
    }
   ],
   "source": [
    "df2.head(2)"
   ]
  },
  {
   "cell_type": "code",
   "execution_count": null,
   "id": "72c34a95",
   "metadata": {},
   "outputs": [],
   "source": []
  },
  {
   "cell_type": "code",
   "execution_count": 49,
   "id": "9e9d7b2b",
   "metadata": {},
   "outputs": [
    {
     "data": {
      "text/plain": [
       "array(['Μέσω Λοιπών Εργασιών & Συντήρησης', 'Μέσω Καταμέτρησης (ΔΑΚ)',\n",
       "       'Μέσω Στοχευμένων Ελέγχων', 'ΑΓΝΩΣΤΟΣ'], dtype=object)"
      ]
     },
     "execution_count": 49,
     "metadata": {},
     "output_type": "execute_result"
    }
   ],
   "source": [
    "df2.ΤΡΟΠΟΣ_ΕΝΤΟΠΙΣΜΟΥ.unique()"
   ]
  },
  {
   "cell_type": "code",
   "execution_count": 50,
   "id": "2636d605",
   "metadata": {},
   "outputs": [
    {
     "data": {
      "text/plain": [
       "array(['ΑΓΝΩΣΤΟ', 'ΑΚΡΟΔΕΚΤΕΣ', 'ΜΗΧΑΝΙΣΜΟΣ ΜΕΤΡΗΣΗΣ', 'ΚΙΒΩΤΙΟ ΔΟΚΙΜΩΝ',\n",
       "       'ΑΠΕΥΘΕΙΑΣ  ΑΠΟ ΤΟ ΔΙΚΤΥΟ'], dtype=object)"
      ]
     },
     "execution_count": 50,
     "metadata": {},
     "output_type": "execute_result"
    }
   ],
   "source": [
    "df2.ΣΗΜΕΙΟ_ΕΝΤΟΠΙΣΜΟΥ.unique()"
   ]
  },
  {
   "cell_type": "code",
   "execution_count": null,
   "id": "5f3ce796",
   "metadata": {},
   "outputs": [],
   "source": []
  },
  {
   "cell_type": "code",
   "execution_count": 51,
   "id": "43becc71",
   "metadata": {},
   "outputs": [
    {
     "data": {
      "text/plain": [
       "3841"
      ]
     },
     "execution_count": 51,
     "metadata": {},
     "output_type": "execute_result"
    }
   ],
   "source": [
    "len(df2)"
   ]
  },
  {
   "cell_type": "code",
   "execution_count": 52,
   "id": "926daab1",
   "metadata": {},
   "outputs": [
    {
     "data": {
      "text/plain": [
       "3600"
      ]
     },
     "execution_count": 52,
     "metadata": {},
     "output_type": "execute_result"
    }
   ],
   "source": [
    "df2.ACCT_NBR.nunique()"
   ]
  },
  {
   "cell_type": "code",
   "execution_count": 53,
   "id": "a102e754",
   "metadata": {},
   "outputs": [
    {
     "data": {
      "text/plain": [
       "ACCT_NBR                    int64\n",
       "SUCCESSOR                   int64\n",
       "ΤΡΟΠΟΣ_ΕΝΤΟΠΙΣΜΟΥ          object\n",
       "ΣΗΜΕΙΟ_ΕΝΤΟΠΙΣΜΟΥ          object\n",
       "HMANAF                     object\n",
       "INITIAL_DETECTION_DATE     object\n",
       "DETECTION_DATE             object\n",
       "NON_REGISTERED_ENERGY     float64\n",
       "dtype: object"
      ]
     },
     "execution_count": 53,
     "metadata": {},
     "output_type": "execute_result"
    }
   ],
   "source": [
    "df2.dtypes"
   ]
  },
  {
   "cell_type": "code",
   "execution_count": 54,
   "id": "740cfc43",
   "metadata": {},
   "outputs": [
    {
     "name": "stdout",
     "output_type": "stream",
     "text": [
      "<class 'pandas.core.frame.DataFrame'>\n",
      "RangeIndex: 3841 entries, 0 to 3840\n",
      "Data columns (total 8 columns):\n",
      " #   Column                  Non-Null Count  Dtype  \n",
      "---  ------                  --------------  -----  \n",
      " 0   ACCT_NBR                3841 non-null   int64  \n",
      " 1   SUCCESSOR               3841 non-null   int64  \n",
      " 2   ΤΡΟΠΟΣ_ΕΝΤΟΠΙΣΜΟΥ       3841 non-null   object \n",
      " 3   ΣΗΜΕΙΟ_ΕΝΤΟΠΙΣΜΟΥ       3841 non-null   object \n",
      " 4   HMANAF                  3841 non-null   object \n",
      " 5   INITIAL_DETECTION_DATE  3840 non-null   object \n",
      " 6   DETECTION_DATE          3840 non-null   object \n",
      " 7   NON_REGISTERED_ENERGY   2056 non-null   float64\n",
      "dtypes: float64(1), int64(2), object(5)\n",
      "memory usage: 240.2+ KB\n"
     ]
    }
   ],
   "source": [
    "df2.info()"
   ]
  },
  {
   "cell_type": "code",
   "execution_count": 55,
   "id": "e4e5564c",
   "metadata": {},
   "outputs": [],
   "source": [
    "df2['DETECTION_DATE'] = pd.to_datetime(df2['DETECTION_DATE'])"
   ]
  },
  {
   "cell_type": "code",
   "execution_count": 56,
   "id": "f9143b64",
   "metadata": {},
   "outputs": [
    {
     "data": {
      "text/html": [
       "<div>\n",
       "<style scoped>\n",
       "    .dataframe tbody tr th:only-of-type {\n",
       "        vertical-align: middle;\n",
       "    }\n",
       "\n",
       "    .dataframe tbody tr th {\n",
       "        vertical-align: top;\n",
       "    }\n",
       "\n",
       "    .dataframe thead th {\n",
       "        text-align: right;\n",
       "    }\n",
       "</style>\n",
       "<table border=\"1\" class=\"dataframe\">\n",
       "  <thead>\n",
       "    <tr style=\"text-align: right;\">\n",
       "      <th></th>\n",
       "      <th>ACCT_NBR</th>\n",
       "      <th>SUCCESSOR</th>\n",
       "      <th>ΤΡΟΠΟΣ_ΕΝΤΟΠΙΣΜΟΥ</th>\n",
       "      <th>ΣΗΜΕΙΟ_ΕΝΤΟΠΙΣΜΟΥ</th>\n",
       "      <th>HMANAF</th>\n",
       "      <th>INITIAL_DETECTION_DATE</th>\n",
       "      <th>DETECTION_DATE</th>\n",
       "      <th>NON_REGISTERED_ENERGY</th>\n",
       "    </tr>\n",
       "  </thead>\n",
       "  <tbody>\n",
       "    <tr>\n",
       "      <th>0</th>\n",
       "      <td>416</td>\n",
       "      <td>3</td>\n",
       "      <td>Μέσω Λοιπών Εργασιών &amp; Συντήρησης</td>\n",
       "      <td>ΑΓΝΩΣΤΟ</td>\n",
       "      <td>2018-03-01</td>\n",
       "      <td>2018-01-03</td>\n",
       "      <td>2018-01-03</td>\n",
       "      <td>1283.0</td>\n",
       "    </tr>\n",
       "    <tr>\n",
       "      <th>1</th>\n",
       "      <td>678</td>\n",
       "      <td>8</td>\n",
       "      <td>Μέσω Καταμέτρησης (ΔΑΚ)</td>\n",
       "      <td>ΑΚΡΟΔΕΚΤΕΣ</td>\n",
       "      <td>2018-08-16</td>\n",
       "      <td>2018-11-01</td>\n",
       "      <td>2018-11-01</td>\n",
       "      <td>640.0</td>\n",
       "    </tr>\n",
       "    <tr>\n",
       "      <th>2</th>\n",
       "      <td>957</td>\n",
       "      <td>2</td>\n",
       "      <td>Μέσω Λοιπών Εργασιών &amp; Συντήρησης</td>\n",
       "      <td>ΜΗΧΑΝΙΣΜΟΣ ΜΕΤΡΗΣΗΣ</td>\n",
       "      <td>2018-12-05</td>\n",
       "      <td>2018-12-18</td>\n",
       "      <td>2018-12-18</td>\n",
       "      <td>4665.0</td>\n",
       "    </tr>\n",
       "    <tr>\n",
       "      <th>3</th>\n",
       "      <td>20201</td>\n",
       "      <td>2</td>\n",
       "      <td>Μέσω Λοιπών Εργασιών &amp; Συντήρησης</td>\n",
       "      <td>ΑΚΡΟΔΕΚΤΕΣ</td>\n",
       "      <td>2017-01-19</td>\n",
       "      <td>2017-01-30</td>\n",
       "      <td>2017-01-30</td>\n",
       "      <td>NaN</td>\n",
       "    </tr>\n",
       "    <tr>\n",
       "      <th>4</th>\n",
       "      <td>2140</td>\n",
       "      <td>5</td>\n",
       "      <td>Μέσω Λοιπών Εργασιών &amp; Συντήρησης</td>\n",
       "      <td>ΑΓΝΩΣΤΟ</td>\n",
       "      <td>2019-05-29</td>\n",
       "      <td>2019-05-29</td>\n",
       "      <td>2019-05-29</td>\n",
       "      <td>1049.0</td>\n",
       "    </tr>\n",
       "  </tbody>\n",
       "</table>\n",
       "</div>"
      ],
      "text/plain": [
       "   ACCT_NBR  SUCCESSOR                  ΤΡΟΠΟΣ_ΕΝΤΟΠΙΣΜΟΥ  \\\n",
       "0       416          3  Μέσω Λοιπών Εργασιών & Συντήρησης   \n",
       "1       678          8            Μέσω Καταμέτρησης (ΔΑΚ)   \n",
       "2       957          2  Μέσω Λοιπών Εργασιών & Συντήρησης   \n",
       "3     20201          2  Μέσω Λοιπών Εργασιών & Συντήρησης   \n",
       "4      2140          5  Μέσω Λοιπών Εργασιών & Συντήρησης   \n",
       "\n",
       "     ΣΗΜΕΙΟ_ΕΝΤΟΠΙΣΜΟΥ      HMANAF INITIAL_DETECTION_DATE DETECTION_DATE  \\\n",
       "0              ΑΓΝΩΣΤΟ  2018-03-01             2018-01-03     2018-01-03   \n",
       "1           ΑΚΡΟΔΕΚΤΕΣ  2018-08-16             2018-11-01     2018-11-01   \n",
       "2  ΜΗΧΑΝΙΣΜΟΣ ΜΕΤΡΗΣΗΣ  2018-12-05             2018-12-18     2018-12-18   \n",
       "3           ΑΚΡΟΔΕΚΤΕΣ  2017-01-19             2017-01-30     2017-01-30   \n",
       "4              ΑΓΝΩΣΤΟ  2019-05-29             2019-05-29     2019-05-29   \n",
       "\n",
       "   NON_REGISTERED_ENERGY  \n",
       "0                 1283.0  \n",
       "1                  640.0  \n",
       "2                 4665.0  \n",
       "3                    NaN  \n",
       "4                 1049.0  "
      ]
     },
     "execution_count": 56,
     "metadata": {},
     "output_type": "execute_result"
    }
   ],
   "source": [
    "df2.head()"
   ]
  },
  {
   "cell_type": "code",
   "execution_count": 57,
   "id": "521b0f34",
   "metadata": {},
   "outputs": [
    {
     "data": {
      "text/html": [
       "<div>\n",
       "<style scoped>\n",
       "    .dataframe tbody tr th:only-of-type {\n",
       "        vertical-align: middle;\n",
       "    }\n",
       "\n",
       "    .dataframe tbody tr th {\n",
       "        vertical-align: top;\n",
       "    }\n",
       "\n",
       "    .dataframe thead th {\n",
       "        text-align: right;\n",
       "    }\n",
       "</style>\n",
       "<table border=\"1\" class=\"dataframe\">\n",
       "  <thead>\n",
       "    <tr style=\"text-align: right;\">\n",
       "      <th></th>\n",
       "      <th>ACCT_NBR</th>\n",
       "      <th>SUCCESSOR</th>\n",
       "      <th>ΤΡΟΠΟΣ_ΕΝΤΟΠΙΣΜΟΥ</th>\n",
       "      <th>ΣΗΜΕΙΟ_ΕΝΤΟΠΙΣΜΟΥ</th>\n",
       "      <th>HMANAF</th>\n",
       "      <th>INITIAL_DETECTION_DATE</th>\n",
       "      <th>DETECTION_DATE</th>\n",
       "      <th>NON_REGISTERED_ENERGY</th>\n",
       "    </tr>\n",
       "  </thead>\n",
       "  <tbody>\n",
       "    <tr>\n",
       "      <th>3663</th>\n",
       "      <td>491155</td>\n",
       "      <td>3</td>\n",
       "      <td>ΑΓΝΩΣΤΟΣ</td>\n",
       "      <td>ΑΚΡΟΔΕΚΤΕΣ</td>\n",
       "      <td>2022-02-14</td>\n",
       "      <td>NaN</td>\n",
       "      <td>NaT</td>\n",
       "      <td>NaN</td>\n",
       "    </tr>\n",
       "  </tbody>\n",
       "</table>\n",
       "</div>"
      ],
      "text/plain": [
       "      ACCT_NBR  SUCCESSOR ΤΡΟΠΟΣ_ΕΝΤΟΠΙΣΜΟΥ ΣΗΜΕΙΟ_ΕΝΤΟΠΙΣΜΟΥ      HMANAF  \\\n",
       "3663    491155          3          ΑΓΝΩΣΤΟΣ        ΑΚΡΟΔΕΚΤΕΣ  2022-02-14   \n",
       "\n",
       "     INITIAL_DETECTION_DATE DETECTION_DATE  NON_REGISTERED_ENERGY  \n",
       "3663                    NaN            NaT                    NaN  "
      ]
     },
     "execution_count": 57,
     "metadata": {},
     "output_type": "execute_result"
    }
   ],
   "source": [
    "df2[df2.DETECTION_DATE.isnull()]"
   ]
  },
  {
   "cell_type": "code",
   "execution_count": 58,
   "id": "a38f721e",
   "metadata": {},
   "outputs": [
    {
     "data": {
      "text/plain": [
       "2     926\n",
       "3     704\n",
       "1     697\n",
       "4     509\n",
       "5     370\n",
       "6     238\n",
       "7     148\n",
       "8      98\n",
       "9      53\n",
       "10     35\n",
       "11     30\n",
       "12     12\n",
       "13      7\n",
       "14      5\n",
       "16      2\n",
       "18      2\n",
       "15      2\n",
       "19      1\n",
       "17      1\n",
       "21      1\n",
       "Name: SUCCESSOR, dtype: int64"
      ]
     },
     "execution_count": 58,
     "metadata": {},
     "output_type": "execute_result"
    }
   ],
   "source": [
    "counts = df2['SUCCESSOR'].value_counts()\n",
    "counts"
   ]
  },
  {
   "cell_type": "code",
   "execution_count": 59,
   "id": "a6a2377b",
   "metadata": {},
   "outputs": [
    {
     "data": {
      "text/html": [
       "<div>\n",
       "<style scoped>\n",
       "    .dataframe tbody tr th:only-of-type {\n",
       "        vertical-align: middle;\n",
       "    }\n",
       "\n",
       "    .dataframe tbody tr th {\n",
       "        vertical-align: top;\n",
       "    }\n",
       "\n",
       "    .dataframe thead th {\n",
       "        text-align: right;\n",
       "    }\n",
       "</style>\n",
       "<table border=\"1\" class=\"dataframe\">\n",
       "  <thead>\n",
       "    <tr style=\"text-align: right;\">\n",
       "      <th></th>\n",
       "      <th>ACCT_NBR</th>\n",
       "      <th>SUCCESSOR</th>\n",
       "      <th>ΤΡΟΠΟΣ_ΕΝΤΟΠΙΣΜΟΥ</th>\n",
       "      <th>ΣΗΜΕΙΟ_ΕΝΤΟΠΙΣΜΟΥ</th>\n",
       "      <th>HMANAF</th>\n",
       "      <th>INITIAL_DETECTION_DATE</th>\n",
       "      <th>NON_REGISTERED_ENERGY</th>\n",
       "    </tr>\n",
       "    <tr>\n",
       "      <th>DETECTION_DATE</th>\n",
       "      <th></th>\n",
       "      <th></th>\n",
       "      <th></th>\n",
       "      <th></th>\n",
       "      <th></th>\n",
       "      <th></th>\n",
       "      <th></th>\n",
       "    </tr>\n",
       "  </thead>\n",
       "  <tbody>\n",
       "    <tr>\n",
       "      <th>2011-12-31</th>\n",
       "      <td>1</td>\n",
       "      <td>1</td>\n",
       "      <td>1</td>\n",
       "      <td>1</td>\n",
       "      <td>1</td>\n",
       "      <td>1</td>\n",
       "      <td>0</td>\n",
       "    </tr>\n",
       "    <tr>\n",
       "      <th>2012-12-31</th>\n",
       "      <td>6</td>\n",
       "      <td>6</td>\n",
       "      <td>6</td>\n",
       "      <td>6</td>\n",
       "      <td>6</td>\n",
       "      <td>6</td>\n",
       "      <td>0</td>\n",
       "    </tr>\n",
       "    <tr>\n",
       "      <th>2013-12-31</th>\n",
       "      <td>9</td>\n",
       "      <td>9</td>\n",
       "      <td>9</td>\n",
       "      <td>9</td>\n",
       "      <td>9</td>\n",
       "      <td>9</td>\n",
       "      <td>0</td>\n",
       "    </tr>\n",
       "    <tr>\n",
       "      <th>2014-12-31</th>\n",
       "      <td>47</td>\n",
       "      <td>47</td>\n",
       "      <td>47</td>\n",
       "      <td>47</td>\n",
       "      <td>47</td>\n",
       "      <td>47</td>\n",
       "      <td>1</td>\n",
       "    </tr>\n",
       "    <tr>\n",
       "      <th>2015-12-31</th>\n",
       "      <td>171</td>\n",
       "      <td>171</td>\n",
       "      <td>171</td>\n",
       "      <td>171</td>\n",
       "      <td>171</td>\n",
       "      <td>171</td>\n",
       "      <td>14</td>\n",
       "    </tr>\n",
       "  </tbody>\n",
       "</table>\n",
       "</div>"
      ],
      "text/plain": [
       "                ACCT_NBR  SUCCESSOR  ΤΡΟΠΟΣ_ΕΝΤΟΠΙΣΜΟΥ  ΣΗΜΕΙΟ_ΕΝΤΟΠΙΣΜΟΥ  \\\n",
       "DETECTION_DATE                                                              \n",
       "2011-12-31             1          1                  1                  1   \n",
       "2012-12-31             6          6                  6                  6   \n",
       "2013-12-31             9          9                  9                  9   \n",
       "2014-12-31            47         47                 47                 47   \n",
       "2015-12-31           171        171                171                171   \n",
       "\n",
       "                HMANAF  INITIAL_DETECTION_DATE  NON_REGISTERED_ENERGY  \n",
       "DETECTION_DATE                                                         \n",
       "2011-12-31           1                       1                      0  \n",
       "2012-12-31           6                       6                      0  \n",
       "2013-12-31           9                       9                      0  \n",
       "2014-12-31          47                      47                      1  \n",
       "2015-12-31         171                     171                     14  "
      ]
     },
     "execution_count": 59,
     "metadata": {},
     "output_type": "execute_result"
    }
   ],
   "source": [
    "counts = df2.resample('Y', on='DETECTION_DATE').count()\n",
    "counts.head()"
   ]
  },
  {
   "cell_type": "code",
   "execution_count": 65,
   "id": "38731184",
   "metadata": {},
   "outputs": [
    {
     "data": {
      "text/html": [
       "<div>\n",
       "<style scoped>\n",
       "    .dataframe tbody tr th:only-of-type {\n",
       "        vertical-align: middle;\n",
       "    }\n",
       "\n",
       "    .dataframe tbody tr th {\n",
       "        vertical-align: top;\n",
       "    }\n",
       "\n",
       "    .dataframe thead th {\n",
       "        text-align: right;\n",
       "    }\n",
       "</style>\n",
       "<table border=\"1\" class=\"dataframe\">\n",
       "  <thead>\n",
       "    <tr style=\"text-align: right;\">\n",
       "      <th></th>\n",
       "      <th>ACCT_NBR</th>\n",
       "      <th>SUCCESSOR</th>\n",
       "      <th>ΤΡΟΠΟΣ_ΕΝΤΟΠΙΣΜΟΥ</th>\n",
       "      <th>ΣΗΜΕΙΟ_ΕΝΤΟΠΙΣΜΟΥ</th>\n",
       "      <th>HMANAF</th>\n",
       "      <th>INITIAL_DETECTION_DATE</th>\n",
       "      <th>NON_REGISTERED_ENERGY</th>\n",
       "    </tr>\n",
       "    <tr>\n",
       "      <th>DETECTION_DATE</th>\n",
       "      <th></th>\n",
       "      <th></th>\n",
       "      <th></th>\n",
       "      <th></th>\n",
       "      <th></th>\n",
       "      <th></th>\n",
       "      <th></th>\n",
       "    </tr>\n",
       "  </thead>\n",
       "  <tbody>\n",
       "    <tr>\n",
       "      <th>2018-12-31</th>\n",
       "      <td>746</td>\n",
       "      <td>746</td>\n",
       "      <td>746</td>\n",
       "      <td>746</td>\n",
       "      <td>746</td>\n",
       "      <td>746</td>\n",
       "      <td>693</td>\n",
       "    </tr>\n",
       "    <tr>\n",
       "      <th>2019-12-31</th>\n",
       "      <td>624</td>\n",
       "      <td>624</td>\n",
       "      <td>624</td>\n",
       "      <td>624</td>\n",
       "      <td>624</td>\n",
       "      <td>624</td>\n",
       "      <td>496</td>\n",
       "    </tr>\n",
       "    <tr>\n",
       "      <th>2020-12-31</th>\n",
       "      <td>458</td>\n",
       "      <td>458</td>\n",
       "      <td>458</td>\n",
       "      <td>458</td>\n",
       "      <td>458</td>\n",
       "      <td>458</td>\n",
       "      <td>271</td>\n",
       "    </tr>\n",
       "    <tr>\n",
       "      <th>2021-12-31</th>\n",
       "      <td>475</td>\n",
       "      <td>475</td>\n",
       "      <td>475</td>\n",
       "      <td>475</td>\n",
       "      <td>475</td>\n",
       "      <td>475</td>\n",
       "      <td>223</td>\n",
       "    </tr>\n",
       "    <tr>\n",
       "      <th>2022-12-31</th>\n",
       "      <td>438</td>\n",
       "      <td>438</td>\n",
       "      <td>438</td>\n",
       "      <td>438</td>\n",
       "      <td>438</td>\n",
       "      <td>438</td>\n",
       "      <td>36</td>\n",
       "    </tr>\n",
       "  </tbody>\n",
       "</table>\n",
       "</div>"
      ],
      "text/plain": [
       "                ACCT_NBR  SUCCESSOR  ΤΡΟΠΟΣ_ΕΝΤΟΠΙΣΜΟΥ  ΣΗΜΕΙΟ_ΕΝΤΟΠΙΣΜΟΥ  \\\n",
       "DETECTION_DATE                                                              \n",
       "2018-12-31           746        746                746                746   \n",
       "2019-12-31           624        624                624                624   \n",
       "2020-12-31           458        458                458                458   \n",
       "2021-12-31           475        475                475                475   \n",
       "2022-12-31           438        438                438                438   \n",
       "\n",
       "                HMANAF  INITIAL_DETECTION_DATE  NON_REGISTERED_ENERGY  \n",
       "DETECTION_DATE                                                         \n",
       "2018-12-31         746                     746                    693  \n",
       "2019-12-31         624                     624                    496  \n",
       "2020-12-31         458                     458                    271  \n",
       "2021-12-31         475                     475                    223  \n",
       "2022-12-31         438                     438                     36  "
      ]
     },
     "execution_count": 65,
     "metadata": {},
     "output_type": "execute_result"
    }
   ],
   "source": [
    "counts.tail()"
   ]
  },
  {
   "cell_type": "code",
   "execution_count": 63,
   "id": "3aa7edc4",
   "metadata": {},
   "outputs": [
    {
     "data": {
      "image/png": "[encoded data removed]",
      "text/plain": [
       "<Figure size 300x200 with 1 Axes>"
      ]
     },
     "metadata": {},
     "output_type": "display_data"
    }
   ],
   "source": [
    "fig, ax = plt.subplots(figsize=(3,2))\n",
    "ax.bar(counts.index.strftime('%Y-%m'), counts['ACCT_NBR'])\n",
    "ax.set_xlabel('Year')\n",
    "ax.set_ylabel('Count')\n",
    "plt.xticks(rotation=45)\n",
    "plt.show()"
   ]
  },
  {
   "cell_type": "code",
   "execution_count": null,
   "id": "f75f7da6",
   "metadata": {},
   "outputs": [],
   "source": []
  },
  {
   "cell_type": "code",
   "execution_count": null,
   "id": "ff4e1e25",
   "metadata": {},
   "outputs": [],
   "source": []
  },
  {
   "cell_type": "code",
   "execution_count": 66,
   "id": "564db25f",
   "metadata": {},
   "outputs": [],
   "source": [
    "df3 = pd.read_csv(\"../dataset/TRAIN_Records.csv\")"
   ]
  },
  {
   "cell_type": "code",
   "execution_count": 67,
   "id": "1870f30c",
   "metadata": {},
   "outputs": [
    {
     "data": {
      "text/html": [
       "<div>\n",
       "<style scoped>\n",
       "    .dataframe tbody tr th:only-of-type {\n",
       "        vertical-align: middle;\n",
       "    }\n",
       "\n",
       "    .dataframe tbody tr th {\n",
       "        vertical-align: top;\n",
       "    }\n",
       "\n",
       "    .dataframe thead th {\n",
       "        text-align: right;\n",
       "    }\n",
       "</style>\n",
       "<table border=\"1\" class=\"dataframe\">\n",
       "  <thead>\n",
       "    <tr style=\"text-align: right;\">\n",
       "      <th></th>\n",
       "      <th>ACCT_NBR</th>\n",
       "      <th>SUCCESSOR</th>\n",
       "      <th>VOLTAGE</th>\n",
       "      <th>PARNO</th>\n",
       "      <th>XRHSH</th>\n",
       "      <th>CONTRACT_CAPACITY</th>\n",
       "      <th>ACCT_CONTROL</th>\n",
       "      <th>ACCT_WGS84_X</th>\n",
       "      <th>ACCT_WGS84_Y</th>\n",
       "    </tr>\n",
       "  </thead>\n",
       "  <tbody>\n",
       "    <tr>\n",
       "      <th>0</th>\n",
       "      <td>0</td>\n",
       "      <td>1</td>\n",
       "      <td>LOW</td>\n",
       "      <td>0</td>\n",
       "      <td>2</td>\n",
       "      <td>12.0</td>\n",
       "      <td>0</td>\n",
       "      <td>53,422551543686701</td>\n",
       "      <td>19,592757873078753</td>\n",
       "    </tr>\n",
       "    <tr>\n",
       "      <th>1</th>\n",
       "      <td>1</td>\n",
       "      <td>1</td>\n",
       "      <td>LOW</td>\n",
       "      <td>0</td>\n",
       "      <td>2</td>\n",
       "      <td>12.0</td>\n",
       "      <td>0</td>\n",
       "      <td>53,407108521588633</td>\n",
       "      <td>19,569743639932696</td>\n",
       "    </tr>\n",
       "    <tr>\n",
       "      <th>2</th>\n",
       "      <td>1</td>\n",
       "      <td>3</td>\n",
       "      <td>LOW</td>\n",
       "      <td>2</td>\n",
       "      <td>2</td>\n",
       "      <td>25.0</td>\n",
       "      <td>0</td>\n",
       "      <td>53,407108521588633</td>\n",
       "      <td>19,569743639932696</td>\n",
       "    </tr>\n",
       "    <tr>\n",
       "      <th>3</th>\n",
       "      <td>1</td>\n",
       "      <td>4</td>\n",
       "      <td>LOW</td>\n",
       "      <td>2</td>\n",
       "      <td>2</td>\n",
       "      <td>25.0</td>\n",
       "      <td>0</td>\n",
       "      <td>53,407108521588633</td>\n",
       "      <td>19,569743639932696</td>\n",
       "    </tr>\n",
       "    <tr>\n",
       "      <th>4</th>\n",
       "      <td>1</td>\n",
       "      <td>5</td>\n",
       "      <td>LOW</td>\n",
       "      <td>2</td>\n",
       "      <td>2</td>\n",
       "      <td>25.0</td>\n",
       "      <td>0</td>\n",
       "      <td>53,407108521588633</td>\n",
       "      <td>19,569743639932696</td>\n",
       "    </tr>\n",
       "  </tbody>\n",
       "</table>\n",
       "</div>"
      ],
      "text/plain": [
       "   ACCT_NBR  SUCCESSOR VOLTAGE  PARNO  XRHSH  CONTRACT_CAPACITY  ACCT_CONTROL  \\\n",
       "0         0          1     LOW      0      2               12.0             0   \n",
       "1         1          1     LOW      0      2               12.0             0   \n",
       "2         1          3     LOW      2      2               25.0             0   \n",
       "3         1          4     LOW      2      2               25.0             0   \n",
       "4         1          5     LOW      2      2               25.0             0   \n",
       "\n",
       "         ACCT_WGS84_X        ACCT_WGS84_Y  \n",
       "0  53,422551543686701  19,592757873078753  \n",
       "1  53,407108521588633  19,569743639932696  \n",
       "2  53,407108521588633  19,569743639932696  \n",
       "3  53,407108521588633  19,569743639932696  \n",
       "4  53,407108521588633  19,569743639932696  "
      ]
     },
     "execution_count": 67,
     "metadata": {},
     "output_type": "execute_result"
    }
   ],
   "source": [
    "df3.head()"
   ]
  },
  {
   "cell_type": "code",
   "execution_count": 68,
   "id": "427e8040",
   "metadata": {},
   "outputs": [
    {
     "data": {
      "text/plain": [
       "LOW    1233327\n",
       "MED       1182\n",
       "Name: VOLTAGE, dtype: int64"
      ]
     },
     "execution_count": 68,
     "metadata": {},
     "output_type": "execute_result"
    }
   ],
   "source": [
    "df3.VOLTAGE.value_counts()"
   ]
  },
  {
   "cell_type": "code",
   "execution_count": 69,
   "id": "ad5ee607",
   "metadata": {},
   "outputs": [
    {
     "data": {
      "text/plain": [
       "490664"
      ]
     },
     "execution_count": 69,
     "metadata": {},
     "output_type": "execute_result"
    }
   ],
   "source": [
    "df3.ACCT_NBR.nunique()"
   ]
  },
  {
   "cell_type": "code",
   "execution_count": 70,
   "id": "8199740c",
   "metadata": {},
   "outputs": [
    {
     "data": {
      "text/plain": [
       "0    1221098\n",
       "1      12229\n",
       "2       1182\n",
       "Name: ACCT_CONTROL, dtype: int64"
      ]
     },
     "execution_count": 70,
     "metadata": {},
     "output_type": "execute_result"
    }
   ],
   "source": [
    "df3.ACCT_CONTROL.value_counts()"
   ]
  },
  {
   "cell_type": "code",
   "execution_count": 71,
   "id": "e68aba70",
   "metadata": {},
   "outputs": [
    {
     "data": {
      "text/plain": [
       "0    485623\n",
       "1      4571\n",
       "2       470\n",
       "Name: ACCT_CONTROL, dtype: int64"
      ]
     },
     "execution_count": 71,
     "metadata": {},
     "output_type": "execute_result"
    }
   ],
   "source": [
    "df3.drop_duplicates(subset=['ACCT_NBR']).ACCT_CONTROL.value_counts()"
   ]
  },
  {
   "cell_type": "code",
   "execution_count": 72,
   "id": "f639a763",
   "metadata": {},
   "outputs": [
    {
     "data": {
      "text/plain": [
       "0    1221098\n",
       "1      12229\n",
       "2       1182\n",
       "Name: ACCT_CONTROL, dtype: int64"
      ]
     },
     "execution_count": 72,
     "metadata": {},
     "output_type": "execute_result"
    }
   ],
   "source": [
    "df3.ACCT_CONTROL.value_counts()"
   ]
  },
  {
   "cell_type": "code",
   "execution_count": 73,
   "id": "2a0bee43",
   "metadata": {},
   "outputs": [
    {
     "data": {
      "text/plain": [
       "12.0     782696\n",
       "25.0     362046\n",
       "35.0      36498\n",
       "15.0      23658\n",
       "8.0       13272\n",
       "55.0       8811\n",
       "85.0       3564\n",
       "135.0      2665\n",
       "250.0       117\n",
       "Name: CONTRACT_CAPACITY, dtype: int64"
      ]
     },
     "execution_count": 73,
     "metadata": {},
     "output_type": "execute_result"
    }
   ],
   "source": [
    "df3.CONTRACT_CAPACITY.value_counts()"
   ]
  },
  {
   "cell_type": "code",
   "execution_count": 74,
   "id": "fb9cbaae",
   "metadata": {},
   "outputs": [
    {
     "name": "stdout",
     "output_type": "stream",
     "text": [
      "<class 'pandas.core.frame.DataFrame'>\n",
      "RangeIndex: 1234509 entries, 0 to 1234508\n",
      "Data columns (total 9 columns):\n",
      " #   Column             Non-Null Count    Dtype  \n",
      "---  ------             --------------    -----  \n",
      " 0   ACCT_NBR           1234509 non-null  int64  \n",
      " 1   SUCCESSOR          1234509 non-null  int64  \n",
      " 2   VOLTAGE            1234509 non-null  object \n",
      " 3   PARNO              1234509 non-null  int64  \n",
      " 4   XRHSH              1234509 non-null  int64  \n",
      " 5   CONTRACT_CAPACITY  1233327 non-null  float64\n",
      " 6   ACCT_CONTROL       1234509 non-null  int64  \n",
      " 7   ACCT_WGS84_X       1234509 non-null  object \n",
      " 8   ACCT_WGS84_Y       1234509 non-null  object \n",
      "dtypes: float64(1), int64(5), object(3)\n",
      "memory usage: 84.8+ MB\n"
     ]
    }
   ],
   "source": [
    "df3.info()"
   ]
  },
  {
   "cell_type": "code",
   "execution_count": 75,
   "id": "415e0cb7",
   "metadata": {},
   "outputs": [
    {
     "data": {
      "text/plain": [
       "12.0     782696\n",
       "25.0     362046\n",
       "35.0      36498\n",
       "15.0      23658\n",
       "8.0       13272\n",
       "55.0       8811\n",
       "85.0       3564\n",
       "135.0      2665\n",
       "250.0       117\n",
       "Name: CONTRACT_CAPACITY, dtype: int64"
      ]
     },
     "execution_count": 75,
     "metadata": {},
     "output_type": "execute_result"
    }
   ],
   "source": [
    "counts = df3['CONTRACT_CAPACITY'].value_counts()\n",
    "counts"
   ]
  },
  {
   "cell_type": "code",
   "execution_count": 76,
   "id": "fcde6884",
   "metadata": {},
   "outputs": [
    {
     "data": {
      "text/plain": [
       "1    977557\n",
       "2    242154\n",
       "4      9420\n",
       "6      3459\n",
       "5      1208\n",
       "8       631\n",
       "3        49\n",
       "7        31\n",
       "Name: XRHSH, dtype: int64"
      ]
     },
     "execution_count": 76,
     "metadata": {},
     "output_type": "execute_result"
    }
   ],
   "source": [
    "counts = df3['XRHSH'].value_counts()\n",
    "counts"
   ]
  },
  {
   "cell_type": "code",
   "execution_count": null,
   "id": "cd39b376",
   "metadata": {},
   "outputs": [],
   "source": []
  },
  {
   "cell_type": "code",
   "execution_count": null,
   "id": "3888cd78",
   "metadata": {},
   "outputs": [],
   "source": []
  },
  {
   "cell_type": "code",
   "execution_count": 77,
   "id": "2113ce37",
   "metadata": {},
   "outputs": [],
   "source": [
    "df4 = pd.read_csv(\"../dataset/TRAIN_Representations.csv\")"
   ]
  },
  {
   "cell_type": "code",
   "execution_count": 78,
   "id": "e6f52169",
   "metadata": {},
   "outputs": [
    {
     "data": {
      "text/html": [
       "<div>\n",
       "<style scoped>\n",
       "    .dataframe tbody tr th:only-of-type {\n",
       "        vertical-align: middle;\n",
       "    }\n",
       "\n",
       "    .dataframe tbody tr th {\n",
       "        vertical-align: top;\n",
       "    }\n",
       "\n",
       "    .dataframe thead th {\n",
       "        text-align: right;\n",
       "    }\n",
       "</style>\n",
       "<table border=\"1\" class=\"dataframe\">\n",
       "  <thead>\n",
       "    <tr style=\"text-align: right;\">\n",
       "      <th></th>\n",
       "      <th>ACCT_NBR</th>\n",
       "      <th>SUCCESSOR</th>\n",
       "      <th>SUPPLIER</th>\n",
       "      <th>SUPPLIER_TO</th>\n",
       "      <th>START_DATE</th>\n",
       "      <th>END_DATE</th>\n",
       "    </tr>\n",
       "  </thead>\n",
       "  <tbody>\n",
       "    <tr>\n",
       "      <th>0</th>\n",
       "      <td>123622</td>\n",
       "      <td>4</td>\n",
       "      <td>W</td>\n",
       "      <td>NaN</td>\n",
       "      <td>2017-04-04</td>\n",
       "      <td>2022-07-19</td>\n",
       "    </tr>\n",
       "    <tr>\n",
       "      <th>1</th>\n",
       "      <td>123623</td>\n",
       "      <td>1</td>\n",
       "      <td>Δ</td>\n",
       "      <td>NaN</td>\n",
       "      <td>1995-10-18</td>\n",
       "      <td>1999-12-22</td>\n",
       "    </tr>\n",
       "    <tr>\n",
       "      <th>2</th>\n",
       "      <td>123623</td>\n",
       "      <td>4</td>\n",
       "      <td>Δ</td>\n",
       "      <td>Δ</td>\n",
       "      <td>2019-11-06</td>\n",
       "      <td>2020-06-23</td>\n",
       "    </tr>\n",
       "    <tr>\n",
       "      <th>3</th>\n",
       "      <td>123623</td>\n",
       "      <td>5</td>\n",
       "      <td>Δ</td>\n",
       "      <td>NaN</td>\n",
       "      <td>2020-06-23</td>\n",
       "      <td>2022-09-16</td>\n",
       "    </tr>\n",
       "    <tr>\n",
       "      <th>4</th>\n",
       "      <td>123624</td>\n",
       "      <td>1</td>\n",
       "      <td>Δ</td>\n",
       "      <td>Δ</td>\n",
       "      <td>1995-10-15</td>\n",
       "      <td>2000-01-13</td>\n",
       "    </tr>\n",
       "  </tbody>\n",
       "</table>\n",
       "</div>"
      ],
      "text/plain": [
       "   ACCT_NBR  SUCCESSOR SUPPLIER SUPPLIER_TO  START_DATE    END_DATE\n",
       "0    123622          4        W         NaN  2017-04-04  2022-07-19\n",
       "1    123623          1        Δ         NaN  1995-10-18  1999-12-22\n",
       "2    123623          4        Δ           Δ  2019-11-06  2020-06-23\n",
       "3    123623          5        Δ         NaN  2020-06-23  2022-09-16\n",
       "4    123624          1        Δ           Δ  1995-10-15  2000-01-13"
      ]
     },
     "execution_count": 78,
     "metadata": {},
     "output_type": "execute_result"
    }
   ],
   "source": [
    "df4.head()"
   ]
  },
  {
   "cell_type": "code",
   "execution_count": 79,
   "id": "7d739b23",
   "metadata": {},
   "outputs": [
    {
     "name": "stdout",
     "output_type": "stream",
     "text": [
      "<class 'pandas.core.frame.DataFrame'>\n",
      "RangeIndex: 1232180 entries, 0 to 1232179\n",
      "Data columns (total 6 columns):\n",
      " #   Column       Non-Null Count    Dtype \n",
      "---  ------       --------------    ----- \n",
      " 0   ACCT_NBR     1232180 non-null  int64 \n",
      " 1   SUCCESSOR    1232180 non-null  int64 \n",
      " 2   SUPPLIER     1232180 non-null  object\n",
      " 3   SUPPLIER_TO  496905 non-null   object\n",
      " 4   START_DATE   1232180 non-null  object\n",
      " 5   END_DATE     1232180 non-null  object\n",
      "dtypes: int64(2), object(4)\n",
      "memory usage: 56.4+ MB\n"
     ]
    }
   ],
   "source": [
    "df4.info()"
   ]
  },
  {
   "cell_type": "code",
   "execution_count": 80,
   "id": "3b4a2cbe",
   "metadata": {},
   "outputs": [
    {
     "data": {
      "text/plain": [
       "Δ    1010639\n",
       "L      44483\n",
       "W      41297\n",
       "Η      27130\n",
       "C      20165\n",
       "Ω      17011\n",
       "J      16226\n",
       "Κ      16056\n",
       "Σ      14732\n",
       "Ξ       6164\n",
       "R       4145\n",
       "Φ       3559\n",
       "U       1742\n",
       "G       1606\n",
       "V       1486\n",
       "B       1251\n",
       "Λ       1193\n",
       "Z        618\n",
       "e        555\n",
       "1        475\n",
       "2        455\n",
       "3        402\n",
       "4        255\n",
       "θ        183\n",
       "π        104\n",
       "Γ         64\n",
       "S         46\n",
       "Ο         46\n",
       "E         27\n",
       "s         21\n",
       "9         13\n",
       "F         11\n",
       "P          8\n",
       "Τ          6\n",
       "N          5\n",
       "Π          1\n",
       "Name: SUPPLIER, dtype: int64"
      ]
     },
     "execution_count": 80,
     "metadata": {},
     "output_type": "execute_result"
    }
   ],
   "source": [
    "counts = df4['SUPPLIER'].value_counts()\n",
    "counts"
   ]
  },
  {
   "cell_type": "code",
   "execution_count": null,
   "id": "eafe95f5",
   "metadata": {},
   "outputs": [],
   "source": []
  },
  {
   "cell_type": "code",
   "execution_count": null,
   "id": "44f80193",
   "metadata": {},
   "outputs": [],
   "source": []
  },
  {
   "cell_type": "code",
   "execution_count": 81,
   "id": "f354d059",
   "metadata": {},
   "outputs": [],
   "source": [
    "df5 = pd.read_csv(\"../dataset/Train_Requests.csv\")"
   ]
  },
  {
   "cell_type": "code",
   "execution_count": 82,
   "id": "42be5990",
   "metadata": {},
   "outputs": [
    {
     "data": {
      "text/html": [
       "<div>\n",
       "<style scoped>\n",
       "    .dataframe tbody tr th:only-of-type {\n",
       "        vertical-align: middle;\n",
       "    }\n",
       "\n",
       "    .dataframe tbody tr th {\n",
       "        vertical-align: top;\n",
       "    }\n",
       "\n",
       "    .dataframe thead th {\n",
       "        text-align: right;\n",
       "    }\n",
       "</style>\n",
       "<table border=\"1\" class=\"dataframe\">\n",
       "  <thead>\n",
       "    <tr style=\"text-align: right;\">\n",
       "      <th></th>\n",
       "      <th>ACCT_NBR</th>\n",
       "      <th>SUCCESSOR</th>\n",
       "      <th>REQUEST_TYPE</th>\n",
       "      <th>REQUEST_DATE</th>\n",
       "      <th>COMPL_REQUEST_STATUS</th>\n",
       "      <th>COMPLETION_DATE</th>\n",
       "    </tr>\n",
       "  </thead>\n",
       "  <tbody>\n",
       "    <tr>\n",
       "      <th>0</th>\n",
       "      <td>493073</td>\n",
       "      <td>7</td>\n",
       "      <td>recon</td>\n",
       "      <td>2019-02-12</td>\n",
       "      <td>compl</td>\n",
       "      <td>2019-02-13</td>\n",
       "    </tr>\n",
       "    <tr>\n",
       "      <th>1</th>\n",
       "      <td>15120</td>\n",
       "      <td>3</td>\n",
       "      <td>NaN</td>\n",
       "      <td>2015-05-26</td>\n",
       "      <td>compl</td>\n",
       "      <td>2015-05-28</td>\n",
       "    </tr>\n",
       "    <tr>\n",
       "      <th>2</th>\n",
       "      <td>15120</td>\n",
       "      <td>4</td>\n",
       "      <td>NaN</td>\n",
       "      <td>2017-02-06</td>\n",
       "      <td>NaN</td>\n",
       "      <td>2017-03-14</td>\n",
       "    </tr>\n",
       "    <tr>\n",
       "      <th>3</th>\n",
       "      <td>15120</td>\n",
       "      <td>5</td>\n",
       "      <td>discon</td>\n",
       "      <td>2018-06-28</td>\n",
       "      <td>compl</td>\n",
       "      <td>2018-09-27</td>\n",
       "    </tr>\n",
       "    <tr>\n",
       "      <th>4</th>\n",
       "      <td>15120</td>\n",
       "      <td>5</td>\n",
       "      <td>reprChange</td>\n",
       "      <td>2018-09-27</td>\n",
       "      <td>compl</td>\n",
       "      <td>2018-10-02</td>\n",
       "    </tr>\n",
       "  </tbody>\n",
       "</table>\n",
       "</div>"
      ],
      "text/plain": [
       "   ACCT_NBR  SUCCESSOR REQUEST_TYPE REQUEST_DATE COMPL_REQUEST_STATUS  \\\n",
       "0    493073          7        recon   2019-02-12                compl   \n",
       "1     15120          3          NaN   2015-05-26                compl   \n",
       "2     15120          4          NaN   2017-02-06                  NaN   \n",
       "3     15120          5       discon   2018-06-28                compl   \n",
       "4     15120          5   reprChange   2018-09-27                compl   \n",
       "\n",
       "  COMPLETION_DATE  \n",
       "0      2019-02-13  \n",
       "1      2015-05-28  \n",
       "2      2017-03-14  \n",
       "3      2018-09-27  \n",
       "4      2018-10-02  "
      ]
     },
     "execution_count": 82,
     "metadata": {},
     "output_type": "execute_result"
    }
   ],
   "source": [
    "df5.head()"
   ]
  },
  {
   "cell_type": "code",
   "execution_count": 83,
   "id": "b3d191cb",
   "metadata": {},
   "outputs": [
    {
     "data": {
      "text/plain": [
       "2346360"
      ]
     },
     "execution_count": 83,
     "metadata": {},
     "output_type": "execute_result"
    }
   ],
   "source": [
    "len(df5)"
   ]
  },
  {
   "cell_type": "code",
   "execution_count": 84,
   "id": "9032cf3b",
   "metadata": {},
   "outputs": [
    {
     "name": "stdout",
     "output_type": "stream",
     "text": [
      "<class 'pandas.core.frame.DataFrame'>\n",
      "RangeIndex: 2346360 entries, 0 to 2346359\n",
      "Data columns (total 6 columns):\n",
      " #   Column                Dtype \n",
      "---  ------                ----- \n",
      " 0   ACCT_NBR              int64 \n",
      " 1   SUCCESSOR             int64 \n",
      " 2   REQUEST_TYPE          object\n",
      " 3   REQUEST_DATE          object\n",
      " 4   COMPL_REQUEST_STATUS  object\n",
      " 5   COMPLETION_DATE       object\n",
      "dtypes: int64(2), object(4)\n",
      "memory usage: 107.4+ MB\n"
     ]
    }
   ],
   "source": [
    "df5.info()"
   ]
  },
  {
   "cell_type": "code",
   "execution_count": 85,
   "id": "9b6c8135",
   "metadata": {},
   "outputs": [
    {
     "data": {
      "text/plain": [
       "discon        602350\n",
       "reprChange    502863\n",
       "recon         417817\n",
       "reprPause     339523\n",
       "newCon         50791\n",
       "Name: REQUEST_TYPE, dtype: int64"
      ]
     },
     "execution_count": 85,
     "metadata": {},
     "output_type": "execute_result"
    }
   ],
   "source": [
    "counts = df5['REQUEST_TYPE'].value_counts()\n",
    "counts"
   ]
  },
  {
   "cell_type": "code",
   "execution_count": 86,
   "id": "80615111",
   "metadata": {},
   "outputs": [],
   "source": [
    "df5['REQUEST_DATE'] = pd.to_datetime(df5['REQUEST_DATE'])"
   ]
  },
  {
   "cell_type": "code",
   "execution_count": 87,
   "id": "20953bbf",
   "metadata": {},
   "outputs": [
    {
     "data": {
      "text/plain": [
       "(Timestamp('2012-01-09 00:00:00'), Timestamp('2022-10-04 00:00:00'))"
      ]
     },
     "execution_count": 87,
     "metadata": {},
     "output_type": "execute_result"
    }
   ],
   "source": [
    "min(df5['REQUEST_DATE']), max(df5['REQUEST_DATE'])"
   ]
  },
  {
   "cell_type": "code",
   "execution_count": 88,
   "id": "a4db72c4",
   "metadata": {},
   "outputs": [],
   "source": [
    "counts = df5.resample('M', on='REQUEST_DATE').count()"
   ]
  },
  {
   "cell_type": "code",
   "execution_count": 89,
   "id": "f0cfd43c",
   "metadata": {},
   "outputs": [
    {
     "data": {
      "text/html": [
       "<div>\n",
       "<style scoped>\n",
       "    .dataframe tbody tr th:only-of-type {\n",
       "        vertical-align: middle;\n",
       "    }\n",
       "\n",
       "    .dataframe tbody tr th {\n",
       "        vertical-align: top;\n",
       "    }\n",
       "\n",
       "    .dataframe thead th {\n",
       "        text-align: right;\n",
       "    }\n",
       "</style>\n",
       "<table border=\"1\" class=\"dataframe\">\n",
       "  <thead>\n",
       "    <tr style=\"text-align: right;\">\n",
       "      <th></th>\n",
       "      <th>ACCT_NBR</th>\n",
       "      <th>SUCCESSOR</th>\n",
       "      <th>REQUEST_TYPE</th>\n",
       "      <th>COMPL_REQUEST_STATUS</th>\n",
       "      <th>COMPLETION_DATE</th>\n",
       "    </tr>\n",
       "    <tr>\n",
       "      <th>REQUEST_DATE</th>\n",
       "      <th></th>\n",
       "      <th></th>\n",
       "      <th></th>\n",
       "      <th></th>\n",
       "      <th></th>\n",
       "    </tr>\n",
       "  </thead>\n",
       "  <tbody>\n",
       "    <tr>\n",
       "      <th>2012-01-31</th>\n",
       "      <td>193</td>\n",
       "      <td>193</td>\n",
       "      <td>193</td>\n",
       "      <td>1</td>\n",
       "      <td>193</td>\n",
       "    </tr>\n",
       "    <tr>\n",
       "      <th>2012-02-29</th>\n",
       "      <td>1057</td>\n",
       "      <td>1057</td>\n",
       "      <td>58</td>\n",
       "      <td>993</td>\n",
       "      <td>1057</td>\n",
       "    </tr>\n",
       "    <tr>\n",
       "      <th>2012-03-31</th>\n",
       "      <td>3148</td>\n",
       "      <td>3148</td>\n",
       "      <td>79</td>\n",
       "      <td>3020</td>\n",
       "      <td>3148</td>\n",
       "    </tr>\n",
       "    <tr>\n",
       "      <th>2012-04-30</th>\n",
       "      <td>4050</td>\n",
       "      <td>4050</td>\n",
       "      <td>33</td>\n",
       "      <td>3591</td>\n",
       "      <td>4050</td>\n",
       "    </tr>\n",
       "    <tr>\n",
       "      <th>2012-05-31</th>\n",
       "      <td>3369</td>\n",
       "      <td>3369</td>\n",
       "      <td>86</td>\n",
       "      <td>353</td>\n",
       "      <td>3369</td>\n",
       "    </tr>\n",
       "  </tbody>\n",
       "</table>\n",
       "</div>"
      ],
      "text/plain": [
       "              ACCT_NBR  SUCCESSOR  REQUEST_TYPE  COMPL_REQUEST_STATUS  \\\n",
       "REQUEST_DATE                                                            \n",
       "2012-01-31         193        193           193                     1   \n",
       "2012-02-29        1057       1057            58                   993   \n",
       "2012-03-31        3148       3148            79                  3020   \n",
       "2012-04-30        4050       4050            33                  3591   \n",
       "2012-05-31        3369       3369            86                   353   \n",
       "\n",
       "              COMPLETION_DATE  \n",
       "REQUEST_DATE                   \n",
       "2012-01-31                193  \n",
       "2012-02-29               1057  \n",
       "2012-03-31               3148  \n",
       "2012-04-30               4050  \n",
       "2012-05-31               3369  "
      ]
     },
     "execution_count": 89,
     "metadata": {},
     "output_type": "execute_result"
    }
   ],
   "source": [
    "counts.head()"
   ]
  },
  {
   "cell_type": "code",
   "execution_count": 90,
   "id": "4dfa74e4",
   "metadata": {},
   "outputs": [
    {
     "data": {
      "image/png": "[encoded data removed]",
      "text/plain": [
       "<Figure size 2200x1000 with 1 Axes>"
      ]
     },
     "metadata": {},
     "output_type": "display_data"
    }
   ],
   "source": [
    "fig, ax = plt.subplots(figsize=(22,10))\n",
    "ax.bar(counts.index.strftime('%Y-%m'), counts['ACCT_NBR'])\n",
    "ax.set_xlabel('Month')\n",
    "ax.set_ylabel('Count')\n",
    "ax.set_title('Counts per Month')\n",
    "plt.xticks(rotation=90)\n",
    "plt.show()"
   ]
  },
  {
   "cell_type": "code",
   "execution_count": null,
   "id": "24053560",
   "metadata": {},
   "outputs": [],
   "source": []
  },
  {
   "cell_type": "code",
   "execution_count": null,
   "id": "b1c2657b",
   "metadata": {},
   "outputs": [],
   "source": []
  },
  {
   "cell_type": "code",
   "execution_count": 91,
   "id": "b6cb7c8c",
   "metadata": {},
   "outputs": [],
   "source": [
    "from itertools import combinations"
   ]
  },
  {
   "cell_type": "code",
   "execution_count": 92,
   "id": "a1c5a671",
   "metadata": {},
   "outputs": [],
   "source": [
    "dfs = [df1, df2, df3, df4, df5]"
   ]
  },
  {
   "cell_type": "code",
   "execution_count": 93,
   "id": "32cc8ccc",
   "metadata": {},
   "outputs": [
    {
     "data": {
      "text/plain": [
       "[(0, 1),\n",
       " (0, 2),\n",
       " (0, 3),\n",
       " (0, 4),\n",
       " (1, 2),\n",
       " (1, 3),\n",
       " (1, 4),\n",
       " (2, 3),\n",
       " (2, 4),\n",
       " (3, 4)]"
      ]
     },
     "execution_count": 93,
     "metadata": {},
     "output_type": "execute_result"
    }
   ],
   "source": [
    "tt = [0, 1, 2, 3, 4]\n",
    "list(combinations(tt, 2))"
   ]
  },
  {
   "cell_type": "code",
   "execution_count": 94,
   "id": "1cb2f4ec",
   "metadata": {},
   "outputs": [],
   "source": [
    "# [(df1, df2), (df1, df3), (df1, df4), (df1, df5)\n",
    "#  (df2, df3), (df2, df4), (df2, df5),\n",
    "#  (df3, df4), (df3, df5), (df4, df5)]\n",
    "\n",
    "# df1=consumptions, df2 = powertheft, df3=records\n",
    "# df4=representations, df5=requests\n",
    "comb = list(combinations(dfs, 2))"
   ]
  },
  {
   "cell_type": "code",
   "execution_count": 95,
   "id": "c7ae4e4f",
   "metadata": {},
   "outputs": [
    {
     "name": "stdout",
     "output_type": "stream",
     "text": [
      "Combination 0\n",
      "Unique ACCT_NBR in consumptions: 459826\n",
      "Unique ACCT_NBR in the powerthefts: 3600\n",
      "Number of unique ACCT_NBR in consumptions but not in powerthefts: 456417\n",
      "Number of unique ACCT_NBR in powerthefts df but not in consumptions: 191\n",
      "\n",
      "Combination 1\n",
      "Unique ACCT_NBR in consumptions: 459826\n",
      "Unique ACCT_NBR in the representations: 490664\n",
      "Number of unique ACCT_NBR in consumptions but not in representations: 389\n",
      "Number of unique ACCT_NBR in representations df but not in consumptions: 31227\n",
      "\n",
      "Combination 2\n",
      "Unique ACCT_NBR in consumptions: 459826\n",
      "Unique ACCT_NBR in the records: 492339\n",
      "Number of unique ACCT_NBR in consumptions but not in records: 452\n",
      "Number of unique ACCT_NBR in records df but not in consumptions: 32965\n",
      "\n",
      "Combination 3\n",
      "Unique ACCT_NBR in consumptions: 459826\n",
      "Unique ACCT_NBR in the requests: 653066\n",
      "Number of unique ACCT_NBR in consumptions but not in requests: 238217\n",
      "Number of unique ACCT_NBR in requests df but not in consumptions: 431457\n",
      "\n",
      "Combination 4\n",
      "Unique ACCT_NBR in powerthefts: 3600\n",
      "Unique ACCT_NBR in the representations: 490664\n",
      "Number of unique ACCT_NBR in powerthefts but not in representations: 108\n",
      "Number of unique ACCT_NBR in representations df but not in powerthefts: 487172\n",
      "\n",
      "Combination 5\n",
      "Unique ACCT_NBR in powerthefts: 3600\n",
      "Unique ACCT_NBR in the records: 492339\n",
      "Number of unique ACCT_NBR in powerthefts but not in records: 107\n",
      "Number of unique ACCT_NBR in records df but not in powerthefts: 488846\n",
      "\n",
      "Combination 6\n",
      "Unique ACCT_NBR in powerthefts: 3600\n",
      "Unique ACCT_NBR in the requests: 653066\n",
      "Number of unique ACCT_NBR in powerthefts but not in requests: 431\n",
      "Number of unique ACCT_NBR in requests df but not in powerthefts: 649897\n",
      "\n",
      "Combination 7\n",
      "Unique ACCT_NBR in representations: 490664\n",
      "Unique ACCT_NBR in the records: 492339\n",
      "Number of unique ACCT_NBR in representations but not in records: 242\n",
      "Number of unique ACCT_NBR in records df but not in representations: 1917\n",
      "\n",
      "Combination 8\n",
      "Unique ACCT_NBR in representations: 490664\n",
      "Unique ACCT_NBR in the requests: 653066\n",
      "Number of unique ACCT_NBR in representations but not in requests: 264282\n",
      "Number of unique ACCT_NBR in requests df but not in representations: 426684\n",
      "\n",
      "Combination 9\n",
      "Unique ACCT_NBR in records: 492339\n",
      "Unique ACCT_NBR in the requests: 653066\n",
      "Number of unique ACCT_NBR in records but not in requests: 266018\n",
      "Number of unique ACCT_NBR in requests df but not in records: 426745\n",
      "\n"
     ]
    }
   ],
   "source": [
    "for i, c in enumerate(comb):\n",
    "    \n",
    "    tmp1 = c[0]\n",
    "    tmp2 = c[1]\n",
    "    \n",
    "    uniq1 = set(tmp1['ACCT_NBR'].unique())\n",
    "    uniq2 = set(tmp2['ACCT_NBR'].unique())\n",
    "    \n",
    "    diff1 = len(uniq1 - uniq2)\n",
    "    diff2 = len(uniq2 - uniq1)\n",
    "    \n",
    "    if len(uniq1) == 459826:\n",
    "        name1 = \"consumptions\"\n",
    "    elif len(uniq1) == 3600:\n",
    "        name1 = \"powerthefts\"\n",
    "    elif len(uniq1) == 492339:\n",
    "        name1 = \"records\"\n",
    "    elif len(uniq1) == 490664:\n",
    "        name1 = \"representations\"\n",
    "    else:\n",
    "        name1 = \"requests\"\n",
    "        \n",
    "    if len(uniq2) == 459826:\n",
    "        name2 = \"consumptions\"\n",
    "    elif len(uniq2) == 3600:\n",
    "        name2 = \"powerthefts\"\n",
    "    elif len(uniq2) == 492339:\n",
    "        name2 = \"records\"\n",
    "    elif len(uniq2) == 490664:\n",
    "        name2 = \"representations\"\n",
    "    else:\n",
    "        name2 = \"requests\"\n",
    "    \n",
    "    \n",
    "    print(\"Combination\", i)\n",
    "    print(f\"Unique ACCT_NBR in {name1}: {len(uniq1)}\")\n",
    "    print(f\"Unique ACCT_NBR in the {name2}: {len(uniq2)}\")\n",
    "    print(f\"Number of unique ACCT_NBR in {name1} but not in {name2}: {diff1}\")\n",
    "    print(f\"Number of unique ACCT_NBR in {name2} df but not in {name1}: {diff2}\")\n",
    "    print(\"\")"
   ]
  },
  {
   "cell_type": "code",
   "execution_count": null,
   "id": "5e002cf4",
   "metadata": {},
   "outputs": [],
   "source": []
  }
 ],
 "metadata": {
  "kernelspec": {
   "display_name": "Python 3 (ipykernel)",
   "language": "python",
   "name": "python3"
  },
  "language_info": {
   "codemirror_mode": {
    "name": "ipython",
    "version": 3
   },
   "file_extension": ".py",
   "mimetype": "text/x-python",
   "name": "python",
   "nbconvert_exporter": "python",
   "pygments_lexer": "ipython3",
   "version": "3.10.9"
  }
 },
 "nbformat": 4,
 "nbformat_minor": 5
}
